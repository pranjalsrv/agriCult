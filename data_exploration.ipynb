{
 "cells": [
  {
   "cell_type": "code",
   "execution_count": 89,
   "outputs": [],
   "source": [
    "import pandas as pd\n",
    "from datetime import datetime\n",
    "import matplotlib.pyplot as plt\n",
    "import numpy as np\n",
    "import scipy"
   ],
   "metadata": {
    "collapsed": false,
    "pycharm": {
     "name": "#%%\n",
     "is_executing": false
    }
   }
  },
  {
   "cell_type": "code",
   "execution_count": 90,
   "outputs": [],
   "source": [
    "data = pd.read_csv(\"data.csv\")\n",
    "data = data.rename(columns={\"1990\":pd.to_datetime(\"1990\"),\n",
    "                            \"1991\":pd.to_datetime(\"1991\"),\n",
    "                            \"1992\":pd.to_datetime(\"1992\"),\n",
    "                            \"1993\":pd.to_datetime(\"1993\"),\n",
    "                            \"1994\":pd.to_datetime(\"1994\"),\n",
    "                            \"1995\":pd.to_datetime(\"1995\"),\n",
    "                            \"1996\":pd.to_datetime(\"1996\"),\n",
    "                            \"1997\":pd.to_datetime(\"1997\"),\n",
    "                            \"2005\":pd.to_datetime(\"2005\"),\n",
    "                            \"2006\":pd.to_datetime(\"2006\"),\n",
    "                            \"2007\":pd.to_datetime(\"2007\"),\n",
    "                            \"2008\":pd.to_datetime(\"2008\"),})\n",
    "for i in [\"1998\",\"1999\",\"2000\",\"2001\",\"2002\",\"2003\",\"2004\",]:\n",
    "    data[pd.to_datetime(i)] = \"-\" \n",
    "data = data.replace(\"-\",np.nan)"
   ],
   "metadata": {
    "collapsed": false,
    "pycharm": {
     "name": "#%%\n",
     "is_executing": false
    }
   }
  },
  {
   "cell_type": "code",
   "execution_count": 120,
   "outputs": [
    {
     "name": "stdout",
     "text": [
      "The number of derivatives at boundaries does not match: expected 1, got 0+0\n"
     ],
     "output_type": "stream"
    }
   ],
   "source": [
    "df = pd.DataFrame()\n",
    "for index, row in data.iterrows():\n",
    "    try:\n",
    "        df = df.append(row[2:].astype(float).interpolate(method=\"polynomial\", order=2),ignore_index=True)\n",
    "    except Exception as e:\n",
    "        print(e)"
   ],
   "metadata": {
    "collapsed": false,
    "pycharm": {
     "name": "#%%\n",
     "is_executing": false
    }
   }
  },
  {
   "cell_type": "code",
   "execution_count": 125,
   "outputs": [],
   "source": [
    "df[\"Crop\"] = data[\"Crop\"]\n",
    "df[\"State\"] = data[\"State\"]\n",
    "data = df"
   ],
   "metadata": {
    "collapsed": false,
    "pycharm": {
     "name": "#%%\n",
     "is_executing": false
    }
   }
  },
  {
   "cell_type": "code",
   "execution_count": 126,
   "outputs": [],
   "source": [
    "paddy = data.loc[data['Crop']=='Paddy']\n",
    "jowar = data.loc[data['Crop']=='Jowar']\n",
    "bajra = data.loc[data['Crop']=='Bajra']\n",
    "maize = data.loc[data['Crop']=='Maize']\n",
    "ragi = data.loc[data['Crop']=='Ragi']\n",
    "wheat = data.loc[data['Crop']=='Wheat']\n",
    "barley = data.loc[data['Crop']=='Barley']\n",
    "gram = data.loc[data['Crop']=='Gram']\n",
    "urad = data.loc[data['Crop']=='Urad']\n",
    "moong = data.loc[data['Crop']=='Moong']\n",
    "arhar = data.loc[data['Crop']=='Arhar']\n",
    "sunflower = data.loc[data['Crop']=='Sunflower']\n",
    "groundnut = data.loc[data['Crop']=='Groundnut']\n",
    "rapeseed_mustard = data.loc[data['Crop']=='Rapeseed & Mustard']\n",
    "safflower = data.loc[data['Crop']=='Safflower']\n",
    "soyabean = data.loc[data['Crop']=='Soyabean']\n",
    "cotton = data.loc[data['Crop']=='Cotton']\n",
    "onion = data.loc[data['Crop']=='Onion']\n",
    "sugarcane = data.loc[data['Crop']=='Sugercane']\n"
   ],
   "metadata": {
    "collapsed": false,
    "pycharm": {
     "name": "#%%\n",
     "is_executing": false
    }
   }
  },
  {
   "cell_type": "code",
   "execution_count": 127,
   "outputs": [
    {
     "data": {
      "text/plain": "    1990-01-01 00:00:00  1991-01-01 00:00:00  1992-01-01 00:00:00  \\\n51                27.23            22.942000                25.36   \n52                23.03            27.452753                31.80   \n53                  NaN                  NaN                  NaN   \n54                21.12            23.759831                27.37   \n55                  NaN                  NaN                  NaN   \n56                22.34            25.090000                25.07   \n\n    1993-01-01 00:00:00  1994-01-01 00:00:00  1995-01-01 00:00:00  \\\n51            34.518198            43.720000            47.420000   \n52            36.083340            40.360787            45.130000   \n53                  NaN            35.200000            35.212516   \n54            31.964384            35.690000            37.020000   \n55                  NaN            27.950000            34.547092   \n56            34.000000            41.950000            41.970000   \n\n    1996-01-01 00:00:00  1997-01-01 00:00:00  1998-01-01 00:00:00  \\\n51            51.912325            58.265879            66.445943   \n52            50.471512            56.080000            61.602509   \n53            36.900000            40.273963            45.315970   \n54            38.310000            43.590000            51.525959   \n55            40.721715            46.489049            51.817578   \n56            43.510000            43.080000            43.765434   \n\n    1999-01-01 00:00:00  ...  2001-01-01 00:00:00  2002-01-01 00:00:00  \\\n51            76.467353  ...            98.898629           104.939518   \n52            67.054458  ...            77.761130            82.512392   \n53            52.032944  ...            69.855352            76.293072   \n54            61.798196  ...            89.395656           101.832088   \n55            56.723639  ...            65.278902            68.916401   \n56            46.247491  ...            56.620587            62.619601   \n\n    2003-01-01 00:00:00  2004-01-01 00:00:00  2005-01-01 00:00:00  \\\n51           106.487800           103.543476                96.08   \n52            86.215464            88.870346                90.48   \n53            79.104279            78.288972                73.83   \n54           106.902720           104.607553                94.91   \n55            72.131431            74.923993                77.30   \n56            66.659567            68.740486                68.86   \n\n    2006-01-01 00:00:00  2007-01-01 00:00:00  2008-01-01 00:00:00       Crop  \\\n51                 89.0               106.06               119.72  Sugercane   \n52                 92.0                96.92                92.39  Sugercane   \n53                 64.0                48.46                86.53  Sugercane   \n54                 80.0                76.29               107.56  Sugercane   \n55                 78.0                73.45                85.79  Sugercane   \n56                 68.0                73.35                93.64  Sugercane   \n\n             State  \n51  Andhra Pradesh  \n52           Bihar  \n53         Haryana  \n54       Karnataka  \n55     Maharashtra  \n56      Tamil Nadu  \n\n[6 rows x 21 columns]",
      "text/html": "<div>\n<style scoped>\n    .dataframe tbody tr th:only-of-type {\n        vertical-align: middle;\n    }\n\n    .dataframe tbody tr th {\n        vertical-align: top;\n    }\n\n    .dataframe thead th {\n        text-align: right;\n    }\n</style>\n<table border=\"1\" class=\"dataframe\">\n  <thead>\n    <tr style=\"text-align: right;\">\n      <th></th>\n      <th>1990-01-01 00:00:00</th>\n      <th>1991-01-01 00:00:00</th>\n      <th>1992-01-01 00:00:00</th>\n      <th>1993-01-01 00:00:00</th>\n      <th>1994-01-01 00:00:00</th>\n      <th>1995-01-01 00:00:00</th>\n      <th>1996-01-01 00:00:00</th>\n      <th>1997-01-01 00:00:00</th>\n      <th>1998-01-01 00:00:00</th>\n      <th>1999-01-01 00:00:00</th>\n      <th>...</th>\n      <th>2001-01-01 00:00:00</th>\n      <th>2002-01-01 00:00:00</th>\n      <th>2003-01-01 00:00:00</th>\n      <th>2004-01-01 00:00:00</th>\n      <th>2005-01-01 00:00:00</th>\n      <th>2006-01-01 00:00:00</th>\n      <th>2007-01-01 00:00:00</th>\n      <th>2008-01-01 00:00:00</th>\n      <th>Crop</th>\n      <th>State</th>\n    </tr>\n  </thead>\n  <tbody>\n    <tr>\n      <th>51</th>\n      <td>27.23</td>\n      <td>22.942000</td>\n      <td>25.36</td>\n      <td>34.518198</td>\n      <td>43.720000</td>\n      <td>47.420000</td>\n      <td>51.912325</td>\n      <td>58.265879</td>\n      <td>66.445943</td>\n      <td>76.467353</td>\n      <td>...</td>\n      <td>98.898629</td>\n      <td>104.939518</td>\n      <td>106.487800</td>\n      <td>103.543476</td>\n      <td>96.08</td>\n      <td>89.0</td>\n      <td>106.06</td>\n      <td>119.72</td>\n      <td>Sugercane</td>\n      <td>Andhra Pradesh</td>\n    </tr>\n    <tr>\n      <th>52</th>\n      <td>23.03</td>\n      <td>27.452753</td>\n      <td>31.80</td>\n      <td>36.083340</td>\n      <td>40.360787</td>\n      <td>45.130000</td>\n      <td>50.471512</td>\n      <td>56.080000</td>\n      <td>61.602509</td>\n      <td>67.054458</td>\n      <td>...</td>\n      <td>77.761130</td>\n      <td>82.512392</td>\n      <td>86.215464</td>\n      <td>88.870346</td>\n      <td>90.48</td>\n      <td>92.0</td>\n      <td>96.92</td>\n      <td>92.39</td>\n      <td>Sugercane</td>\n      <td>Bihar</td>\n    </tr>\n    <tr>\n      <th>53</th>\n      <td>NaN</td>\n      <td>NaN</td>\n      <td>NaN</td>\n      <td>NaN</td>\n      <td>35.200000</td>\n      <td>35.212516</td>\n      <td>36.900000</td>\n      <td>40.273963</td>\n      <td>45.315970</td>\n      <td>52.032944</td>\n      <td>...</td>\n      <td>69.855352</td>\n      <td>76.293072</td>\n      <td>79.104279</td>\n      <td>78.288972</td>\n      <td>73.83</td>\n      <td>64.0</td>\n      <td>48.46</td>\n      <td>86.53</td>\n      <td>Sugercane</td>\n      <td>Haryana</td>\n    </tr>\n    <tr>\n      <th>54</th>\n      <td>21.12</td>\n      <td>23.759831</td>\n      <td>27.37</td>\n      <td>31.964384</td>\n      <td>35.690000</td>\n      <td>37.020000</td>\n      <td>38.310000</td>\n      <td>43.590000</td>\n      <td>51.525959</td>\n      <td>61.798196</td>\n      <td>...</td>\n      <td>89.395656</td>\n      <td>101.832088</td>\n      <td>106.902720</td>\n      <td>104.607553</td>\n      <td>94.91</td>\n      <td>80.0</td>\n      <td>76.29</td>\n      <td>107.56</td>\n      <td>Sugercane</td>\n      <td>Karnataka</td>\n    </tr>\n    <tr>\n      <th>55</th>\n      <td>NaN</td>\n      <td>NaN</td>\n      <td>NaN</td>\n      <td>NaN</td>\n      <td>27.950000</td>\n      <td>34.547092</td>\n      <td>40.721715</td>\n      <td>46.489049</td>\n      <td>51.817578</td>\n      <td>56.723639</td>\n      <td>...</td>\n      <td>65.278902</td>\n      <td>68.916401</td>\n      <td>72.131431</td>\n      <td>74.923993</td>\n      <td>77.30</td>\n      <td>78.0</td>\n      <td>73.45</td>\n      <td>85.79</td>\n      <td>Sugercane</td>\n      <td>Maharashtra</td>\n    </tr>\n    <tr>\n      <th>56</th>\n      <td>22.34</td>\n      <td>25.090000</td>\n      <td>25.07</td>\n      <td>34.000000</td>\n      <td>41.950000</td>\n      <td>41.970000</td>\n      <td>43.510000</td>\n      <td>43.080000</td>\n      <td>43.765434</td>\n      <td>46.247491</td>\n      <td>...</td>\n      <td>56.620587</td>\n      <td>62.619601</td>\n      <td>66.659567</td>\n      <td>68.740486</td>\n      <td>68.86</td>\n      <td>68.0</td>\n      <td>73.35</td>\n      <td>93.64</td>\n      <td>Sugercane</td>\n      <td>Tamil Nadu</td>\n    </tr>\n  </tbody>\n</table>\n<p>6 rows × 21 columns</p>\n</div>"
     },
     "metadata": {},
     "output_type": "execute_result",
     "execution_count": 127
    }
   ],
   "source": [
    "sugarcane"
   ],
   "metadata": {
    "collapsed": false,
    "pycharm": {
     "name": "#%%\n",
     "is_executing": false
    }
   }
  },
  {
   "cell_type": "code",
   "execution_count": 128,
   "outputs": [
    {
     "data": {
      "text/plain": "    1990-01-01 00:00:00  1991-01-01 00:00:00  1992-01-01 00:00:00  \\\n51                27.23               22.942                25.36   \n\n    1993-01-01 00:00:00  1994-01-01 00:00:00  1995-01-01 00:00:00  \\\n51            34.518198                43.72                47.42   \n\n    1996-01-01 00:00:00  1997-01-01 00:00:00  1998-01-01 00:00:00  \\\n51            51.912325            58.265879            66.445943   \n\n    1999-01-01 00:00:00  ...  2001-01-01 00:00:00  2002-01-01 00:00:00  \\\n51            76.467353  ...            98.898629           104.939518   \n\n    2003-01-01 00:00:00  2004-01-01 00:00:00  2005-01-01 00:00:00  \\\n51             106.4878           103.543476                96.08   \n\n    2006-01-01 00:00:00  2007-01-01 00:00:00  2008-01-01 00:00:00       Crop  \\\n51                 89.0               106.06               119.72  Sugercane   \n\n             State  \n51  Andhra Pradesh  \n\n[1 rows x 21 columns]",
      "text/html": "<div>\n<style scoped>\n    .dataframe tbody tr th:only-of-type {\n        vertical-align: middle;\n    }\n\n    .dataframe tbody tr th {\n        vertical-align: top;\n    }\n\n    .dataframe thead th {\n        text-align: right;\n    }\n</style>\n<table border=\"1\" class=\"dataframe\">\n  <thead>\n    <tr style=\"text-align: right;\">\n      <th></th>\n      <th>1990-01-01 00:00:00</th>\n      <th>1991-01-01 00:00:00</th>\n      <th>1992-01-01 00:00:00</th>\n      <th>1993-01-01 00:00:00</th>\n      <th>1994-01-01 00:00:00</th>\n      <th>1995-01-01 00:00:00</th>\n      <th>1996-01-01 00:00:00</th>\n      <th>1997-01-01 00:00:00</th>\n      <th>1998-01-01 00:00:00</th>\n      <th>1999-01-01 00:00:00</th>\n      <th>...</th>\n      <th>2001-01-01 00:00:00</th>\n      <th>2002-01-01 00:00:00</th>\n      <th>2003-01-01 00:00:00</th>\n      <th>2004-01-01 00:00:00</th>\n      <th>2005-01-01 00:00:00</th>\n      <th>2006-01-01 00:00:00</th>\n      <th>2007-01-01 00:00:00</th>\n      <th>2008-01-01 00:00:00</th>\n      <th>Crop</th>\n      <th>State</th>\n    </tr>\n  </thead>\n  <tbody>\n    <tr>\n      <th>51</th>\n      <td>27.23</td>\n      <td>22.942</td>\n      <td>25.36</td>\n      <td>34.518198</td>\n      <td>43.72</td>\n      <td>47.42</td>\n      <td>51.912325</td>\n      <td>58.265879</td>\n      <td>66.445943</td>\n      <td>76.467353</td>\n      <td>...</td>\n      <td>98.898629</td>\n      <td>104.939518</td>\n      <td>106.4878</td>\n      <td>103.543476</td>\n      <td>96.08</td>\n      <td>89.0</td>\n      <td>106.06</td>\n      <td>119.72</td>\n      <td>Sugercane</td>\n      <td>Andhra Pradesh</td>\n    </tr>\n  </tbody>\n</table>\n<p>1 rows × 21 columns</p>\n</div>"
     },
     "metadata": {},
     "output_type": "execute_result",
     "execution_count": 128
    }
   ],
   "source": [
    "single_line = sugarcane.loc[sugarcane[\"State\"]==\"Andhra Pradesh\"]\n",
    "single_line"
   ],
   "metadata": {
    "collapsed": false,
    "pycharm": {
     "name": "#%%\n",
     "is_executing": false
    }
   }
  },
  {
   "cell_type": "code",
   "execution_count": 129,
   "outputs": [
    {
     "data": {
      "text/plain": "    1990-01-01 00:00:00  1991-01-01 00:00:00  1992-01-01 00:00:00  \\\n51                27.23               22.942                25.36   \n\n    1993-01-01 00:00:00  1994-01-01 00:00:00  1995-01-01 00:00:00  \\\n51            34.518198                43.72                47.42   \n\n    1996-01-01 00:00:00  1997-01-01 00:00:00  1998-01-01 00:00:00  \\\n51            51.912325            58.265879            66.445943   \n\n    1999-01-01 00:00:00  ...  2001-01-01 00:00:00  2002-01-01 00:00:00  \\\n51            76.467353  ...            98.898629           104.939518   \n\n    2003-01-01 00:00:00  2004-01-01 00:00:00  2005-01-01 00:00:00  \\\n51             106.4878           103.543476                96.08   \n\n    2006-01-01 00:00:00  2007-01-01 00:00:00  2008-01-01 00:00:00       Crop  \\\n51                 89.0               106.06               119.72  Sugercane   \n\n             State  \n51  Andhra Pradesh  \n\n[1 rows x 21 columns]",
      "text/html": "<div>\n<style scoped>\n    .dataframe tbody tr th:only-of-type {\n        vertical-align: middle;\n    }\n\n    .dataframe tbody tr th {\n        vertical-align: top;\n    }\n\n    .dataframe thead th {\n        text-align: right;\n    }\n</style>\n<table border=\"1\" class=\"dataframe\">\n  <thead>\n    <tr style=\"text-align: right;\">\n      <th></th>\n      <th>1990-01-01 00:00:00</th>\n      <th>1991-01-01 00:00:00</th>\n      <th>1992-01-01 00:00:00</th>\n      <th>1993-01-01 00:00:00</th>\n      <th>1994-01-01 00:00:00</th>\n      <th>1995-01-01 00:00:00</th>\n      <th>1996-01-01 00:00:00</th>\n      <th>1997-01-01 00:00:00</th>\n      <th>1998-01-01 00:00:00</th>\n      <th>1999-01-01 00:00:00</th>\n      <th>...</th>\n      <th>2001-01-01 00:00:00</th>\n      <th>2002-01-01 00:00:00</th>\n      <th>2003-01-01 00:00:00</th>\n      <th>2004-01-01 00:00:00</th>\n      <th>2005-01-01 00:00:00</th>\n      <th>2006-01-01 00:00:00</th>\n      <th>2007-01-01 00:00:00</th>\n      <th>2008-01-01 00:00:00</th>\n      <th>Crop</th>\n      <th>State</th>\n    </tr>\n  </thead>\n  <tbody>\n    <tr>\n      <th>51</th>\n      <td>27.23</td>\n      <td>22.942</td>\n      <td>25.36</td>\n      <td>34.518198</td>\n      <td>43.72</td>\n      <td>47.42</td>\n      <td>51.912325</td>\n      <td>58.265879</td>\n      <td>66.445943</td>\n      <td>76.467353</td>\n      <td>...</td>\n      <td>98.898629</td>\n      <td>104.939518</td>\n      <td>106.4878</td>\n      <td>103.543476</td>\n      <td>96.08</td>\n      <td>89.0</td>\n      <td>106.06</td>\n      <td>119.72</td>\n      <td>Sugercane</td>\n      <td>Andhra Pradesh</td>\n    </tr>\n  </tbody>\n</table>\n<p>1 rows × 21 columns</p>\n</div>"
     },
     "metadata": {},
     "output_type": "execute_result",
     "execution_count": 129
    }
   ],
   "source": [
    "single_line"
   ],
   "metadata": {
    "collapsed": false,
    "pycharm": {
     "name": "#%%\n",
     "is_executing": false
    }
   }
  },
  {
   "cell_type": "code",
   "execution_count": null,
   "outputs": [],
   "source": [
    "\n"
   ],
   "metadata": {
    "collapsed": false,
    "pycharm": {
     "name": "#%%\n"
    }
   }
  }
 ],
 "metadata": {
  "kernelspec": {
   "display_name": "Python 3",
   "language": "python",
   "name": "python3"
  },
  "language_info": {
   "codemirror_mode": {
    "name": "ipython",
    "version": 2
   },
   "file_extension": ".py",
   "mimetype": "text/x-python",
   "name": "python",
   "nbconvert_exporter": "python",
   "pygments_lexer": "ipython2",
   "version": "2.7.6"
  },
  "pycharm": {
   "stem_cell": {
    "cell_type": "raw",
    "source": [],
    "metadata": {
     "collapsed": false
    }
   }
  }
 },
 "nbformat": 4,
 "nbformat_minor": 0
}