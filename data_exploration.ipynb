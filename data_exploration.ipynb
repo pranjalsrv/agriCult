{
 "cells": [
  {
   "cell_type": "code",
   "execution_count": 24,
   "metadata": {
    "pycharm": {
     "is_executing": false,
     "name": "#%%\n"
    }
   },
   "outputs": [],
   "source": [
    "import pandas as pd\n",
    "import numpy as np\n",
    "from statsmodels.tsa.ar_model import AutoReg\n",
    "from sklearn.metrics import mean_squared_error\n",
    "import statsmodels.api as sm"
   ]
  },
  {
   "cell_type": "code",
   "execution_count": 26,
   "metadata": {
    "pycharm": {
     "is_executing": false,
     "name": "#%%\n"
    }
   },
   "outputs": [],
   "source": [
    "data = pd.read_csv(\"data.csv\")\n",
    "data = data.rename(columns={\"1990\":pd.to_datetime(\"1990\"),\n",
    "                            \"1991\":pd.to_datetime(\"1991\"),\n",
    "                            \"1992\":pd.to_datetime(\"1992\"),\n",
    "                            \"1993\":pd.to_datetime(\"1993\"),\n",
    "                            \"1994\":pd.to_datetime(\"1994\"),\n",
    "                            \"1995\":pd.to_datetime(\"1995\"),\n",
    "                            \"1996\":pd.to_datetime(\"1996\"),\n",
    "                            \"1997\":pd.to_datetime(\"1997\"),\n",
    "                            \"2005\":pd.to_datetime(\"2005\"),\n",
    "                            \"2006\":pd.to_datetime(\"2006\"),\n",
    "                            \"2007\":pd.to_datetime(\"2007\"),\n",
    "                            \"2008\":pd.to_datetime(\"2008\"),})\n",
    "for i in [\"1998\",\"1999\",\"2000\",\"2001\",\"2002\",\"2003\",\"2004\",]:\n",
    "    data[pd.to_datetime(i)] = \"-\" \n",
    "data = data.replace(\"-\",np.nan)"
   ]
  },
  {
   "cell_type": "code",
   "execution_count": 27,
   "metadata": {
    "pycharm": {
     "is_executing": false,
     "name": "#%%\n"
    }
   },
   "outputs": [
    {
     "name": "stdout",
     "text": [
      "The number of derivatives at boundaries does not match: expected 1, got 0+0\n"
     ],
     "output_type": "stream"
    }
   ],
   "source": [
    "df = pd.DataFrame()\n",
    "for index, row in data.iterrows():\n",
    "    try:\n",
    "        df = df.append(row[2:].astype(float).interpolate(method=\"polynomial\", order=2),ignore_index=True)\n",
    "    except Exception as e:\n",
    "        print(e)"
   ]
  },
  {
   "cell_type": "code",
   "execution_count": 44,
   "metadata": {
    "pycharm": {
     "is_executing": false,
     "name": "#%%\n"
    }
   },
   "outputs": [],
   "source": [
    "df[\"Crop\"] = data[\"Crop\"]\n",
    "df[\"State\"] = data[\"State\"]\n",
    "data = df\n",
    "withNaData = df\n",
    "#data = data.dropna()"
   ]
  },
  {
   "cell_type": "code",
   "execution_count": 45,
   "metadata": {
    "pycharm": {
     "is_executing": false,
     "name": "#%%\n"
    }
   },
   "outputs": [],
   "source": [
    "paddy = data.loc[data['Crop']=='Paddy']\n",
    "jowar = data.loc[data['Crop']=='Jowar']\n",
    "bajra = data.loc[data['Crop']=='Bajra']\n",
    "maize = data.loc[data['Crop']=='Maize']\n",
    "ragi = data.loc[data['Crop']=='Ragi']\n",
    "wheat = data.loc[data['Crop']=='Wheat']\n",
    "barley = data.loc[data['Crop']=='Barley']\n",
    "gram = data.loc[data['Crop']=='Gram']\n",
    "urad = data.loc[data['Crop']=='Urad']\n",
    "moong = data.loc[data['Crop']=='Moong']\n",
    "arhar = data.loc[data['Crop']=='Arhar']\n",
    "sunflower = data.loc[data['Crop']=='Sunflower']\n",
    "groundnut = data.loc[data['Crop']=='Groundnut']\n",
    "rapeseed_mustard = data.loc[data['Crop']=='Rapeseed & Mustard']\n",
    "safflower = data.loc[data['Crop']=='Safflower']\n",
    "soyabean = data.loc[data['Crop']=='Soyabean']\n",
    "cotton = data.loc[data['Crop']=='Cotton']\n",
    "onion = data.loc[data['Crop']=='Onion']\n",
    "sugarcane = data.loc[data['Crop']=='Sugercane']\n"
   ]
  },
  {
   "cell_type": "code",
   "execution_count": 46,
   "metadata": {
    "pycharm": {
     "is_executing": false
    }
   },
   "outputs": [
    {
     "data": {
      "text/plain": "array(['Andhra Pradesh', 'Bihar', 'Karnataka', 'Tamil Nadu'], dtype=object)"
     },
     "metadata": {},
     "output_type": "execute_result",
     "execution_count": 46
    }
   ],
   "source": [
    "sugarcane[\"State\"].values\n",
    "\n",
    "\n"
   ]
  },
  {
   "cell_type": "code",
   "execution_count": 49,
   "outputs": [
    {
     "data": {
      "application/vnd.plotly.v1+json": {
       "config": {
        "plotlyServerURL": "https://plot.ly"
       },
       "data": [
        {
         "mode": "lines",
         "name": "Andhra Pradesh",
         "type": "scatter",
         "x": [
          "1990-01-01T00:00:00",
          "1991-01-01T00:00:00",
          "1992-01-01T00:00:00",
          "1993-01-01T00:00:00",
          "1994-01-01T00:00:00",
          "1995-01-01T00:00:00",
          "1996-01-01T00:00:00",
          "1997-01-01T00:00:00",
          "1998-01-01T00:00:00",
          "1999-01-01T00:00:00",
          "2000-01-01T00:00:00",
          "2001-01-01T00:00:00",
          "2002-01-01T00:00:00",
          "2003-01-01T00:00:00",
          "2004-01-01T00:00:00",
          "2005-01-01T00:00:00",
          "2006-01-01T00:00:00",
          "2007-01-01T00:00:00",
          "2008-01-01T00:00:00",
          "Crop",
          "State"
         ],
         "y": [
          27.23,
          22.941999572570246,
          25.36,
          34.5181975781902,
          43.72,
          47.42,
          51.91232535927523,
          58.26587920408727,
          66.44594266096722,
          76.4673527739699,
          88.33010954309533,
          98.8986287011534,
          104.93951751421768,
          106.48780004620025,
          103.54347629710112,
          96.08,
          89.0,
          106.06,
          119.72,
          "Sugercane",
          "Andhra Pradesh"
         ]
        },
        {
         "mode": "lines",
         "name": "Bihar",
         "type": "scatter",
         "x": [
          "1990-01-01T00:00:00",
          "1991-01-01T00:00:00",
          "1992-01-01T00:00:00",
          "1993-01-01T00:00:00",
          "1994-01-01T00:00:00",
          "1995-01-01T00:00:00",
          "1996-01-01T00:00:00",
          "1997-01-01T00:00:00",
          "1998-01-01T00:00:00",
          "1999-01-01T00:00:00",
          "2000-01-01T00:00:00",
          "2001-01-01T00:00:00",
          "2002-01-01T00:00:00",
          "2003-01-01T00:00:00",
          "2004-01-01T00:00:00",
          "2005-01-01T00:00:00",
          "2006-01-01T00:00:00",
          "2007-01-01T00:00:00",
          "2008-01-01T00:00:00",
          "Crop",
          "State"
         ],
         "y": [
          23.03,
          27.45275322730892,
          31.8,
          36.08333999932603,
          40.36078694440992,
          45.13,
          50.471511710464185,
          56.08,
          61.60250878322226,
          67.05445785424514,
          72.43584721306868,
          77.76113015594868,
          82.51239174798692,
          86.21546357161273,
          88.87034562682601,
          90.48,
          92.0,
          96.92,
          92.39,
          "Sugercane",
          "Bihar"
         ]
        },
        {
         "mode": "lines",
         "name": "Karnataka",
         "type": "scatter",
         "x": [
          "1990-01-01T00:00:00",
          "1991-01-01T00:00:00",
          "1992-01-01T00:00:00",
          "1993-01-01T00:00:00",
          "1994-01-01T00:00:00",
          "1995-01-01T00:00:00",
          "1996-01-01T00:00:00",
          "1997-01-01T00:00:00",
          "1998-01-01T00:00:00",
          "1999-01-01T00:00:00",
          "2000-01-01T00:00:00",
          "2001-01-01T00:00:00",
          "2002-01-01T00:00:00",
          "2003-01-01T00:00:00",
          "2004-01-01T00:00:00",
          "2005-01-01T00:00:00",
          "2006-01-01T00:00:00",
          "2007-01-01T00:00:00",
          "2008-01-01T00:00:00",
          "Crop",
          "State"
         ],
         "y": [
          21.12,
          23.75983149318411,
          27.37,
          31.964384300449115,
          35.69,
          37.02,
          38.31,
          43.59,
          51.52595909643511,
          61.798195795702284,
          74.40671009780156,
          89.3956557865319,
          101.83208753642178,
          106.9027198522852,
          104.60755273412217,
          94.91,
          80.0,
          76.29,
          107.56,
          "Sugercane",
          "Karnataka"
         ]
        },
        {
         "mode": "lines",
         "name": "Tamil Nadu",
         "type": "scatter",
         "x": [
          "1990-01-01T00:00:00",
          "1991-01-01T00:00:00",
          "1992-01-01T00:00:00",
          "1993-01-01T00:00:00",
          "1994-01-01T00:00:00",
          "1995-01-01T00:00:00",
          "1996-01-01T00:00:00",
          "1997-01-01T00:00:00",
          "1998-01-01T00:00:00",
          "1999-01-01T00:00:00",
          "2000-01-01T00:00:00",
          "2001-01-01T00:00:00",
          "2002-01-01T00:00:00",
          "2003-01-01T00:00:00",
          "2004-01-01T00:00:00",
          "2005-01-01T00:00:00",
          "2006-01-01T00:00:00",
          "2007-01-01T00:00:00",
          "2008-01-01T00:00:00",
          "Crop",
          "State"
         ],
         "y": [
          22.34,
          25.09,
          25.07,
          34.0,
          41.95,
          41.97,
          43.51,
          43.08,
          43.76543393250182,
          46.24749105920767,
          50.526171380117574,
          56.62058743287501,
          62.619601061814194,
          66.65956721354672,
          68.74048588807256,
          68.86,
          68.0,
          73.35,
          93.64,
          "Sugercane",
          "Tamil Nadu"
         ]
        }
       ],
       "layout": {
        "height": 500,
        "template": {
         "data": {
          "bar": [
           {
            "error_x": {
             "color": "#2a3f5f"
            },
            "error_y": {
             "color": "#2a3f5f"
            },
            "marker": {
             "line": {
              "color": "#E5ECF6",
              "width": 0.5
             }
            },
            "type": "bar"
           }
          ],
          "barpolar": [
           {
            "marker": {
             "line": {
              "color": "#E5ECF6",
              "width": 0.5
             }
            },
            "type": "barpolar"
           }
          ],
          "carpet": [
           {
            "aaxis": {
             "endlinecolor": "#2a3f5f",
             "gridcolor": "white",
             "linecolor": "white",
             "minorgridcolor": "white",
             "startlinecolor": "#2a3f5f"
            },
            "baxis": {
             "endlinecolor": "#2a3f5f",
             "gridcolor": "white",
             "linecolor": "white",
             "minorgridcolor": "white",
             "startlinecolor": "#2a3f5f"
            },
            "type": "carpet"
           }
          ],
          "choropleth": [
           {
            "colorbar": {
             "outlinewidth": 0,
             "ticks": ""
            },
            "type": "choropleth"
           }
          ],
          "contour": [
           {
            "colorbar": {
             "outlinewidth": 0,
             "ticks": ""
            },
            "colorscale": [
             [
              0.0,
              "#0d0887"
             ],
             [
              0.1111111111111111,
              "#46039f"
             ],
             [
              0.2222222222222222,
              "#7201a8"
             ],
             [
              0.3333333333333333,
              "#9c179e"
             ],
             [
              0.4444444444444444,
              "#bd3786"
             ],
             [
              0.5555555555555556,
              "#d8576b"
             ],
             [
              0.6666666666666666,
              "#ed7953"
             ],
             [
              0.7777777777777778,
              "#fb9f3a"
             ],
             [
              0.8888888888888888,
              "#fdca26"
             ],
             [
              1.0,
              "#f0f921"
             ]
            ],
            "type": "contour"
           }
          ],
          "contourcarpet": [
           {
            "colorbar": {
             "outlinewidth": 0,
             "ticks": ""
            },
            "type": "contourcarpet"
           }
          ],
          "heatmap": [
           {
            "colorbar": {
             "outlinewidth": 0,
             "ticks": ""
            },
            "colorscale": [
             [
              0.0,
              "#0d0887"
             ],
             [
              0.1111111111111111,
              "#46039f"
             ],
             [
              0.2222222222222222,
              "#7201a8"
             ],
             [
              0.3333333333333333,
              "#9c179e"
             ],
             [
              0.4444444444444444,
              "#bd3786"
             ],
             [
              0.5555555555555556,
              "#d8576b"
             ],
             [
              0.6666666666666666,
              "#ed7953"
             ],
             [
              0.7777777777777778,
              "#fb9f3a"
             ],
             [
              0.8888888888888888,
              "#fdca26"
             ],
             [
              1.0,
              "#f0f921"
             ]
            ],
            "type": "heatmap"
           }
          ],
          "heatmapgl": [
           {
            "colorbar": {
             "outlinewidth": 0,
             "ticks": ""
            },
            "colorscale": [
             [
              0.0,
              "#0d0887"
             ],
             [
              0.1111111111111111,
              "#46039f"
             ],
             [
              0.2222222222222222,
              "#7201a8"
             ],
             [
              0.3333333333333333,
              "#9c179e"
             ],
             [
              0.4444444444444444,
              "#bd3786"
             ],
             [
              0.5555555555555556,
              "#d8576b"
             ],
             [
              0.6666666666666666,
              "#ed7953"
             ],
             [
              0.7777777777777778,
              "#fb9f3a"
             ],
             [
              0.8888888888888888,
              "#fdca26"
             ],
             [
              1.0,
              "#f0f921"
             ]
            ],
            "type": "heatmapgl"
           }
          ],
          "histogram": [
           {
            "marker": {
             "colorbar": {
              "outlinewidth": 0,
              "ticks": ""
             }
            },
            "type": "histogram"
           }
          ],
          "histogram2d": [
           {
            "colorbar": {
             "outlinewidth": 0,
             "ticks": ""
            },
            "colorscale": [
             [
              0.0,
              "#0d0887"
             ],
             [
              0.1111111111111111,
              "#46039f"
             ],
             [
              0.2222222222222222,
              "#7201a8"
             ],
             [
              0.3333333333333333,
              "#9c179e"
             ],
             [
              0.4444444444444444,
              "#bd3786"
             ],
             [
              0.5555555555555556,
              "#d8576b"
             ],
             [
              0.6666666666666666,
              "#ed7953"
             ],
             [
              0.7777777777777778,
              "#fb9f3a"
             ],
             [
              0.8888888888888888,
              "#fdca26"
             ],
             [
              1.0,
              "#f0f921"
             ]
            ],
            "type": "histogram2d"
           }
          ],
          "histogram2dcontour": [
           {
            "colorbar": {
             "outlinewidth": 0,
             "ticks": ""
            },
            "colorscale": [
             [
              0.0,
              "#0d0887"
             ],
             [
              0.1111111111111111,
              "#46039f"
             ],
             [
              0.2222222222222222,
              "#7201a8"
             ],
             [
              0.3333333333333333,
              "#9c179e"
             ],
             [
              0.4444444444444444,
              "#bd3786"
             ],
             [
              0.5555555555555556,
              "#d8576b"
             ],
             [
              0.6666666666666666,
              "#ed7953"
             ],
             [
              0.7777777777777778,
              "#fb9f3a"
             ],
             [
              0.8888888888888888,
              "#fdca26"
             ],
             [
              1.0,
              "#f0f921"
             ]
            ],
            "type": "histogram2dcontour"
           }
          ],
          "mesh3d": [
           {
            "colorbar": {
             "outlinewidth": 0,
             "ticks": ""
            },
            "type": "mesh3d"
           }
          ],
          "parcoords": [
           {
            "line": {
             "colorbar": {
              "outlinewidth": 0,
              "ticks": ""
             }
            },
            "type": "parcoords"
           }
          ],
          "pie": [
           {
            "automargin": true,
            "type": "pie"
           }
          ],
          "scatter": [
           {
            "marker": {
             "colorbar": {
              "outlinewidth": 0,
              "ticks": ""
             }
            },
            "type": "scatter"
           }
          ],
          "scatter3d": [
           {
            "line": {
             "colorbar": {
              "outlinewidth": 0,
              "ticks": ""
             }
            },
            "marker": {
             "colorbar": {
              "outlinewidth": 0,
              "ticks": ""
             }
            },
            "type": "scatter3d"
           }
          ],
          "scattercarpet": [
           {
            "marker": {
             "colorbar": {
              "outlinewidth": 0,
              "ticks": ""
             }
            },
            "type": "scattercarpet"
           }
          ],
          "scattergeo": [
           {
            "marker": {
             "colorbar": {
              "outlinewidth": 0,
              "ticks": ""
             }
            },
            "type": "scattergeo"
           }
          ],
          "scattergl": [
           {
            "marker": {
             "colorbar": {
              "outlinewidth": 0,
              "ticks": ""
             }
            },
            "type": "scattergl"
           }
          ],
          "scattermapbox": [
           {
            "marker": {
             "colorbar": {
              "outlinewidth": 0,
              "ticks": ""
             }
            },
            "type": "scattermapbox"
           }
          ],
          "scatterpolar": [
           {
            "marker": {
             "colorbar": {
              "outlinewidth": 0,
              "ticks": ""
             }
            },
            "type": "scatterpolar"
           }
          ],
          "scatterpolargl": [
           {
            "marker": {
             "colorbar": {
              "outlinewidth": 0,
              "ticks": ""
             }
            },
            "type": "scatterpolargl"
           }
          ],
          "scatterternary": [
           {
            "marker": {
             "colorbar": {
              "outlinewidth": 0,
              "ticks": ""
             }
            },
            "type": "scatterternary"
           }
          ],
          "surface": [
           {
            "colorbar": {
             "outlinewidth": 0,
             "ticks": ""
            },
            "colorscale": [
             [
              0.0,
              "#0d0887"
             ],
             [
              0.1111111111111111,
              "#46039f"
             ],
             [
              0.2222222222222222,
              "#7201a8"
             ],
             [
              0.3333333333333333,
              "#9c179e"
             ],
             [
              0.4444444444444444,
              "#bd3786"
             ],
             [
              0.5555555555555556,
              "#d8576b"
             ],
             [
              0.6666666666666666,
              "#ed7953"
             ],
             [
              0.7777777777777778,
              "#fb9f3a"
             ],
             [
              0.8888888888888888,
              "#fdca26"
             ],
             [
              1.0,
              "#f0f921"
             ]
            ],
            "type": "surface"
           }
          ],
          "table": [
           {
            "cells": {
             "fill": {
              "color": "#EBF0F8"
             },
             "line": {
              "color": "white"
             }
            },
            "header": {
             "fill": {
              "color": "#C8D4E3"
             },
             "line": {
              "color": "white"
             }
            },
            "type": "table"
           }
          ]
         },
         "layout": {
          "annotationdefaults": {
           "arrowcolor": "#2a3f5f",
           "arrowhead": 0,
           "arrowwidth": 1
          },
          "coloraxis": {
           "colorbar": {
            "outlinewidth": 0,
            "ticks": ""
           }
          },
          "colorscale": {
           "diverging": [
            [
             0,
             "#8e0152"
            ],
            [
             0.1,
             "#c51b7d"
            ],
            [
             0.2,
             "#de77ae"
            ],
            [
             0.3,
             "#f1b6da"
            ],
            [
             0.4,
             "#fde0ef"
            ],
            [
             0.5,
             "#f7f7f7"
            ],
            [
             0.6,
             "#e6f5d0"
            ],
            [
             0.7,
             "#b8e186"
            ],
            [
             0.8,
             "#7fbc41"
            ],
            [
             0.9,
             "#4d9221"
            ],
            [
             1,
             "#276419"
            ]
           ],
           "sequential": [
            [
             0.0,
             "#0d0887"
            ],
            [
             0.1111111111111111,
             "#46039f"
            ],
            [
             0.2222222222222222,
             "#7201a8"
            ],
            [
             0.3333333333333333,
             "#9c179e"
            ],
            [
             0.4444444444444444,
             "#bd3786"
            ],
            [
             0.5555555555555556,
             "#d8576b"
            ],
            [
             0.6666666666666666,
             "#ed7953"
            ],
            [
             0.7777777777777778,
             "#fb9f3a"
            ],
            [
             0.8888888888888888,
             "#fdca26"
            ],
            [
             1.0,
             "#f0f921"
            ]
           ],
           "sequentialminus": [
            [
             0.0,
             "#0d0887"
            ],
            [
             0.1111111111111111,
             "#46039f"
            ],
            [
             0.2222222222222222,
             "#7201a8"
            ],
            [
             0.3333333333333333,
             "#9c179e"
            ],
            [
             0.4444444444444444,
             "#bd3786"
            ],
            [
             0.5555555555555556,
             "#d8576b"
            ],
            [
             0.6666666666666666,
             "#ed7953"
            ],
            [
             0.7777777777777778,
             "#fb9f3a"
            ],
            [
             0.8888888888888888,
             "#fdca26"
            ],
            [
             1.0,
             "#f0f921"
            ]
           ]
          },
          "colorway": [
           "#636efa",
           "#EF553B",
           "#00cc96",
           "#ab63fa",
           "#FFA15A",
           "#19d3f3",
           "#FF6692",
           "#B6E880",
           "#FF97FF",
           "#FECB52"
          ],
          "font": {
           "color": "#2a3f5f"
          },
          "geo": {
           "bgcolor": "white",
           "lakecolor": "white",
           "landcolor": "#E5ECF6",
           "showlakes": true,
           "showland": true,
           "subunitcolor": "white"
          },
          "hoverlabel": {
           "align": "left"
          },
          "hovermode": "closest",
          "mapbox": {
           "style": "light"
          },
          "paper_bgcolor": "white",
          "plot_bgcolor": "#E5ECF6",
          "polar": {
           "angularaxis": {
            "gridcolor": "white",
            "linecolor": "white",
            "ticks": ""
           },
           "bgcolor": "#E5ECF6",
           "radialaxis": {
            "gridcolor": "white",
            "linecolor": "white",
            "ticks": ""
           }
          },
          "scene": {
           "xaxis": {
            "backgroundcolor": "#E5ECF6",
            "gridcolor": "white",
            "gridwidth": 2,
            "linecolor": "white",
            "showbackground": true,
            "ticks": "",
            "zerolinecolor": "white"
           },
           "yaxis": {
            "backgroundcolor": "#E5ECF6",
            "gridcolor": "white",
            "gridwidth": 2,
            "linecolor": "white",
            "showbackground": true,
            "ticks": "",
            "zerolinecolor": "white"
           },
           "zaxis": {
            "backgroundcolor": "#E5ECF6",
            "gridcolor": "white",
            "gridwidth": 2,
            "linecolor": "white",
            "showbackground": true,
            "ticks": "",
            "zerolinecolor": "white"
           }
          },
          "shapedefaults": {
           "line": {
            "color": "#2a3f5f"
           }
          },
          "ternary": {
           "aaxis": {
            "gridcolor": "white",
            "linecolor": "white",
            "ticks": ""
           },
           "baxis": {
            "gridcolor": "white",
            "linecolor": "white",
            "ticks": ""
           },
           "bgcolor": "#E5ECF6",
           "caxis": {
            "gridcolor": "white",
            "linecolor": "white",
            "ticks": ""
           }
          },
          "title": {
           "x": 0.05
          },
          "xaxis": {
           "automargin": true,
           "gridcolor": "white",
           "linecolor": "white",
           "ticks": "",
           "title": {
            "standoff": 15
           },
           "zerolinecolor": "white",
           "zerolinewidth": 2
          },
          "yaxis": {
           "automargin": true,
           "gridcolor": "white",
           "linecolor": "white",
           "ticks": "",
           "title": {
            "standoff": 15
           },
           "zerolinecolor": "white",
           "zerolinewidth": 2
          }
         }
        },
        "title": {
         "text": "Sugarcane"
        },
        "width": 700
       }
      },
      "text/html": "<div>\n        \n        \n            <div id=\"ee493806-47ee-4aff-93b9-32a31f7286bb\" class=\"plotly-graph-div\" style=\"height:500px; width:700px;\"></div>\n            <script type=\"text/javascript\">\n                require([\"plotly\"], function(Plotly) {\n                    window.PLOTLYENV=window.PLOTLYENV || {};\n                    \n                if (document.getElementById(\"ee493806-47ee-4aff-93b9-32a31f7286bb\")) {\n                    Plotly.newPlot(\n                        'ee493806-47ee-4aff-93b9-32a31f7286bb',\n                        [{\"mode\": \"lines\", \"name\": \"Andhra Pradesh\", \"type\": \"scatter\", \"x\": [\"1990-01-01T00:00:00\", \"1991-01-01T00:00:00\", \"1992-01-01T00:00:00\", \"1993-01-01T00:00:00\", \"1994-01-01T00:00:00\", \"1995-01-01T00:00:00\", \"1996-01-01T00:00:00\", \"1997-01-01T00:00:00\", \"1998-01-01T00:00:00\", \"1999-01-01T00:00:00\", \"2000-01-01T00:00:00\", \"2001-01-01T00:00:00\", \"2002-01-01T00:00:00\", \"2003-01-01T00:00:00\", \"2004-01-01T00:00:00\", \"2005-01-01T00:00:00\", \"2006-01-01T00:00:00\", \"2007-01-01T00:00:00\", \"2008-01-01T00:00:00\", \"Crop\", \"State\"], \"y\": [27.23, 22.941999572570246, 25.36, 34.5181975781902, 43.72, 47.42, 51.91232535927523, 58.26587920408727, 66.44594266096722, 76.4673527739699, 88.33010954309533, 98.8986287011534, 104.93951751421768, 106.48780004620025, 103.54347629710112, 96.08, 89.0, 106.06, 119.72, \"Sugercane\", \"Andhra Pradesh\"]}, {\"mode\": \"lines\", \"name\": \"Bihar\", \"type\": \"scatter\", \"x\": [\"1990-01-01T00:00:00\", \"1991-01-01T00:00:00\", \"1992-01-01T00:00:00\", \"1993-01-01T00:00:00\", \"1994-01-01T00:00:00\", \"1995-01-01T00:00:00\", \"1996-01-01T00:00:00\", \"1997-01-01T00:00:00\", \"1998-01-01T00:00:00\", \"1999-01-01T00:00:00\", \"2000-01-01T00:00:00\", \"2001-01-01T00:00:00\", \"2002-01-01T00:00:00\", \"2003-01-01T00:00:00\", \"2004-01-01T00:00:00\", \"2005-01-01T00:00:00\", \"2006-01-01T00:00:00\", \"2007-01-01T00:00:00\", \"2008-01-01T00:00:00\", \"Crop\", \"State\"], \"y\": [23.03, 27.45275322730892, 31.8, 36.08333999932603, 40.36078694440992, 45.13, 50.471511710464185, 56.08, 61.60250878322226, 67.05445785424514, 72.43584721306868, 77.76113015594868, 82.51239174798692, 86.21546357161273, 88.87034562682601, 90.48, 92.0, 96.92, 92.39, \"Sugercane\", \"Bihar\"]}, {\"mode\": \"lines\", \"name\": \"Karnataka\", \"type\": \"scatter\", \"x\": [\"1990-01-01T00:00:00\", \"1991-01-01T00:00:00\", \"1992-01-01T00:00:00\", \"1993-01-01T00:00:00\", \"1994-01-01T00:00:00\", \"1995-01-01T00:00:00\", \"1996-01-01T00:00:00\", \"1997-01-01T00:00:00\", \"1998-01-01T00:00:00\", \"1999-01-01T00:00:00\", \"2000-01-01T00:00:00\", \"2001-01-01T00:00:00\", \"2002-01-01T00:00:00\", \"2003-01-01T00:00:00\", \"2004-01-01T00:00:00\", \"2005-01-01T00:00:00\", \"2006-01-01T00:00:00\", \"2007-01-01T00:00:00\", \"2008-01-01T00:00:00\", \"Crop\", \"State\"], \"y\": [21.12, 23.75983149318411, 27.37, 31.964384300449115, 35.69, 37.02, 38.31, 43.59, 51.52595909643511, 61.798195795702284, 74.40671009780156, 89.3956557865319, 101.83208753642178, 106.9027198522852, 104.60755273412217, 94.91, 80.0, 76.29, 107.56, \"Sugercane\", \"Karnataka\"]}, {\"mode\": \"lines\", \"name\": \"Tamil Nadu\", \"type\": \"scatter\", \"x\": [\"1990-01-01T00:00:00\", \"1991-01-01T00:00:00\", \"1992-01-01T00:00:00\", \"1993-01-01T00:00:00\", \"1994-01-01T00:00:00\", \"1995-01-01T00:00:00\", \"1996-01-01T00:00:00\", \"1997-01-01T00:00:00\", \"1998-01-01T00:00:00\", \"1999-01-01T00:00:00\", \"2000-01-01T00:00:00\", \"2001-01-01T00:00:00\", \"2002-01-01T00:00:00\", \"2003-01-01T00:00:00\", \"2004-01-01T00:00:00\", \"2005-01-01T00:00:00\", \"2006-01-01T00:00:00\", \"2007-01-01T00:00:00\", \"2008-01-01T00:00:00\", \"Crop\", \"State\"], \"y\": [22.34, 25.09, 25.07, 34.0, 41.95, 41.97, 43.51, 43.08, 43.76543393250182, 46.24749105920767, 50.526171380117574, 56.62058743287501, 62.619601061814194, 66.65956721354672, 68.74048588807256, 68.86, 68.0, 73.35, 93.64, \"Sugercane\", \"Tamil Nadu\"]}],\n                        {\"height\": 500, \"template\": {\"data\": {\"bar\": [{\"error_x\": {\"color\": \"#2a3f5f\"}, \"error_y\": {\"color\": \"#2a3f5f\"}, \"marker\": {\"line\": {\"color\": \"#E5ECF6\", \"width\": 0.5}}, \"type\": \"bar\"}], \"barpolar\": [{\"marker\": {\"line\": {\"color\": \"#E5ECF6\", \"width\": 0.5}}, \"type\": \"barpolar\"}], \"carpet\": [{\"aaxis\": {\"endlinecolor\": \"#2a3f5f\", \"gridcolor\": \"white\", \"linecolor\": \"white\", \"minorgridcolor\": \"white\", \"startlinecolor\": \"#2a3f5f\"}, \"baxis\": {\"endlinecolor\": \"#2a3f5f\", \"gridcolor\": \"white\", \"linecolor\": \"white\", \"minorgridcolor\": \"white\", \"startlinecolor\": \"#2a3f5f\"}, \"type\": \"carpet\"}], \"choropleth\": [{\"colorbar\": {\"outlinewidth\": 0, \"ticks\": \"\"}, \"type\": \"choropleth\"}], \"contour\": [{\"colorbar\": {\"outlinewidth\": 0, \"ticks\": \"\"}, \"colorscale\": [[0.0, \"#0d0887\"], [0.1111111111111111, \"#46039f\"], [0.2222222222222222, \"#7201a8\"], [0.3333333333333333, \"#9c179e\"], [0.4444444444444444, \"#bd3786\"], [0.5555555555555556, \"#d8576b\"], [0.6666666666666666, \"#ed7953\"], [0.7777777777777778, \"#fb9f3a\"], [0.8888888888888888, \"#fdca26\"], [1.0, \"#f0f921\"]], \"type\": \"contour\"}], \"contourcarpet\": [{\"colorbar\": {\"outlinewidth\": 0, \"ticks\": \"\"}, \"type\": \"contourcarpet\"}], \"heatmap\": [{\"colorbar\": {\"outlinewidth\": 0, \"ticks\": \"\"}, \"colorscale\": [[0.0, \"#0d0887\"], [0.1111111111111111, \"#46039f\"], [0.2222222222222222, \"#7201a8\"], [0.3333333333333333, \"#9c179e\"], [0.4444444444444444, \"#bd3786\"], [0.5555555555555556, \"#d8576b\"], [0.6666666666666666, \"#ed7953\"], [0.7777777777777778, \"#fb9f3a\"], [0.8888888888888888, \"#fdca26\"], [1.0, \"#f0f921\"]], \"type\": \"heatmap\"}], \"heatmapgl\": [{\"colorbar\": {\"outlinewidth\": 0, \"ticks\": \"\"}, \"colorscale\": [[0.0, \"#0d0887\"], [0.1111111111111111, \"#46039f\"], [0.2222222222222222, \"#7201a8\"], [0.3333333333333333, \"#9c179e\"], [0.4444444444444444, \"#bd3786\"], [0.5555555555555556, \"#d8576b\"], [0.6666666666666666, \"#ed7953\"], [0.7777777777777778, \"#fb9f3a\"], [0.8888888888888888, \"#fdca26\"], [1.0, \"#f0f921\"]], \"type\": \"heatmapgl\"}], \"histogram\": [{\"marker\": {\"colorbar\": {\"outlinewidth\": 0, \"ticks\": \"\"}}, \"type\": \"histogram\"}], \"histogram2d\": [{\"colorbar\": {\"outlinewidth\": 0, \"ticks\": \"\"}, \"colorscale\": [[0.0, \"#0d0887\"], [0.1111111111111111, \"#46039f\"], [0.2222222222222222, \"#7201a8\"], [0.3333333333333333, \"#9c179e\"], [0.4444444444444444, \"#bd3786\"], [0.5555555555555556, \"#d8576b\"], [0.6666666666666666, \"#ed7953\"], [0.7777777777777778, \"#fb9f3a\"], [0.8888888888888888, \"#fdca26\"], [1.0, \"#f0f921\"]], \"type\": \"histogram2d\"}], \"histogram2dcontour\": [{\"colorbar\": {\"outlinewidth\": 0, \"ticks\": \"\"}, \"colorscale\": [[0.0, \"#0d0887\"], [0.1111111111111111, \"#46039f\"], [0.2222222222222222, \"#7201a8\"], [0.3333333333333333, \"#9c179e\"], [0.4444444444444444, \"#bd3786\"], [0.5555555555555556, \"#d8576b\"], [0.6666666666666666, \"#ed7953\"], [0.7777777777777778, \"#fb9f3a\"], [0.8888888888888888, \"#fdca26\"], [1.0, \"#f0f921\"]], \"type\": \"histogram2dcontour\"}], \"mesh3d\": [{\"colorbar\": {\"outlinewidth\": 0, \"ticks\": \"\"}, \"type\": \"mesh3d\"}], \"parcoords\": [{\"line\": {\"colorbar\": {\"outlinewidth\": 0, \"ticks\": \"\"}}, \"type\": \"parcoords\"}], \"pie\": [{\"automargin\": true, \"type\": \"pie\"}], \"scatter\": [{\"marker\": {\"colorbar\": {\"outlinewidth\": 0, \"ticks\": \"\"}}, \"type\": \"scatter\"}], \"scatter3d\": [{\"line\": {\"colorbar\": {\"outlinewidth\": 0, \"ticks\": \"\"}}, \"marker\": {\"colorbar\": {\"outlinewidth\": 0, \"ticks\": \"\"}}, \"type\": \"scatter3d\"}], \"scattercarpet\": [{\"marker\": {\"colorbar\": {\"outlinewidth\": 0, \"ticks\": \"\"}}, \"type\": \"scattercarpet\"}], \"scattergeo\": [{\"marker\": {\"colorbar\": {\"outlinewidth\": 0, \"ticks\": \"\"}}, \"type\": \"scattergeo\"}], \"scattergl\": [{\"marker\": {\"colorbar\": {\"outlinewidth\": 0, \"ticks\": \"\"}}, \"type\": \"scattergl\"}], \"scattermapbox\": [{\"marker\": {\"colorbar\": {\"outlinewidth\": 0, \"ticks\": \"\"}}, \"type\": \"scattermapbox\"}], \"scatterpolar\": [{\"marker\": {\"colorbar\": {\"outlinewidth\": 0, \"ticks\": \"\"}}, \"type\": \"scatterpolar\"}], \"scatterpolargl\": [{\"marker\": {\"colorbar\": {\"outlinewidth\": 0, \"ticks\": \"\"}}, \"type\": \"scatterpolargl\"}], \"scatterternary\": [{\"marker\": {\"colorbar\": {\"outlinewidth\": 0, \"ticks\": \"\"}}, \"type\": \"scatterternary\"}], \"surface\": [{\"colorbar\": {\"outlinewidth\": 0, \"ticks\": \"\"}, \"colorscale\": [[0.0, \"#0d0887\"], [0.1111111111111111, \"#46039f\"], [0.2222222222222222, \"#7201a8\"], [0.3333333333333333, \"#9c179e\"], [0.4444444444444444, \"#bd3786\"], [0.5555555555555556, \"#d8576b\"], [0.6666666666666666, \"#ed7953\"], [0.7777777777777778, \"#fb9f3a\"], [0.8888888888888888, \"#fdca26\"], [1.0, \"#f0f921\"]], \"type\": \"surface\"}], \"table\": [{\"cells\": {\"fill\": {\"color\": \"#EBF0F8\"}, \"line\": {\"color\": \"white\"}}, \"header\": {\"fill\": {\"color\": \"#C8D4E3\"}, \"line\": {\"color\": \"white\"}}, \"type\": \"table\"}]}, \"layout\": {\"annotationdefaults\": {\"arrowcolor\": \"#2a3f5f\", \"arrowhead\": 0, \"arrowwidth\": 1}, \"coloraxis\": {\"colorbar\": {\"outlinewidth\": 0, \"ticks\": \"\"}}, \"colorscale\": {\"diverging\": [[0, \"#8e0152\"], [0.1, \"#c51b7d\"], [0.2, \"#de77ae\"], [0.3, \"#f1b6da\"], [0.4, \"#fde0ef\"], [0.5, \"#f7f7f7\"], [0.6, \"#e6f5d0\"], [0.7, \"#b8e186\"], [0.8, \"#7fbc41\"], [0.9, \"#4d9221\"], [1, \"#276419\"]], \"sequential\": [[0.0, \"#0d0887\"], [0.1111111111111111, \"#46039f\"], [0.2222222222222222, \"#7201a8\"], [0.3333333333333333, \"#9c179e\"], [0.4444444444444444, \"#bd3786\"], [0.5555555555555556, \"#d8576b\"], [0.6666666666666666, \"#ed7953\"], [0.7777777777777778, \"#fb9f3a\"], [0.8888888888888888, \"#fdca26\"], [1.0, \"#f0f921\"]], \"sequentialminus\": [[0.0, \"#0d0887\"], [0.1111111111111111, \"#46039f\"], [0.2222222222222222, \"#7201a8\"], [0.3333333333333333, \"#9c179e\"], [0.4444444444444444, \"#bd3786\"], [0.5555555555555556, \"#d8576b\"], [0.6666666666666666, \"#ed7953\"], [0.7777777777777778, \"#fb9f3a\"], [0.8888888888888888, \"#fdca26\"], [1.0, \"#f0f921\"]]}, \"colorway\": [\"#636efa\", \"#EF553B\", \"#00cc96\", \"#ab63fa\", \"#FFA15A\", \"#19d3f3\", \"#FF6692\", \"#B6E880\", \"#FF97FF\", \"#FECB52\"], \"font\": {\"color\": \"#2a3f5f\"}, \"geo\": {\"bgcolor\": \"white\", \"lakecolor\": \"white\", \"landcolor\": \"#E5ECF6\", \"showlakes\": true, \"showland\": true, \"subunitcolor\": \"white\"}, \"hoverlabel\": {\"align\": \"left\"}, \"hovermode\": \"closest\", \"mapbox\": {\"style\": \"light\"}, \"paper_bgcolor\": \"white\", \"plot_bgcolor\": \"#E5ECF6\", \"polar\": {\"angularaxis\": {\"gridcolor\": \"white\", \"linecolor\": \"white\", \"ticks\": \"\"}, \"bgcolor\": \"#E5ECF6\", \"radialaxis\": {\"gridcolor\": \"white\", \"linecolor\": \"white\", \"ticks\": \"\"}}, \"scene\": {\"xaxis\": {\"backgroundcolor\": \"#E5ECF6\", \"gridcolor\": \"white\", \"gridwidth\": 2, \"linecolor\": \"white\", \"showbackground\": true, \"ticks\": \"\", \"zerolinecolor\": \"white\"}, \"yaxis\": {\"backgroundcolor\": \"#E5ECF6\", \"gridcolor\": \"white\", \"gridwidth\": 2, \"linecolor\": \"white\", \"showbackground\": true, \"ticks\": \"\", \"zerolinecolor\": \"white\"}, \"zaxis\": {\"backgroundcolor\": \"#E5ECF6\", \"gridcolor\": \"white\", \"gridwidth\": 2, \"linecolor\": \"white\", \"showbackground\": true, \"ticks\": \"\", \"zerolinecolor\": \"white\"}}, \"shapedefaults\": {\"line\": {\"color\": \"#2a3f5f\"}}, \"ternary\": {\"aaxis\": {\"gridcolor\": \"white\", \"linecolor\": \"white\", \"ticks\": \"\"}, \"baxis\": {\"gridcolor\": \"white\", \"linecolor\": \"white\", \"ticks\": \"\"}, \"bgcolor\": \"#E5ECF6\", \"caxis\": {\"gridcolor\": \"white\", \"linecolor\": \"white\", \"ticks\": \"\"}}, \"title\": {\"x\": 0.05}, \"xaxis\": {\"automargin\": true, \"gridcolor\": \"white\", \"linecolor\": \"white\", \"ticks\": \"\", \"title\": {\"standoff\": 15}, \"zerolinecolor\": \"white\", \"zerolinewidth\": 2}, \"yaxis\": {\"automargin\": true, \"gridcolor\": \"white\", \"linecolor\": \"white\", \"ticks\": \"\", \"title\": {\"standoff\": 15}, \"zerolinecolor\": \"white\", \"zerolinewidth\": 2}}}, \"title\": {\"text\": \"Sugarcane\"}, \"width\": 700},\n                        {\"responsive\": true}\n                    ).then(function(){\n                            \nvar gd = document.getElementById('ee493806-47ee-4aff-93b9-32a31f7286bb');\nvar x = new MutationObserver(function (mutations, observer) {{\n        var display = window.getComputedStyle(gd).display;\n        if (!display || display === 'none') {{\n            console.log([gd, 'removed!']);\n            Plotly.purge(gd);\n            observer.disconnect();\n        }}\n}});\n\n// Listen for the removal of the full notebook cells\nvar notebookContainer = gd.closest('#notebook-container');\nif (notebookContainer) {{\n    x.observe(notebookContainer, {childList: true});\n}}\n\n// Listen for the clearing of the current output cell\nvar outputEl = gd.closest('.output');\nif (outputEl) {{\n    x.observe(outputEl, {childList: true});\n}}\n\n                        })\n                };\n                });\n            </script>\n        </div>"
     },
     "metadata": {},
     "output_type": "display_data"
    }
   ],
   "source": [
    "### Line Plot Common Code ####\n",
    "\n",
    "import plotly.express as px\n",
    "from plotly.subplots import make_subplots\n",
    "import plotly.graph_objects as go\n",
    "\n",
    "\n",
    "'''fig = make_subplots(rows=4, cols=1,subplot_titles=sugarcane[\"State\"].values,shared_yaxes=True)\n",
    "\n",
    "for index in range(4):\n",
    "    fig.add_trace(\n",
    "        go.Scatter(x=sugarcane.columns,y=sugarcane.iloc[index]),\n",
    "        row=index+1, col=1,\n",
    "    )\n",
    "    fig.update_yaxes(title_text=\"Price\", row=index+1, col=1)\n",
    "fig.show()'''\n",
    "\n",
    "def ts_plotter(data=sugarcane,length=len(sugarcane),title=\"Sugarcane\"):\n",
    "    fig = go.Figure()\n",
    "    for i in range(length):\n",
    "        fig.add_trace(go.Scatter(x=data.columns, y=data.iloc[i],\n",
    "                            mode='lines',\n",
    "                            name=data.State.iloc[i]))\n",
    "    fig.update_layout(height=500, width=700,\n",
    "                      title_text=title)\n",
    "\n",
    "    fig.show()\n",
    "ts_plotter()"
   ],
   "metadata": {
    "collapsed": false,
    "pycharm": {
     "name": "#%%\n",
     "is_executing": false
    }
   }
  },
  {
   "cell_type": "code",
   "execution_count": 50,
   "outputs": [
    {
     "data": {
      "text/plain": "<Figure size 432x288 with 1 Axes>",
      "image/png": "[encoded data removed]"
     },
     "metadata": {
      "needs_background": "light"
     },
     "output_type": "display_data"
    }
   ],
   "source": [
    "### Auto Correlation ###\n",
    "def auto_corr_plot(data=sugarcane,index=3):\n",
    "    ts_1 = data.iloc[index].values\n",
    "    ts_1 = ts_1[:-2]\n",
    "    ts_1 = ts_1.astype(\"float\")\n",
    "    result = np.correlate(ts_1,ts_1,mode=\"full\")\n",
    "    auto_corr = result[result.size//2:]\n",
    "    from pandas.plotting import autocorrelation_plot\n",
    "    autocorrelation_plot(result)\n",
    "auto_corr_plot()"
   ],
   "metadata": {
    "collapsed": false,
    "pycharm": {
     "name": "#%%\n",
     "is_executing": false
    }
   }
  },
  {
   "cell_type": "code",
   "execution_count": 51,
   "outputs": [
    {
     "data": {
      "application/vnd.plotly.v1+json": {
       "config": {
        "plotlyServerURL": "https://plot.ly"
       },
       "data": [
        {
         "alignmentgroup": "True",
         "hovertemplate": "x=%{x}<br>y=%{y}<extra></extra>",
         "legendgroup": "",
         "marker": {
          "color": "#636efa"
         },
         "name": "",
         "offsetgroup": "",
         "orientation": "v",
         "showlegend": false,
         "textposition": "auto",
         "type": "bar",
         "x": [
          "Madhya Pradesh",
          "Haryana",
          "Andhra Pradesh",
          "Punjab",
          "Maharashtra",
          "Bihar",
          "Uttar Pradesh",
          "Assam",
          "Tamil Nadu",
          "Karnataka",
          "Orissa"
         ],
         "xaxis": "x",
         "y": [
          8,
          6,
          5,
          3,
          2,
          2,
          2,
          1,
          1,
          1,
          1
         ],
         "yaxis": "y"
        }
       ],
       "layout": {
        "barmode": "relative",
        "legend": {
         "tracegroupgap": 0
        },
        "margin": {
         "t": 60
        },
        "template": {
         "data": {
          "bar": [
           {
            "error_x": {
             "color": "#2a3f5f"
            },
            "error_y": {
             "color": "#2a3f5f"
            },
            "marker": {
             "line": {
              "color": "#E5ECF6",
              "width": 0.5
             }
            },
            "type": "bar"
           }
          ],
          "barpolar": [
           {
            "marker": {
             "line": {
              "color": "#E5ECF6",
              "width": 0.5
             }
            },
            "type": "barpolar"
           }
          ],
          "carpet": [
           {
            "aaxis": {
             "endlinecolor": "#2a3f5f",
             "gridcolor": "white",
             "linecolor": "white",
             "minorgridcolor": "white",
             "startlinecolor": "#2a3f5f"
            },
            "baxis": {
             "endlinecolor": "#2a3f5f",
             "gridcolor": "white",
             "linecolor": "white",
             "minorgridcolor": "white",
             "startlinecolor": "#2a3f5f"
            },
            "type": "carpet"
           }
          ],
          "choropleth": [
           {
            "colorbar": {
             "outlinewidth": 0,
             "ticks": ""
            },
            "type": "choropleth"
           }
          ],
          "contour": [
           {
            "colorbar": {
             "outlinewidth": 0,
             "ticks": ""
            },
            "colorscale": [
             [
              0.0,
              "#0d0887"
             ],
             [
              0.1111111111111111,
              "#46039f"
             ],
             [
              0.2222222222222222,
              "#7201a8"
             ],
             [
              0.3333333333333333,
              "#9c179e"
             ],
             [
              0.4444444444444444,
              "#bd3786"
             ],
             [
              0.5555555555555556,
              "#d8576b"
             ],
             [
              0.6666666666666666,
              "#ed7953"
             ],
             [
              0.7777777777777778,
              "#fb9f3a"
             ],
             [
              0.8888888888888888,
              "#fdca26"
             ],
             [
              1.0,
              "#f0f921"
             ]
            ],
            "type": "contour"
           }
          ],
          "contourcarpet": [
           {
            "colorbar": {
             "outlinewidth": 0,
             "ticks": ""
            },
            "type": "contourcarpet"
           }
          ],
          "heatmap": [
           {
            "colorbar": {
             "outlinewidth": 0,
             "ticks": ""
            },
            "colorscale": [
             [
              0.0,
              "#0d0887"
             ],
             [
              0.1111111111111111,
              "#46039f"
             ],
             [
              0.2222222222222222,
              "#7201a8"
             ],
             [
              0.3333333333333333,
              "#9c179e"
             ],
             [
              0.4444444444444444,
              "#bd3786"
             ],
             [
              0.5555555555555556,
              "#d8576b"
             ],
             [
              0.6666666666666666,
              "#ed7953"
             ],
             [
              0.7777777777777778,
              "#fb9f3a"
             ],
             [
              0.8888888888888888,
              "#fdca26"
             ],
             [
              1.0,
              "#f0f921"
             ]
            ],
            "type": "heatmap"
           }
          ],
          "heatmapgl": [
           {
            "colorbar": {
             "outlinewidth": 0,
             "ticks": ""
            },
            "colorscale": [
             [
              0.0,
              "#0d0887"
             ],
             [
              0.1111111111111111,
              "#46039f"
             ],
             [
              0.2222222222222222,
              "#7201a8"
             ],
             [
              0.3333333333333333,
              "#9c179e"
             ],
             [
              0.4444444444444444,
              "#bd3786"
             ],
             [
              0.5555555555555556,
              "#d8576b"
             ],
             [
              0.6666666666666666,
              "#ed7953"
             ],
             [
              0.7777777777777778,
              "#fb9f3a"
             ],
             [
              0.8888888888888888,
              "#fdca26"
             ],
             [
              1.0,
              "#f0f921"
             ]
            ],
            "type": "heatmapgl"
           }
          ],
          "histogram": [
           {
            "marker": {
             "colorbar": {
              "outlinewidth": 0,
              "ticks": ""
             }
            },
            "type": "histogram"
           }
          ],
          "histogram2d": [
           {
            "colorbar": {
             "outlinewidth": 0,
             "ticks": ""
            },
            "colorscale": [
             [
              0.0,
              "#0d0887"
             ],
             [
              0.1111111111111111,
              "#46039f"
             ],
             [
              0.2222222222222222,
              "#7201a8"
             ],
             [
              0.3333333333333333,
              "#9c179e"
             ],
             [
              0.4444444444444444,
              "#bd3786"
             ],
             [
              0.5555555555555556,
              "#d8576b"
             ],
             [
              0.6666666666666666,
              "#ed7953"
             ],
             [
              0.7777777777777778,
              "#fb9f3a"
             ],
             [
              0.8888888888888888,
              "#fdca26"
             ],
             [
              1.0,
              "#f0f921"
             ]
            ],
            "type": "histogram2d"
           }
          ],
          "histogram2dcontour": [
           {
            "colorbar": {
             "outlinewidth": 0,
             "ticks": ""
            },
            "colorscale": [
             [
              0.0,
              "#0d0887"
             ],
             [
              0.1111111111111111,
              "#46039f"
             ],
             [
              0.2222222222222222,
              "#7201a8"
             ],
             [
              0.3333333333333333,
              "#9c179e"
             ],
             [
              0.4444444444444444,
              "#bd3786"
             ],
             [
              0.5555555555555556,
              "#d8576b"
             ],
             [
              0.6666666666666666,
              "#ed7953"
             ],
             [
              0.7777777777777778,
              "#fb9f3a"
             ],
             [
              0.8888888888888888,
              "#fdca26"
             ],
             [
              1.0,
              "#f0f921"
             ]
            ],
            "type": "histogram2dcontour"
           }
          ],
          "mesh3d": [
           {
            "colorbar": {
             "outlinewidth": 0,
             "ticks": ""
            },
            "type": "mesh3d"
           }
          ],
          "parcoords": [
           {
            "line": {
             "colorbar": {
              "outlinewidth": 0,
              "ticks": ""
             }
            },
            "type": "parcoords"
           }
          ],
          "pie": [
           {
            "automargin": true,
            "type": "pie"
           }
          ],
          "scatter": [
           {
            "marker": {
             "colorbar": {
              "outlinewidth": 0,
              "ticks": ""
             }
            },
            "type": "scatter"
           }
          ],
          "scatter3d": [
           {
            "line": {
             "colorbar": {
              "outlinewidth": 0,
              "ticks": ""
             }
            },
            "marker": {
             "colorbar": {
              "outlinewidth": 0,
              "ticks": ""
             }
            },
            "type": "scatter3d"
           }
          ],
          "scattercarpet": [
           {
            "marker": {
             "colorbar": {
              "outlinewidth": 0,
              "ticks": ""
             }
            },
            "type": "scattercarpet"
           }
          ],
          "scattergeo": [
           {
            "marker": {
             "colorbar": {
              "outlinewidth": 0,
              "ticks": ""
             }
            },
            "type": "scattergeo"
           }
          ],
          "scattergl": [
           {
            "marker": {
             "colorbar": {
              "outlinewidth": 0,
              "ticks": ""
             }
            },
            "type": "scattergl"
           }
          ],
          "scattermapbox": [
           {
            "marker": {
             "colorbar": {
              "outlinewidth": 0,
              "ticks": ""
             }
            },
            "type": "scattermapbox"
           }
          ],
          "scatterpolar": [
           {
            "marker": {
             "colorbar": {
              "outlinewidth": 0,
              "ticks": ""
             }
            },
            "type": "scatterpolar"
           }
          ],
          "scatterpolargl": [
           {
            "marker": {
             "colorbar": {
              "outlinewidth": 0,
              "ticks": ""
             }
            },
            "type": "scatterpolargl"
           }
          ],
          "scatterternary": [
           {
            "marker": {
             "colorbar": {
              "outlinewidth": 0,
              "ticks": ""
             }
            },
            "type": "scatterternary"
           }
          ],
          "surface": [
           {
            "colorbar": {
             "outlinewidth": 0,
             "ticks": ""
            },
            "colorscale": [
             [
              0.0,
              "#0d0887"
             ],
             [
              0.1111111111111111,
              "#46039f"
             ],
             [
              0.2222222222222222,
              "#7201a8"
             ],
             [
              0.3333333333333333,
              "#9c179e"
             ],
             [
              0.4444444444444444,
              "#bd3786"
             ],
             [
              0.5555555555555556,
              "#d8576b"
             ],
             [
              0.6666666666666666,
              "#ed7953"
             ],
             [
              0.7777777777777778,
              "#fb9f3a"
             ],
             [
              0.8888888888888888,
              "#fdca26"
             ],
             [
              1.0,
              "#f0f921"
             ]
            ],
            "type": "surface"
           }
          ],
          "table": [
           {
            "cells": {
             "fill": {
              "color": "#EBF0F8"
             },
             "line": {
              "color": "white"
             }
            },
            "header": {
             "fill": {
              "color": "#C8D4E3"
             },
             "line": {
              "color": "white"
             }
            },
            "type": "table"
           }
          ]
         },
         "layout": {
          "annotationdefaults": {
           "arrowcolor": "#2a3f5f",
           "arrowhead": 0,
           "arrowwidth": 1
          },
          "coloraxis": {
           "colorbar": {
            "outlinewidth": 0,
            "ticks": ""
           }
          },
          "colorscale": {
           "diverging": [
            [
             0,
             "#8e0152"
            ],
            [
             0.1,
             "#c51b7d"
            ],
            [
             0.2,
             "#de77ae"
            ],
            [
             0.3,
             "#f1b6da"
            ],
            [
             0.4,
             "#fde0ef"
            ],
            [
             0.5,
             "#f7f7f7"
            ],
            [
             0.6,
             "#e6f5d0"
            ],
            [
             0.7,
             "#b8e186"
            ],
            [
             0.8,
             "#7fbc41"
            ],
            [
             0.9,
             "#4d9221"
            ],
            [
             1,
             "#276419"
            ]
           ],
           "sequential": [
            [
             0.0,
             "#0d0887"
            ],
            [
             0.1111111111111111,
             "#46039f"
            ],
            [
             0.2222222222222222,
             "#7201a8"
            ],
            [
             0.3333333333333333,
             "#9c179e"
            ],
            [
             0.4444444444444444,
             "#bd3786"
            ],
            [
             0.5555555555555556,
             "#d8576b"
            ],
            [
             0.6666666666666666,
             "#ed7953"
            ],
            [
             0.7777777777777778,
             "#fb9f3a"
            ],
            [
             0.8888888888888888,
             "#fdca26"
            ],
            [
             1.0,
             "#f0f921"
            ]
           ],
           "sequentialminus": [
            [
             0.0,
             "#0d0887"
            ],
            [
             0.1111111111111111,
             "#46039f"
            ],
            [
             0.2222222222222222,
             "#7201a8"
            ],
            [
             0.3333333333333333,
             "#9c179e"
            ],
            [
             0.4444444444444444,
             "#bd3786"
            ],
            [
             0.5555555555555556,
             "#d8576b"
            ],
            [
             0.6666666666666666,
             "#ed7953"
            ],
            [
             0.7777777777777778,
             "#fb9f3a"
            ],
            [
             0.8888888888888888,
             "#fdca26"
            ],
            [
             1.0,
             "#f0f921"
            ]
           ]
          },
          "colorway": [
           "#636efa",
           "#EF553B",
           "#00cc96",
           "#ab63fa",
           "#FFA15A",
           "#19d3f3",
           "#FF6692",
           "#B6E880",
           "#FF97FF",
           "#FECB52"
          ],
          "font": {
           "color": "#2a3f5f"
          },
          "geo": {
           "bgcolor": "white",
           "lakecolor": "white",
           "landcolor": "#E5ECF6",
           "showlakes": true,
           "showland": true,
           "subunitcolor": "white"
          },
          "hoverlabel": {
           "align": "left"
          },
          "hovermode": "closest",
          "mapbox": {
           "style": "light"
          },
          "paper_bgcolor": "white",
          "plot_bgcolor": "#E5ECF6",
          "polar": {
           "angularaxis": {
            "gridcolor": "white",
            "linecolor": "white",
            "ticks": ""
           },
           "bgcolor": "#E5ECF6",
           "radialaxis": {
            "gridcolor": "white",
            "linecolor": "white",
            "ticks": ""
           }
          },
          "scene": {
           "xaxis": {
            "backgroundcolor": "#E5ECF6",
            "gridcolor": "white",
            "gridwidth": 2,
            "linecolor": "white",
            "showbackground": true,
            "ticks": "",
            "zerolinecolor": "white"
           },
           "yaxis": {
            "backgroundcolor": "#E5ECF6",
            "gridcolor": "white",
            "gridwidth": 2,
            "linecolor": "white",
            "showbackground": true,
            "ticks": "",
            "zerolinecolor": "white"
           },
           "zaxis": {
            "backgroundcolor": "#E5ECF6",
            "gridcolor": "white",
            "gridwidth": 2,
            "linecolor": "white",
            "showbackground": true,
            "ticks": "",
            "zerolinecolor": "white"
           }
          },
          "shapedefaults": {
           "line": {
            "color": "#2a3f5f"
           }
          },
          "ternary": {
           "aaxis": {
            "gridcolor": "white",
            "linecolor": "white",
            "ticks": ""
           },
           "baxis": {
            "gridcolor": "white",
            "linecolor": "white",
            "ticks": ""
           },
           "bgcolor": "#E5ECF6",
           "caxis": {
            "gridcolor": "white",
            "linecolor": "white",
            "ticks": ""
           }
          },
          "title": {
           "x": 0.05
          },
          "xaxis": {
           "automargin": true,
           "gridcolor": "white",
           "linecolor": "white",
           "ticks": "",
           "title": {
            "standoff": 15
           },
           "zerolinecolor": "white",
           "zerolinewidth": 2
          },
          "yaxis": {
           "automargin": true,
           "gridcolor": "white",
           "linecolor": "white",
           "ticks": "",
           "title": {
            "standoff": 15
           },
           "zerolinecolor": "white",
           "zerolinewidth": 2
          }
         }
        },
        "xaxis": {
         "anchor": "y",
         "domain": [
          0.0,
          1.0
         ],
         "title": {
          "text": "State"
         }
        },
        "yaxis": {
         "anchor": "x",
         "domain": [
          0.0,
          1.0
         ],
         "title": {
          "text": "Population"
         }
        }
       }
      },
      "text/html": "<div>\n        \n        \n            <div id=\"ef4aa187-df18-432d-8e8c-06f207122f1d\" class=\"plotly-graph-div\" style=\"height:525px; width:100%;\"></div>\n            <script type=\"text/javascript\">\n                require([\"plotly\"], function(Plotly) {\n                    window.PLOTLYENV=window.PLOTLYENV || {};\n                    \n                if (document.getElementById(\"ef4aa187-df18-432d-8e8c-06f207122f1d\")) {\n                    Plotly.newPlot(\n                        'ef4aa187-df18-432d-8e8c-06f207122f1d',\n                        [{\"alignmentgroup\": \"True\", \"hovertemplate\": \"x=%{x}<br>y=%{y}<extra></extra>\", \"legendgroup\": \"\", \"marker\": {\"color\": \"#636efa\"}, \"name\": \"\", \"offsetgroup\": \"\", \"orientation\": \"v\", \"showlegend\": false, \"textposition\": \"auto\", \"type\": \"bar\", \"x\": [\"Madhya Pradesh\", \"Haryana\", \"Andhra Pradesh\", \"Punjab\", \"Maharashtra\", \"Bihar\", \"Uttar Pradesh\", \"Assam\", \"Tamil Nadu\", \"Karnataka\", \"Orissa\"], \"xaxis\": \"x\", \"y\": [8, 6, 5, 3, 2, 2, 2, 1, 1, 1, 1], \"yaxis\": \"y\"}],\n                        {\"barmode\": \"relative\", \"legend\": {\"tracegroupgap\": 0}, \"margin\": {\"t\": 60}, \"template\": {\"data\": {\"bar\": [{\"error_x\": {\"color\": \"#2a3f5f\"}, \"error_y\": {\"color\": \"#2a3f5f\"}, \"marker\": {\"line\": {\"color\": \"#E5ECF6\", \"width\": 0.5}}, \"type\": \"bar\"}], \"barpolar\": [{\"marker\": {\"line\": {\"color\": \"#E5ECF6\", \"width\": 0.5}}, \"type\": \"barpolar\"}], \"carpet\": [{\"aaxis\": {\"endlinecolor\": \"#2a3f5f\", \"gridcolor\": \"white\", \"linecolor\": \"white\", \"minorgridcolor\": \"white\", \"startlinecolor\": \"#2a3f5f\"}, \"baxis\": {\"endlinecolor\": \"#2a3f5f\", \"gridcolor\": \"white\", \"linecolor\": \"white\", \"minorgridcolor\": \"white\", \"startlinecolor\": \"#2a3f5f\"}, \"type\": \"carpet\"}], \"choropleth\": [{\"colorbar\": {\"outlinewidth\": 0, \"ticks\": \"\"}, \"type\": \"choropleth\"}], \"contour\": [{\"colorbar\": {\"outlinewidth\": 0, \"ticks\": \"\"}, \"colorscale\": [[0.0, \"#0d0887\"], [0.1111111111111111, \"#46039f\"], [0.2222222222222222, \"#7201a8\"], [0.3333333333333333, \"#9c179e\"], [0.4444444444444444, \"#bd3786\"], [0.5555555555555556, \"#d8576b\"], [0.6666666666666666, \"#ed7953\"], [0.7777777777777778, \"#fb9f3a\"], [0.8888888888888888, \"#fdca26\"], [1.0, \"#f0f921\"]], \"type\": \"contour\"}], \"contourcarpet\": [{\"colorbar\": {\"outlinewidth\": 0, \"ticks\": \"\"}, \"type\": \"contourcarpet\"}], \"heatmap\": [{\"colorbar\": {\"outlinewidth\": 0, \"ticks\": \"\"}, \"colorscale\": [[0.0, \"#0d0887\"], [0.1111111111111111, \"#46039f\"], [0.2222222222222222, \"#7201a8\"], [0.3333333333333333, \"#9c179e\"], [0.4444444444444444, \"#bd3786\"], [0.5555555555555556, \"#d8576b\"], [0.6666666666666666, \"#ed7953\"], [0.7777777777777778, \"#fb9f3a\"], [0.8888888888888888, \"#fdca26\"], [1.0, \"#f0f921\"]], \"type\": \"heatmap\"}], \"heatmapgl\": [{\"colorbar\": {\"outlinewidth\": 0, \"ticks\": \"\"}, \"colorscale\": [[0.0, \"#0d0887\"], [0.1111111111111111, \"#46039f\"], [0.2222222222222222, \"#7201a8\"], [0.3333333333333333, \"#9c179e\"], [0.4444444444444444, \"#bd3786\"], [0.5555555555555556, \"#d8576b\"], [0.6666666666666666, \"#ed7953\"], [0.7777777777777778, \"#fb9f3a\"], [0.8888888888888888, \"#fdca26\"], [1.0, \"#f0f921\"]], \"type\": \"heatmapgl\"}], \"histogram\": [{\"marker\": {\"colorbar\": {\"outlinewidth\": 0, \"ticks\": \"\"}}, \"type\": \"histogram\"}], \"histogram2d\": [{\"colorbar\": {\"outlinewidth\": 0, \"ticks\": \"\"}, \"colorscale\": [[0.0, \"#0d0887\"], [0.1111111111111111, \"#46039f\"], [0.2222222222222222, \"#7201a8\"], [0.3333333333333333, \"#9c179e\"], [0.4444444444444444, \"#bd3786\"], [0.5555555555555556, \"#d8576b\"], [0.6666666666666666, \"#ed7953\"], [0.7777777777777778, \"#fb9f3a\"], [0.8888888888888888, \"#fdca26\"], [1.0, \"#f0f921\"]], \"type\": \"histogram2d\"}], \"histogram2dcontour\": [{\"colorbar\": {\"outlinewidth\": 0, \"ticks\": \"\"}, \"colorscale\": [[0.0, \"#0d0887\"], [0.1111111111111111, \"#46039f\"], [0.2222222222222222, \"#7201a8\"], [0.3333333333333333, \"#9c179e\"], [0.4444444444444444, \"#bd3786\"], [0.5555555555555556, \"#d8576b\"], [0.6666666666666666, \"#ed7953\"], [0.7777777777777778, \"#fb9f3a\"], [0.8888888888888888, \"#fdca26\"], [1.0, \"#f0f921\"]], \"type\": \"histogram2dcontour\"}], \"mesh3d\": [{\"colorbar\": {\"outlinewidth\": 0, \"ticks\": \"\"}, \"type\": \"mesh3d\"}], \"parcoords\": [{\"line\": {\"colorbar\": {\"outlinewidth\": 0, \"ticks\": \"\"}}, \"type\": \"parcoords\"}], \"pie\": [{\"automargin\": true, \"type\": \"pie\"}], \"scatter\": [{\"marker\": {\"colorbar\": {\"outlinewidth\": 0, \"ticks\": \"\"}}, \"type\": \"scatter\"}], \"scatter3d\": [{\"line\": {\"colorbar\": {\"outlinewidth\": 0, \"ticks\": \"\"}}, \"marker\": {\"colorbar\": {\"outlinewidth\": 0, \"ticks\": \"\"}}, \"type\": \"scatter3d\"}], \"scattercarpet\": [{\"marker\": {\"colorbar\": {\"outlinewidth\": 0, \"ticks\": \"\"}}, \"type\": \"scattercarpet\"}], \"scattergeo\": [{\"marker\": {\"colorbar\": {\"outlinewidth\": 0, \"ticks\": \"\"}}, \"type\": \"scattergeo\"}], \"scattergl\": [{\"marker\": {\"colorbar\": {\"outlinewidth\": 0, \"ticks\": \"\"}}, \"type\": \"scattergl\"}], \"scattermapbox\": [{\"marker\": {\"colorbar\": {\"outlinewidth\": 0, \"ticks\": \"\"}}, \"type\": \"scattermapbox\"}], \"scatterpolar\": [{\"marker\": {\"colorbar\": {\"outlinewidth\": 0, \"ticks\": \"\"}}, \"type\": \"scatterpolar\"}], \"scatterpolargl\": [{\"marker\": {\"colorbar\": {\"outlinewidth\": 0, \"ticks\": \"\"}}, \"type\": \"scatterpolargl\"}], \"scatterternary\": [{\"marker\": {\"colorbar\": {\"outlinewidth\": 0, \"ticks\": \"\"}}, \"type\": \"scatterternary\"}], \"surface\": [{\"colorbar\": {\"outlinewidth\": 0, \"ticks\": \"\"}, \"colorscale\": [[0.0, \"#0d0887\"], [0.1111111111111111, \"#46039f\"], [0.2222222222222222, \"#7201a8\"], [0.3333333333333333, \"#9c179e\"], [0.4444444444444444, \"#bd3786\"], [0.5555555555555556, \"#d8576b\"], [0.6666666666666666, \"#ed7953\"], [0.7777777777777778, \"#fb9f3a\"], [0.8888888888888888, \"#fdca26\"], [1.0, \"#f0f921\"]], \"type\": \"surface\"}], \"table\": [{\"cells\": {\"fill\": {\"color\": \"#EBF0F8\"}, \"line\": {\"color\": \"white\"}}, \"header\": {\"fill\": {\"color\": \"#C8D4E3\"}, \"line\": {\"color\": \"white\"}}, \"type\": \"table\"}]}, \"layout\": {\"annotationdefaults\": {\"arrowcolor\": \"#2a3f5f\", \"arrowhead\": 0, \"arrowwidth\": 1}, \"coloraxis\": {\"colorbar\": {\"outlinewidth\": 0, \"ticks\": \"\"}}, \"colorscale\": {\"diverging\": [[0, \"#8e0152\"], [0.1, \"#c51b7d\"], [0.2, \"#de77ae\"], [0.3, \"#f1b6da\"], [0.4, \"#fde0ef\"], [0.5, \"#f7f7f7\"], [0.6, \"#e6f5d0\"], [0.7, \"#b8e186\"], [0.8, \"#7fbc41\"], [0.9, \"#4d9221\"], [1, \"#276419\"]], \"sequential\": [[0.0, \"#0d0887\"], [0.1111111111111111, \"#46039f\"], [0.2222222222222222, \"#7201a8\"], [0.3333333333333333, \"#9c179e\"], [0.4444444444444444, \"#bd3786\"], [0.5555555555555556, \"#d8576b\"], [0.6666666666666666, \"#ed7953\"], [0.7777777777777778, \"#fb9f3a\"], [0.8888888888888888, \"#fdca26\"], [1.0, \"#f0f921\"]], \"sequentialminus\": [[0.0, \"#0d0887\"], [0.1111111111111111, \"#46039f\"], [0.2222222222222222, \"#7201a8\"], [0.3333333333333333, \"#9c179e\"], [0.4444444444444444, \"#bd3786\"], [0.5555555555555556, \"#d8576b\"], [0.6666666666666666, \"#ed7953\"], [0.7777777777777778, \"#fb9f3a\"], [0.8888888888888888, \"#fdca26\"], [1.0, \"#f0f921\"]]}, \"colorway\": [\"#636efa\", \"#EF553B\", \"#00cc96\", \"#ab63fa\", \"#FFA15A\", \"#19d3f3\", \"#FF6692\", \"#B6E880\", \"#FF97FF\", \"#FECB52\"], \"font\": {\"color\": \"#2a3f5f\"}, \"geo\": {\"bgcolor\": \"white\", \"lakecolor\": \"white\", \"landcolor\": \"#E5ECF6\", \"showlakes\": true, \"showland\": true, \"subunitcolor\": \"white\"}, \"hoverlabel\": {\"align\": \"left\"}, \"hovermode\": \"closest\", \"mapbox\": {\"style\": \"light\"}, \"paper_bgcolor\": \"white\", \"plot_bgcolor\": \"#E5ECF6\", \"polar\": {\"angularaxis\": {\"gridcolor\": \"white\", \"linecolor\": \"white\", \"ticks\": \"\"}, \"bgcolor\": \"#E5ECF6\", \"radialaxis\": {\"gridcolor\": \"white\", \"linecolor\": \"white\", \"ticks\": \"\"}}, \"scene\": {\"xaxis\": {\"backgroundcolor\": \"#E5ECF6\", \"gridcolor\": \"white\", \"gridwidth\": 2, \"linecolor\": \"white\", \"showbackground\": true, \"ticks\": \"\", \"zerolinecolor\": \"white\"}, \"yaxis\": {\"backgroundcolor\": \"#E5ECF6\", \"gridcolor\": \"white\", \"gridwidth\": 2, \"linecolor\": \"white\", \"showbackground\": true, \"ticks\": \"\", \"zerolinecolor\": \"white\"}, \"zaxis\": {\"backgroundcolor\": \"#E5ECF6\", \"gridcolor\": \"white\", \"gridwidth\": 2, \"linecolor\": \"white\", \"showbackground\": true, \"ticks\": \"\", \"zerolinecolor\": \"white\"}}, \"shapedefaults\": {\"line\": {\"color\": \"#2a3f5f\"}}, \"ternary\": {\"aaxis\": {\"gridcolor\": \"white\", \"linecolor\": \"white\", \"ticks\": \"\"}, \"baxis\": {\"gridcolor\": \"white\", \"linecolor\": \"white\", \"ticks\": \"\"}, \"bgcolor\": \"#E5ECF6\", \"caxis\": {\"gridcolor\": \"white\", \"linecolor\": \"white\", \"ticks\": \"\"}}, \"title\": {\"x\": 0.05}, \"xaxis\": {\"automargin\": true, \"gridcolor\": \"white\", \"linecolor\": \"white\", \"ticks\": \"\", \"title\": {\"standoff\": 15}, \"zerolinecolor\": \"white\", \"zerolinewidth\": 2}, \"yaxis\": {\"automargin\": true, \"gridcolor\": \"white\", \"linecolor\": \"white\", \"ticks\": \"\", \"title\": {\"standoff\": 15}, \"zerolinecolor\": \"white\", \"zerolinewidth\": 2}}}, \"xaxis\": {\"anchor\": \"y\", \"domain\": [0.0, 1.0], \"title\": {\"text\": \"State\"}}, \"yaxis\": {\"anchor\": \"x\", \"domain\": [0.0, 1.0], \"title\": {\"text\": \"Population\"}}},\n                        {\"responsive\": true}\n                    ).then(function(){\n                            \nvar gd = document.getElementById('ef4aa187-df18-432d-8e8c-06f207122f1d');\nvar x = new MutationObserver(function (mutations, observer) {{\n        var display = window.getComputedStyle(gd).display;\n        if (!display || display === 'none') {{\n            console.log([gd, 'removed!']);\n            Plotly.purge(gd);\n            observer.disconnect();\n        }}\n}});\n\n// Listen for the removal of the full notebook cells\nvar notebookContainer = gd.closest('#notebook-container');\nif (notebookContainer) {{\n    x.observe(notebookContainer, {childList: true});\n}}\n\n// Listen for the clearing of the current output cell\nvar outputEl = gd.closest('.output');\nif (outputEl) {{\n    x.observe(outputEl, {childList: true});\n}}\n\n                        })\n                };\n                });\n            </script>\n        </div>"
     },
     "metadata": {},
     "output_type": "display_data"
    }
   ],
   "source": [
    "fig = px.bar(x=data.State.value_counts().index,y=data.State.value_counts().values)\n",
    "fig.update_xaxes(title_text=\"State\")\n",
    "fig.update_yaxes(title_text=\"Population\")\n"
   ],
   "metadata": {
    "collapsed": false,
    "pycharm": {
     "name": "#%%\n",
     "is_executing": false
    }
   }
  },
  {
   "cell_type": "code",
   "execution_count": 52,
   "metadata": {
    "pycharm": {
     "is_executing": false,
     "name": "#%%\n"
    }
   },
   "outputs": [
    {
     "data": {
      "text/plain": "    1990-01-01 00:00:00  1991-01-01 00:00:00  1992-01-01 00:00:00  \\\n51                27.23               22.942                25.36   \n\n    1993-01-01 00:00:00  1994-01-01 00:00:00  1995-01-01 00:00:00  \\\n51            34.518198                43.72                47.42   \n\n    1996-01-01 00:00:00  1997-01-01 00:00:00  1998-01-01 00:00:00  \\\n51            51.912325            58.265879            66.445943   \n\n    1999-01-01 00:00:00  ...  2001-01-01 00:00:00  2002-01-01 00:00:00  \\\n51            76.467353  ...            98.898629           104.939518   \n\n    2003-01-01 00:00:00  2004-01-01 00:00:00  2005-01-01 00:00:00  \\\n51             106.4878           103.543476                96.08   \n\n    2006-01-01 00:00:00  2007-01-01 00:00:00  2008-01-01 00:00:00       Crop  \\\n51                 89.0               106.06               119.72  Sugercane   \n\n             State  \n51  Andhra Pradesh  \n\n[1 rows x 21 columns]",
      "text/html": "<div>\n<style scoped>\n    .dataframe tbody tr th:only-of-type {\n        vertical-align: middle;\n    }\n\n    .dataframe tbody tr th {\n        vertical-align: top;\n    }\n\n    .dataframe thead th {\n        text-align: right;\n    }\n</style>\n<table border=\"1\" class=\"dataframe\">\n  <thead>\n    <tr style=\"text-align: right;\">\n      <th></th>\n      <th>1990-01-01 00:00:00</th>\n      <th>1991-01-01 00:00:00</th>\n      <th>1992-01-01 00:00:00</th>\n      <th>1993-01-01 00:00:00</th>\n      <th>1994-01-01 00:00:00</th>\n      <th>1995-01-01 00:00:00</th>\n      <th>1996-01-01 00:00:00</th>\n      <th>1997-01-01 00:00:00</th>\n      <th>1998-01-01 00:00:00</th>\n      <th>1999-01-01 00:00:00</th>\n      <th>...</th>\n      <th>2001-01-01 00:00:00</th>\n      <th>2002-01-01 00:00:00</th>\n      <th>2003-01-01 00:00:00</th>\n      <th>2004-01-01 00:00:00</th>\n      <th>2005-01-01 00:00:00</th>\n      <th>2006-01-01 00:00:00</th>\n      <th>2007-01-01 00:00:00</th>\n      <th>2008-01-01 00:00:00</th>\n      <th>Crop</th>\n      <th>State</th>\n    </tr>\n  </thead>\n  <tbody>\n    <tr>\n      <th>51</th>\n      <td>27.23</td>\n      <td>22.942</td>\n      <td>25.36</td>\n      <td>34.518198</td>\n      <td>43.72</td>\n      <td>47.42</td>\n      <td>51.912325</td>\n      <td>58.265879</td>\n      <td>66.445943</td>\n      <td>76.467353</td>\n      <td>...</td>\n      <td>98.898629</td>\n      <td>104.939518</td>\n      <td>106.4878</td>\n      <td>103.543476</td>\n      <td>96.08</td>\n      <td>89.0</td>\n      <td>106.06</td>\n      <td>119.72</td>\n      <td>Sugercane</td>\n      <td>Andhra Pradesh</td>\n    </tr>\n  </tbody>\n</table>\n<p>1 rows × 21 columns</p>\n</div>"
     },
     "metadata": {},
     "output_type": "execute_result",
     "execution_count": 52
    }
   ],
   "source": [
    "single_line = sugarcane.loc[sugarcane[\"State\"]==\"Andhra Pradesh\"]\n",
    "single_line"
   ]
  },
  {
   "cell_type": "markdown",
   "source": [
    "#Prediction Time"
   ],
   "metadata": {
    "collapsed": false,
    "pycharm": {
     "name": "#%% md\n"
    }
   }
  },
  {
   "cell_type": "code",
   "execution_count": 53,
   "outputs": [
    {
     "name": "stderr",
     "text": [
      "d:\\trials\\agricult\\venv\\lib\\site-packages\\ipykernel_launcher.py:3: SettingWithCopyWarning:\n",
      "\n",
      "\n",
      "A value is trying to be set on a copy of a slice from a DataFrame.\n",
      "Try using .loc[row_indexer,col_indexer] = value instead\n",
      "\n",
      "See the caveats in the documentation: https://pandas.pydata.org/pandas-docs/stable/user_guide/indexing.html#returning-a-view-versus-a-copy\n",
      "\n"
     ],
     "output_type": "stream"
    },
    {
     "data": {
      "text/plain": "1990-01-01 00:00:00             27.23\n1991-01-01 00:00:00            22.942\n1992-01-01 00:00:00             25.36\n1993-01-01 00:00:00           34.5182\n1994-01-01 00:00:00             43.72\n1995-01-01 00:00:00             47.42\n1996-01-01 00:00:00           51.9123\n1997-01-01 00:00:00           58.2659\n1998-01-01 00:00:00           66.4459\n1999-01-01 00:00:00           76.4674\n2000-01-01 00:00:00           88.3301\n2001-01-01 00:00:00           98.8986\n2002-01-01 00:00:00            104.94\n2003-01-01 00:00:00           106.488\n2004-01-01 00:00:00           103.543\n2005-01-01 00:00:00             96.08\n2006-01-01 00:00:00                89\n2007-01-01 00:00:00            106.06\n2008-01-01 00:00:00            119.72\nCrop                        Sugercane\nState                  Andhra Pradesh\n2009-01-01 00:00:00               NaN\n2010-01-01 00:00:00               NaN\n2011-01-01 00:00:00               NaN\n2012-01-01 00:00:00               NaN\n2013-01-01 00:00:00               NaN\n2014-01-01 00:00:00               NaN\n2015-01-01 00:00:00               NaN\n2016-01-01 00:00:00               NaN\n2017-01-01 00:00:00               NaN\n2018-01-01 00:00:00               NaN\nName: 51, dtype: object"
     },
     "metadata": {},
     "output_type": "execute_result",
     "execution_count": 53
    }
   ],
   "source": [
    "sl = single_line\n",
    "for i in range(2009,2019):\n",
    "    sl[pd.to_datetime(str(i))]  = np.NAN\n",
    "sl.iloc[0]\n"
   ],
   "metadata": {
    "collapsed": false,
    "pycharm": {
     "name": "#%%\n",
     "is_executing": false
    }
   }
  },
  {
   "cell_type": "code",
   "execution_count": 54,
   "outputs": [],
   "source": [
    "def interpolate_further(data):\n",
    "    #print(data.head())\n",
    "    timeData = data.drop([\"State\",\"Crop\"],axis=1)\n",
    "    # for i in range(2009,2019):\n",
    "    #     timeData[pd.to_datetime(str(i))]  = np.NAN\n",
    "    for i in range(1998,2004):\n",
    "            timeData[pd.to_datetime(str(i))]  = np.NAN\n",
    "    df = pd.DataFrame()\n",
    "    error_index = []\n",
    "    for index, row in timeData.iterrows():\n",
    "        try:\n",
    "            df = df.append(row.astype(float).interpolate(method=\"polynomial\", order=2),ignore_index=True)\n",
    "        except Exception as e:\n",
    "            print(data.iloc[index][\"State\"],data.iloc[index][\"Crop\"],\"Error: \",e)\n",
    "            error_index.append(index)\n",
    "    return df,error_index\n"
   ],
   "metadata": {
    "collapsed": false,
    "pycharm": {
     "name": "#%%\n",
     "is_executing": false
    }
   }
  },
  {
   "cell_type": "code",
   "execution_count": 55,
   "outputs": [
    {
     "data": {
      "text/plain": "[]"
     },
     "metadata": {},
     "output_type": "execute_result",
     "execution_count": 55
    }
   ],
   "source": [
    "newdf,error_index = interpolate_further(data)\n",
    "error_index"
   ],
   "metadata": {
    "collapsed": false,
    "pycharm": {
     "name": "#%%\n",
     "is_executing": false
    }
   }
  },
  {
   "cell_type": "code",
   "execution_count": 56,
   "outputs": [
    {
     "data": {
      "text/plain": "1990-01-01 00:00:00     221.36\n1991-01-01 00:00:00    256.512\n1992-01-01 00:00:00    287.987\n1993-01-01 00:00:00    315.856\n1994-01-01 00:00:00    339.967\n1995-01-01 00:00:00    360.402\n1996-01-01 00:00:00     377.16\n1997-01-01 00:00:00    390.272\n1998-01-01 00:00:00    399.666\n1999-01-01 00:00:00    405.384\n2000-01-01 00:00:00    407.425\n2001-01-01 00:00:00    407.453\n2002-01-01 00:00:00    415.464\n2003-01-01 00:00:00    433.113\n2004-01-01 00:00:00      460.4\n2005-01-01 00:00:00     497.44\n2006-01-01 00:00:00        519\n2007-01-01 00:00:00     435.48\n2008-01-01 00:00:00     584.82\nCrop                     Paddy\nState                    Bihar\nName: 1, dtype: object"
     },
     "metadata": {},
     "output_type": "execute_result",
     "execution_count": 56
    }
   ],
   "source": [
    "data.iloc[1]"
   ],
   "metadata": {
    "collapsed": false,
    "pycharm": {
     "name": "#%%\n",
     "is_executing": false
    }
   }
  },
  {
   "cell_type": "code",
   "execution_count": 74,
   "outputs": [
    {
     "data": {
      "text/plain": "1990-01-01    216.130000\n1991-01-01    256.003663\n1992-01-01    290.220720\n1993-01-01    318.851650\n1994-01-01    341.740000\n1995-01-01    363.600000\n1996-01-01    405.820000\n1997-01-01    436.720000\n1998-01-01    461.077571\n1999-01-01    480.873885\n2000-01-01    496.108941\n2001-01-01    507.265519\n2002-01-01    517.028915\n2003-01-01    525.889395\n2004-01-01    533.846957\n2005-01-01    540.960000\n2006-01-01    557.000000\n2007-01-01    638.560000\n2008-01-01    789.900000\nName: 0, dtype: float64"
     },
     "metadata": {},
     "output_type": "execute_result",
     "execution_count": 74
    }
   ],
   "source": [
    "newdf.iloc[0]"
   ],
   "metadata": {
    "collapsed": false,
    "pycharm": {
     "name": "#%%\n",
     "is_executing": false
    }
   }
  },
  {
   "cell_type": "code",
   "execution_count": 78,
   "outputs": [
    {
     "name": "stdout",
     "text": [
      "Coefficients: [-65.96373402   2.71984709  -1.59172635]\n"
     ],
     "output_type": "stream"
    }
   ],
   "source": [
    "train = newdf.iloc[0].values\n",
    "model = AutoReg(train, lags=2)\n",
    "model_fit = model.fit()\n",
    "print('Coefficients: %s' % model_fit.params)"
   ],
   "metadata": {
    "collapsed": false,
    "pycharm": {
     "name": "#%%\n",
     "is_executing": false
    }
   }
  },
  {
   "cell_type": "code",
   "execution_count": 81,
   "outputs": [],
   "source": [
    "predictions = model_fit.predict(start=len(train), end=len(train)+10-1, dynamic=False)"
   ],
   "metadata": {
    "collapsed": false,
    "pycharm": {
     "name": "#%%\n",
     "is_executing": false
    }
   }
  },
  {
   "cell_type": "code",
   "execution_count": 82,
   "outputs": [
    {
     "data": {
      "text/plain": "array([  1066.0307025 ,   1576.17212353,   2524.15426627,   4290.51519368,\n         7585.81866079,  13736.97696488,  25221.96560019,  46668.4177287 ,\n        86718.52903697, 161511.82464646])"
     },
     "metadata": {},
     "output_type": "execute_result",
     "execution_count": 82
    }
   ],
   "source": [
    "predictions"
   ],
   "metadata": {
    "collapsed": false,
    "pycharm": {
     "name": "#%%\n",
     "is_executing": false
    }
   }
  },
  {
   "cell_type": "code",
   "execution_count": 90,
   "outputs": [],
   "source": [
    "def predict(train_df,index):\n",
    "    try:\n",
    "        model = AutoReg(train_df.values, lags=3)\n",
    "        model_fit = model.fit()\n",
    "        predictions = model_fit.predict(start=len(train), end=len(train)+10-1, dynamic=False)\n",
    "        for i,j in zip(range(2009,2019),predictions):\n",
    "            train_df[pd.to_datetime(str(i))]= j\n",
    "        return train_df\n",
    "    except Exception as e:\n",
    "        print(\"error at index\",index,\": \",e,'.\\nSet lag to 1')\n",
    "        model = AutoReg(train_df.values, lags=1)\n",
    "        model_fit = model.fit()\n",
    "        predictions = model_fit.predict(start=len(train), end=len(train)+10-1, dynamic=False)\n",
    "        for i,j in zip(range(2009,2019),predictions):\n",
    "            train_df[pd.to_datetime(str(i))]= j\n",
    "        return train_df"
   ],
   "metadata": {
    "collapsed": false,
    "pycharm": {
     "name": "#%%\n",
     "is_executing": false
    }
   }
  },
  {
   "cell_type": "code",
   "execution_count": 91,
   "outputs": [
    {
     "name": "stdout",
     "text": [
      "[27, 37, 47]\n",
      "error at index 13 :  The model specification cannot be estimated. The model contains 4 regressors (1 trend, 0 seasonal, 3 lags) but after adjustment for hold_back and creation of the lags, there are only 1 data points available to estimate parameters. .\n",
      "Set lag to 1\n"
     ],
     "output_type": "stream"
    }
   ],
   "source": [
    "allnarowremdf = newdf.dropna(how='all')\n",
    "only_na = ~df.index.isin(allnarowremdf.index)\n",
    "error_index = []\n",
    "for index,val in enumerate(only_na):\n",
    "    if val:\n",
    "        error_index.append(index)\n",
    "print(error_index)\n",
    "pred_df = pd.DataFrame()\n",
    "for index,row in allnarowremdf.iterrows():\n",
    "    row = row.dropna()\n",
    "    tt = predict(row,index)\n",
    "    pred_df = pred_df.append(tt)\n",
    "#tt = predict(newdf.iloc[0])\n",
    "#tt"
   ],
   "metadata": {
    "collapsed": false,
    "pycharm": {
     "name": "#%%\n",
     "is_executing": false
    }
   }
  },
  {
   "cell_type": "code",
   "execution_count": 92,
   "outputs": [
    {
     "data": {
      "text/plain": "    1990-01-01   1991-01-01   1992-01-01   1993-01-01   1994-01-01  \\\n0       216.13   256.003663   290.220720   318.851650   341.740000   \n1       221.36   256.511716   287.986687   315.856021   339.967426   \n2       212.89   241.090000   300.490000   367.057840   413.380000   \n3       230.54   328.930000   295.410000   306.465261   331.090000   \n4       194.69   206.770000   224.380000   266.870000   290.360000   \n5       203.13   233.880000   260.700000   277.690922   283.771500   \n6       250.27   313.154837   359.530000   389.454684   428.310000   \n7       219.19   341.250000   285.330000   289.009287   340.920000   \n8          NaN  1306.420000  1342.917782  1367.975670  1381.456735   \n9       228.26   313.510000   263.770000   196.864337   274.620000   \n10         NaN          NaN          NaN          NaN          NaN   \n11         NaN          NaN          NaN          NaN          NaN   \n12      206.83   308.430000   235.240000   293.353887   353.750000   \n13         NaN          NaN          NaN          NaN          NaN   \n14      155.44   168.410000   217.520000   246.720000   263.300000   \n15         NaN          NaN          NaN          NaN   383.110000   \n16      256.86   317.170000   343.690000   373.896661   384.150000   \n17      190.79   210.410000   250.720000   268.320000   306.580000   \n18         NaN          NaN   233.640000   266.717838   282.530000   \n19      220.23   233.079586   250.274500   271.879724   297.777198   \n20         NaN          NaN   250.560000   319.645959   334.550000   \n21      436.80   487.800000   663.830000   708.209119   664.730000   \n22      458.57   475.760000   563.090000   602.650273   670.200000   \n23         NaN          NaN   450.060000   457.715453   513.180000   \n24      560.69   482.941349   590.360000   884.001385  1083.030000   \n25      641.09   926.040000   694.620000   672.273227   904.590000   \n26         NaN          NaN          NaN          NaN          NaN   \n28      604.20   836.680000   758.510000   700.576489   763.930000   \n29         NaN   692.700000   820.802624   933.313077  1029.616545   \n30      578.74   619.995900   706.280000   834.080000   979.201440   \n31      701.26   698.132225   835.980000  1115.760333  1248.930000   \n32         NaN          NaN   832.090000  1090.490000   788.740000   \n33         NaN   759.000000    -2.116107  -637.314541 -1143.124271   \n34      363.94   463.610000   595.430000   639.755674   648.310000   \n35      633.79   670.840000   743.470000    81.350000   826.270000   \n36         NaN          NaN   574.550000   570.042007   595.770000   \n38         NaN          NaN   496.390000   574.152659   589.910000   \n39      408.43   592.740000   571.420000   590.750000   663.500000   \n40         NaN          NaN   901.070000  1017.880000  1229.571166   \n41      553.02   575.000970   681.530000   873.246496  1026.320000   \n42         NaN          NaN          NaN          NaN          NaN   \n43         NaN          NaN          NaN          NaN          NaN   \n44         NaN          NaN          NaN          NaN  1293.150000   \n45      849.52   803.620000   831.560000  1107.380000  1421.080000   \n46      367.53   336.880000   357.950000   448.830000   512.880000   \n48      293.56   318.760000   406.140000   491.376298   562.997778   \n49         NaN   361.370000   372.740000   415.150000   468.610000   \n50      118.21   102.563702    96.440000    99.861338   140.390000   \n51       27.23    22.942000    25.360000    34.518198    43.720000   \n52       23.03    27.452753    31.800000    36.083340    40.360787   \n53         NaN          NaN          NaN          NaN    35.200000   \n54       21.12    23.759831    27.370000    31.964384    35.690000   \n55         NaN          NaN          NaN          NaN    27.950000   \n56       22.34    25.090000    25.070000    34.000000    41.950000   \n\n     1995-01-01   1996-01-01   1997-01-01   1998-01-01    1999-01-01  \\\n0    363.600000   405.820000   436.720000   461.077571    480.873885   \n1    360.402086   377.160000   390.271957   399.666306    405.383909   \n2    416.746532   424.680000   477.120000   527.597967    567.418976   \n3    327.450000   389.440000   444.770000   494.756578    542.470204   \n4    330.810000   344.810000   356.400000   372.838620    394.443385   \n5    290.472302   309.200000   337.910000   362.659224    381.275593   \n6    489.240000   537.350000   754.060000   912.734001    969.842132   \n7    400.900000   510.010000   555.910000   591.315334    629.000821   \n8   1383.445186  1373.941021  1352.870930  1320.350050   1276.336554   \n9    534.310000   441.400000   398.670000   408.636689    456.930596   \n10          NaN   364.820000   287.740000   260.054504    281.485629   \n11          NaN   491.190000   467.940000   493.410730    567.472104   \n12   321.770000   571.140000   470.540000   307.973574    153.102783   \n13          NaN          NaN          NaN          NaN           NaN   \n14   292.260000   336.130000   391.850000   441.451824    482.152617   \n15   434.260000   477.131119   511.806760   539.250473    559.764519   \n16   377.020000   492.090000   475.250000   457.244253    468.629030   \n17   342.830000   362.500000   411.970000   450.522506    469.957756   \n18   299.630000   393.670000   393.020000   383.239785    384.441749   \n19   328.020000   362.560000   401.219475   443.739043    490.218904   \n20   318.410000   390.200000   463.306554   519.052676    557.661588   \n21   663.900000   865.720000   739.880000   388.589906   -154.459344   \n22   819.770000   838.050000   880.970000   926.364128    964.884669   \n23   628.040000   806.400000   728.230000   721.099862    850.270767   \n24  1029.480000  1315.280000  1370.080000  1370.294770   1366.356727   \n25  1209.340000  1064.730000  1067.590000  1313.370188   1798.076502   \n26          NaN  1932.500000  2739.830000  3230.719718   3407.804842   \n28   913.780000   824.290000  1221.310000  1545.751651   1680.271551   \n29  1110.042186  1174.590000  1223.371519  1256.120176   1272.991007   \n30  1044.430000  1108.040000  2002.560000  2645.609404   2831.088241   \n31  1073.930000  1244.850000  1384.190000  1486.159380   1564.853640   \n32  1029.380000   903.460000   933.460000   948.293416    897.835064   \n33 -1521.455441 -1772.308050 -1895.845003 -1891.391235  -1759.458906   \n34   673.110000   720.850000  1381.270000  1886.704329   2090.728200   \n35   923.210000  1109.190000  1335.480000          NaN           NaN   \n36   644.560000   713.240000   985.340000  1208.045964   1333.643456   \n38   585.860000   813.408525  1161.200000  1491.568964   1786.729038   \n39   693.310000   827.240000   743.080000   668.810749    653.537262   \n40  1473.818667  1375.540000  1376.920000  5266.075455  13673.074302   \n41  1083.430000  1439.120000  2130.240000  2676.032977   2997.717926   \n42  1707.500000  1668.962447  1620.760000  1556.711752   1475.633321   \n43          NaN  1460.960000  1722.229406  1934.552612   2098.709450   \n44  1586.300000  1548.810000  1512.909171  1534.168558   1612.412012   \n45  1643.830000  1703.040000  2845.020000  3713.388728   4043.031471   \n46   636.150000   755.370000   571.420000   426.596188    387.297993   \n48   619.770000   646.820000   576.340000   515.000066    482.752455   \n49   690.350000   689.610000   579.930000   499.095139    464.845782   \n50   215.320000   186.170000   250.870000   288.829583    273.110956   \n51    47.420000    51.912325    58.265879    66.046351     75.205283   \n52    45.130000    50.471512    56.080000    61.676599     67.243469   \n53    35.212516    36.900000    40.273963    45.315970     52.032944   \n54    37.020000    38.310000    43.590000    51.993502     63.281745   \n55    34.547092    40.721715    46.489049    51.817578     56.723639   \n56    41.970000    43.510000    43.080000    43.946716     46.822206   \n\n      2000-01-01    2001-01-01    2002-01-01    2003-01-01    2004-01-01  \\\n0     496.108941    507.265519    517.028915    525.889395    533.846957   \n1     407.424767    407.452867    415.463506    433.112508    460.399870   \n2     596.583028    615.572802    626.952024    631.227703    628.399839   \n3     587.910879    630.063930    661.950940    682.575780    691.938447   \n4     421.214296    451.444012    474.204911    487.795139    492.214697   \n5     393.759108    402.533830    421.976421    454.501421    500.108832   \n6     925.384390    798.257805    705.246209    665.313049    678.458327   \n7     668.966462    709.520756    739.629253    757.613937    763.474808   \n8    1220.830444   1153.632374   1075.109547    985.094105    883.586049   \n9     543.551721    659.375211    746.909028    797.027071    809.729340   \n10    352.033374    461.594677    546.867116    597.727485    614.175785   \n11    690.124121    845.835802    937.793470    950.508134    883.979796   \n12      5.927627   -117.113981   -114.951586     28.648434    313.686078   \n13           NaN           NaN           NaN           NaN           NaN   \n14    513.952378    537.372803    555.100164    567.675409    575.098537   \n15    573.348899    582.286176    600.108550    629.092787    669.238887   \n16    509.404330    574.425072    631.216602    674.611929    704.611054   \n17    470.275750    455.999847    454.689212    470.869433    504.540509   \n18    396.625895    418.707588    443.618786    470.257446    498.623568   \n19    540.659059    592.755165    631.536691    654.715243    662.290821   \n20    579.133289    584.111035    576.479269    556.921061    525.436410   \n21   -889.267749  -1729.266165  -2136.077069  -2023.580013  -1391.774997   \n22    996.531624   1025.694777   1078.084679   1158.062740   1265.628959   \n23   1115.742716   1481.611252   1723.737594   1806.249221   1729.146132   \n24   1358.265870   1347.596047   1344.040107   1349.165694   1362.972808   \n25   2521.708944   3405.189789   3953.672053   4088.317615   3809.126475   \n26   3271.085374   2880.956367   2610.218380   2519.449804   2608.650638   \n28   1624.869698   1414.498404   1264.639691   1210.375086   1251.704588   \n29   1273.984009   1267.811640   1306.918407   1399.964628   1546.950301   \n30   2558.996510   1914.301057   1423.700814   1172.461544   1160.583246   \n31   1620.272780   1657.938387   1710.288427   1782.848686   1875.619164   \n32    782.084942    626.009932    583.080933    678.165206    911.262752   \n33  -1500.048017  -1111.923489   -597.206223     44.989604    814.663992   \n34   1993.341612   1645.888550   1365.928845   1205.056238   1163.270731   \n35           NaN           NaN           NaN           NaN           NaN   \n36   1362.132478   1305.129842   1234.250426   1161.246977   1086.119496   \n38   2046.680223   2256.984136   2326.866607   2242.149266   2002.832113   \n39    697.259539    790.340937    872.551117    934.200785    975.289942   \n40  26597.916540  42143.900436  48575.140521  44003.818239  28429.933589   \n41   3095.294847   2992.254349   2833.371147   2642.486684   2419.600959   \n42   1377.524707   1278.491983   1277.296979   1389.913191   1616.340619   \n43   2214.699919   2282.643678   2302.169450   2273.528853   2196.721888   \n44   1747.639533   1926.282845   2062.713633   2143.361976   2168.227874   \n45   3833.948228   3168.950191   2562.934900   2099.256544   1777.915123   \n46    453.525414    608.686107    749.154734    858.237390    935.934075   \n48    479.597166    507.755242    579.675345    697.475816    861.156654   \n49    477.181929    533.546110    617.008951    724.915682    857.266304   \n50    203.714121     94.298854     29.503253     22.980800     74.731497   \n51     85.742674     96.910234    103.971321    106.182402    103.543476   \n52     72.780610     78.184632     82.718605     86.280509     88.870346   \n53     60.424884     69.855352     76.293072     79.104279     78.288972   \n54     77.454728     93.364461    103.764592    107.512289    104.607553   \n55     61.207232     65.278902     68.916401     72.131431     74.923993   \n56     51.706472     58.157170     63.367799     66.895571     68.740486   \n\n     2005-01-01   2006-01-01  2007-01-01  2008-01-01  \n0    540.960000   557.000000      638.56      789.90  \n1    497.440000   519.000000      435.48      584.82  \n2    618.450000   609.000000      676.86     1021.90  \n3    689.920000   695.000000      783.31      745.22  \n4    487.280000   477.000000      505.92      669.86  \n5    559.190000   615.000000      600.73      732.62  \n6    746.640000   898.000000     1166.40     1102.37  \n7    757.020000   724.000000      672.98     1123.22  \n8    770.260000   706.000000      956.40     1007.52  \n9    782.210000   710.909309      678.98      769.59  \n10   592.660000   529.435977      537.84      731.21  \n11   736.270000   561.000000      669.95      796.56  \n12   743.000000  1170.000000      885.37      975.69  \n13   759.130000   803.000000     1031.39     1005.02  \n14   577.410000   589.000000      673.46      716.55  \n15   720.550000   779.000000      866.86     1217.08  \n16   720.770000   730.000000      779.37      810.25  \n17   556.270000   617.000000      647.95      804.80  \n18   528.700000   568.000000      649.77      683.58  \n19   654.220000   636.000000      651.14      769.84  \n20   481.890000   465.000000      632.04      580.46  \n21  -218.384201  1597.000000     3479.70     1967.71  \n22  1401.570000  1551.000000     1613.00     1551.94  \n23  1488.300000  1248.000000     1817.84     1691.66  \n24  1385.680000  1426.000000     1554.55     1914.90  \n25  3106.440000  2139.000000     1939.92     1833.65  \n26  2884.330000  3159.000000     2424.60     2261.24  \n28  1392.280000  1588.000000     1569.41     1873.83  \n29  1748.500000  1886.000000     1597.93     2825.24  \n30  1396.690000  1842.000000     2033.20     2059.11  \n31  1989.420000  2089.000000     2063.36     2554.91  \n32  1285.820000  1689.000000     1566.36     1918.92  \n33  1714.450000  2413.000000     1673.23     3484.01  \n34  1245.580000  1424.000000     1396.05     1251.12  \n35          NaN          NaN         NaN         NaN  \n36  1009.700000  1003.000000     1332.63     1341.29  \n38  1605.910000  1298.000000     2169.62     1865.36  \n39   994.970000  1013.000000     1159.79     1343.92  \n40  1594.550000  1709.000000   171667.00     2179.26  \n41  2166.090000  1924.000000     1875.80     2127.35  \n42  1959.110000  2302.000000     2026.09     1708.32  \n43  2071.340000  1867.000000     1575.12     2233.26  \n44  2137.150000  2052.000000     2010.50     2539.47  \n45  1606.120000  1630.000000     1826.48     2003.76  \n46   980.820000   988.000000     1017.68     1286.42  \n48  1071.540000  1252.000000     1100.58     1481.71  \n49  1014.280000  1152.000000     1093.30     1231.95  \n50   186.370000   319.000000      265.06      368.34  \n51    96.080000    89.000000      106.06      119.72  \n52    90.480000    92.000000       96.92       92.39  \n53    73.830000    64.000000       48.46       86.53  \n54    94.910000    80.000000       76.29      107.56  \n55    77.300000    78.000000       73.45       85.79  \n56    68.860000    68.000000       73.35       93.64  ",
      "text/html": "<div>\n<style scoped>\n    .dataframe tbody tr th:only-of-type {\n        vertical-align: middle;\n    }\n\n    .dataframe tbody tr th {\n        vertical-align: top;\n    }\n\n    .dataframe thead th {\n        text-align: right;\n    }\n</style>\n<table border=\"1\" class=\"dataframe\">\n  <thead>\n    <tr style=\"text-align: right;\">\n      <th></th>\n      <th>1990-01-01</th>\n      <th>1991-01-01</th>\n      <th>1992-01-01</th>\n      <th>1993-01-01</th>\n      <th>1994-01-01</th>\n      <th>1995-01-01</th>\n      <th>1996-01-01</th>\n      <th>1997-01-01</th>\n      <th>1998-01-01</th>\n      <th>1999-01-01</th>\n      <th>2000-01-01</th>\n      <th>2001-01-01</th>\n      <th>2002-01-01</th>\n      <th>2003-01-01</th>\n      <th>2004-01-01</th>\n      <th>2005-01-01</th>\n      <th>2006-01-01</th>\n      <th>2007-01-01</th>\n      <th>2008-01-01</th>\n    </tr>\n  </thead>\n  <tbody>\n    <tr>\n      <th>0</th>\n      <td>216.13</td>\n      <td>256.003663</td>\n      <td>290.220720</td>\n      <td>318.851650</td>\n      <td>341.740000</td>\n      <td>363.600000</td>\n      <td>405.820000</td>\n      <td>436.720000</td>\n      <td>461.077571</td>\n      <td>480.873885</td>\n      <td>496.108941</td>\n      <td>507.265519</td>\n      <td>517.028915</td>\n      <td>525.889395</td>\n      <td>533.846957</td>\n      <td>540.960000</td>\n      <td>557.000000</td>\n      <td>638.56</td>\n      <td>789.90</td>\n    </tr>\n    <tr>\n      <th>1</th>\n      <td>221.36</td>\n      <td>256.511716</td>\n      <td>287.986687</td>\n      <td>315.856021</td>\n      <td>339.967426</td>\n      <td>360.402086</td>\n      <td>377.160000</td>\n      <td>390.271957</td>\n      <td>399.666306</td>\n      <td>405.383909</td>\n      <td>407.424767</td>\n      <td>407.452867</td>\n      <td>415.463506</td>\n      <td>433.112508</td>\n      <td>460.399870</td>\n      <td>497.440000</td>\n      <td>519.000000</td>\n      <td>435.48</td>\n      <td>584.82</td>\n    </tr>\n    <tr>\n      <th>2</th>\n      <td>212.89</td>\n      <td>241.090000</td>\n      <td>300.490000</td>\n      <td>367.057840</td>\n      <td>413.380000</td>\n      <td>416.746532</td>\n      <td>424.680000</td>\n      <td>477.120000</td>\n      <td>527.597967</td>\n      <td>567.418976</td>\n      <td>596.583028</td>\n      <td>615.572802</td>\n      <td>626.952024</td>\n      <td>631.227703</td>\n      <td>628.399839</td>\n      <td>618.450000</td>\n      <td>609.000000</td>\n      <td>676.86</td>\n      <td>1021.90</td>\n    </tr>\n    <tr>\n      <th>3</th>\n      <td>230.54</td>\n      <td>328.930000</td>\n      <td>295.410000</td>\n      <td>306.465261</td>\n      <td>331.090000</td>\n      <td>327.450000</td>\n      <td>389.440000</td>\n      <td>444.770000</td>\n      <td>494.756578</td>\n      <td>542.470204</td>\n      <td>587.910879</td>\n      <td>630.063930</td>\n      <td>661.950940</td>\n      <td>682.575780</td>\n      <td>691.938447</td>\n      <td>689.920000</td>\n      <td>695.000000</td>\n      <td>783.31</td>\n      <td>745.22</td>\n    </tr>\n    <tr>\n      <th>4</th>\n      <td>194.69</td>\n      <td>206.770000</td>\n      <td>224.380000</td>\n      <td>266.870000</td>\n      <td>290.360000</td>\n      <td>330.810000</td>\n      <td>344.810000</td>\n      <td>356.400000</td>\n      <td>372.838620</td>\n      <td>394.443385</td>\n      <td>421.214296</td>\n      <td>451.444012</td>\n      <td>474.204911</td>\n      <td>487.795139</td>\n      <td>492.214697</td>\n      <td>487.280000</td>\n      <td>477.000000</td>\n      <td>505.92</td>\n      <td>669.86</td>\n    </tr>\n    <tr>\n      <th>5</th>\n      <td>203.13</td>\n      <td>233.880000</td>\n      <td>260.700000</td>\n      <td>277.690922</td>\n      <td>283.771500</td>\n      <td>290.472302</td>\n      <td>309.200000</td>\n      <td>337.910000</td>\n      <td>362.659224</td>\n      <td>381.275593</td>\n      <td>393.759108</td>\n      <td>402.533830</td>\n      <td>421.976421</td>\n      <td>454.501421</td>\n      <td>500.108832</td>\n      <td>559.190000</td>\n      <td>615.000000</td>\n      <td>600.73</td>\n      <td>732.62</td>\n    </tr>\n    <tr>\n      <th>6</th>\n      <td>250.27</td>\n      <td>313.154837</td>\n      <td>359.530000</td>\n      <td>389.454684</td>\n      <td>428.310000</td>\n      <td>489.240000</td>\n      <td>537.350000</td>\n      <td>754.060000</td>\n      <td>912.734001</td>\n      <td>969.842132</td>\n      <td>925.384390</td>\n      <td>798.257805</td>\n      <td>705.246209</td>\n      <td>665.313049</td>\n      <td>678.458327</td>\n      <td>746.640000</td>\n      <td>898.000000</td>\n      <td>1166.40</td>\n      <td>1102.37</td>\n    </tr>\n    <tr>\n      <th>7</th>\n      <td>219.19</td>\n      <td>341.250000</td>\n      <td>285.330000</td>\n      <td>289.009287</td>\n      <td>340.920000</td>\n      <td>400.900000</td>\n      <td>510.010000</td>\n      <td>555.910000</td>\n      <td>591.315334</td>\n      <td>629.000821</td>\n      <td>668.966462</td>\n      <td>709.520756</td>\n      <td>739.629253</td>\n      <td>757.613937</td>\n      <td>763.474808</td>\n      <td>757.020000</td>\n      <td>724.000000</td>\n      <td>672.98</td>\n      <td>1123.22</td>\n    </tr>\n    <tr>\n      <th>8</th>\n      <td>NaN</td>\n      <td>1306.420000</td>\n      <td>1342.917782</td>\n      <td>1367.975670</td>\n      <td>1381.456735</td>\n      <td>1383.445186</td>\n      <td>1373.941021</td>\n      <td>1352.870930</td>\n      <td>1320.350050</td>\n      <td>1276.336554</td>\n      <td>1220.830444</td>\n      <td>1153.632374</td>\n      <td>1075.109547</td>\n      <td>985.094105</td>\n      <td>883.586049</td>\n      <td>770.260000</td>\n      <td>706.000000</td>\n      <td>956.40</td>\n      <td>1007.52</td>\n    </tr>\n    <tr>\n      <th>9</th>\n      <td>228.26</td>\n      <td>313.510000</td>\n      <td>263.770000</td>\n      <td>196.864337</td>\n      <td>274.620000</td>\n      <td>534.310000</td>\n      <td>441.400000</td>\n      <td>398.670000</td>\n      <td>408.636689</td>\n      <td>456.930596</td>\n      <td>543.551721</td>\n      <td>659.375211</td>\n      <td>746.909028</td>\n      <td>797.027071</td>\n      <td>809.729340</td>\n      <td>782.210000</td>\n      <td>710.909309</td>\n      <td>678.98</td>\n      <td>769.59</td>\n    </tr>\n    <tr>\n      <th>10</th>\n      <td>NaN</td>\n      <td>NaN</td>\n      <td>NaN</td>\n      <td>NaN</td>\n      <td>NaN</td>\n      <td>NaN</td>\n      <td>364.820000</td>\n      <td>287.740000</td>\n      <td>260.054504</td>\n      <td>281.485629</td>\n      <td>352.033374</td>\n      <td>461.594677</td>\n      <td>546.867116</td>\n      <td>597.727485</td>\n      <td>614.175785</td>\n      <td>592.660000</td>\n      <td>529.435977</td>\n      <td>537.84</td>\n      <td>731.21</td>\n    </tr>\n    <tr>\n      <th>11</th>\n      <td>NaN</td>\n      <td>NaN</td>\n      <td>NaN</td>\n      <td>NaN</td>\n      <td>NaN</td>\n      <td>NaN</td>\n      <td>491.190000</td>\n      <td>467.940000</td>\n      <td>493.410730</td>\n      <td>567.472104</td>\n      <td>690.124121</td>\n      <td>845.835802</td>\n      <td>937.793470</td>\n      <td>950.508134</td>\n      <td>883.979796</td>\n      <td>736.270000</td>\n      <td>561.000000</td>\n      <td>669.95</td>\n      <td>796.56</td>\n    </tr>\n    <tr>\n      <th>12</th>\n      <td>206.83</td>\n      <td>308.430000</td>\n      <td>235.240000</td>\n      <td>293.353887</td>\n      <td>353.750000</td>\n      <td>321.770000</td>\n      <td>571.140000</td>\n      <td>470.540000</td>\n      <td>307.973574</td>\n      <td>153.102783</td>\n      <td>5.927627</td>\n      <td>-117.113981</td>\n      <td>-114.951586</td>\n      <td>28.648434</td>\n      <td>313.686078</td>\n      <td>743.000000</td>\n      <td>1170.000000</td>\n      <td>885.37</td>\n      <td>975.69</td>\n    </tr>\n    <tr>\n      <th>13</th>\n      <td>NaN</td>\n      <td>NaN</td>\n      <td>NaN</td>\n      <td>NaN</td>\n      <td>NaN</td>\n      <td>NaN</td>\n      <td>NaN</td>\n      <td>NaN</td>\n      <td>NaN</td>\n      <td>NaN</td>\n      <td>NaN</td>\n      <td>NaN</td>\n      <td>NaN</td>\n      <td>NaN</td>\n      <td>NaN</td>\n      <td>759.130000</td>\n      <td>803.000000</td>\n      <td>1031.39</td>\n      <td>1005.02</td>\n    </tr>\n    <tr>\n      <th>14</th>\n      <td>155.44</td>\n      <td>168.410000</td>\n      <td>217.520000</td>\n      <td>246.720000</td>\n      <td>263.300000</td>\n      <td>292.260000</td>\n      <td>336.130000</td>\n      <td>391.850000</td>\n      <td>441.451824</td>\n      <td>482.152617</td>\n      <td>513.952378</td>\n      <td>537.372803</td>\n      <td>555.100164</td>\n      <td>567.675409</td>\n      <td>575.098537</td>\n      <td>577.410000</td>\n      <td>589.000000</td>\n      <td>673.46</td>\n      <td>716.55</td>\n    </tr>\n    <tr>\n      <th>15</th>\n      <td>NaN</td>\n      <td>NaN</td>\n      <td>NaN</td>\n      <td>NaN</td>\n      <td>383.110000</td>\n      <td>434.260000</td>\n      <td>477.131119</td>\n      <td>511.806760</td>\n      <td>539.250473</td>\n      <td>559.764519</td>\n      <td>573.348899</td>\n      <td>582.286176</td>\n      <td>600.108550</td>\n      <td>629.092787</td>\n      <td>669.238887</td>\n      <td>720.550000</td>\n      <td>779.000000</td>\n      <td>866.86</td>\n      <td>1217.08</td>\n    </tr>\n    <tr>\n      <th>16</th>\n      <td>256.86</td>\n      <td>317.170000</td>\n      <td>343.690000</td>\n      <td>373.896661</td>\n      <td>384.150000</td>\n      <td>377.020000</td>\n      <td>492.090000</td>\n      <td>475.250000</td>\n      <td>457.244253</td>\n      <td>468.629030</td>\n      <td>509.404330</td>\n      <td>574.425072</td>\n      <td>631.216602</td>\n      <td>674.611929</td>\n      <td>704.611054</td>\n      <td>720.770000</td>\n      <td>730.000000</td>\n      <td>779.37</td>\n      <td>810.25</td>\n    </tr>\n    <tr>\n      <th>17</th>\n      <td>190.79</td>\n      <td>210.410000</td>\n      <td>250.720000</td>\n      <td>268.320000</td>\n      <td>306.580000</td>\n      <td>342.830000</td>\n      <td>362.500000</td>\n      <td>411.970000</td>\n      <td>450.522506</td>\n      <td>469.957756</td>\n      <td>470.275750</td>\n      <td>455.999847</td>\n      <td>454.689212</td>\n      <td>470.869433</td>\n      <td>504.540509</td>\n      <td>556.270000</td>\n      <td>617.000000</td>\n      <td>647.95</td>\n      <td>804.80</td>\n    </tr>\n    <tr>\n      <th>18</th>\n      <td>NaN</td>\n      <td>NaN</td>\n      <td>233.640000</td>\n      <td>266.717838</td>\n      <td>282.530000</td>\n      <td>299.630000</td>\n      <td>393.670000</td>\n      <td>393.020000</td>\n      <td>383.239785</td>\n      <td>384.441749</td>\n      <td>396.625895</td>\n      <td>418.707588</td>\n      <td>443.618786</td>\n      <td>470.257446</td>\n      <td>498.623568</td>\n      <td>528.700000</td>\n      <td>568.000000</td>\n      <td>649.77</td>\n      <td>683.58</td>\n    </tr>\n    <tr>\n      <th>19</th>\n      <td>220.23</td>\n      <td>233.079586</td>\n      <td>250.274500</td>\n      <td>271.879724</td>\n      <td>297.777198</td>\n      <td>328.020000</td>\n      <td>362.560000</td>\n      <td>401.219475</td>\n      <td>443.739043</td>\n      <td>490.218904</td>\n      <td>540.659059</td>\n      <td>592.755165</td>\n      <td>631.536691</td>\n      <td>654.715243</td>\n      <td>662.290821</td>\n      <td>654.220000</td>\n      <td>636.000000</td>\n      <td>651.14</td>\n      <td>769.84</td>\n    </tr>\n    <tr>\n      <th>20</th>\n      <td>NaN</td>\n      <td>NaN</td>\n      <td>250.560000</td>\n      <td>319.645959</td>\n      <td>334.550000</td>\n      <td>318.410000</td>\n      <td>390.200000</td>\n      <td>463.306554</td>\n      <td>519.052676</td>\n      <td>557.661588</td>\n      <td>579.133289</td>\n      <td>584.111035</td>\n      <td>576.479269</td>\n      <td>556.921061</td>\n      <td>525.436410</td>\n      <td>481.890000</td>\n      <td>465.000000</td>\n      <td>632.04</td>\n      <td>580.46</td>\n    </tr>\n    <tr>\n      <th>21</th>\n      <td>436.80</td>\n      <td>487.800000</td>\n      <td>663.830000</td>\n      <td>708.209119</td>\n      <td>664.730000</td>\n      <td>663.900000</td>\n      <td>865.720000</td>\n      <td>739.880000</td>\n      <td>388.589906</td>\n      <td>-154.459344</td>\n      <td>-889.267749</td>\n      <td>-1729.266165</td>\n      <td>-2136.077069</td>\n      <td>-2023.580013</td>\n      <td>-1391.774997</td>\n      <td>-218.384201</td>\n      <td>1597.000000</td>\n      <td>3479.70</td>\n      <td>1967.71</td>\n    </tr>\n    <tr>\n      <th>22</th>\n      <td>458.57</td>\n      <td>475.760000</td>\n      <td>563.090000</td>\n      <td>602.650273</td>\n      <td>670.200000</td>\n      <td>819.770000</td>\n      <td>838.050000</td>\n      <td>880.970000</td>\n      <td>926.364128</td>\n      <td>964.884669</td>\n      <td>996.531624</td>\n      <td>1025.694777</td>\n      <td>1078.084679</td>\n      <td>1158.062740</td>\n      <td>1265.628959</td>\n      <td>1401.570000</td>\n      <td>1551.000000</td>\n      <td>1613.00</td>\n      <td>1551.94</td>\n    </tr>\n    <tr>\n      <th>23</th>\n      <td>NaN</td>\n      <td>NaN</td>\n      <td>450.060000</td>\n      <td>457.715453</td>\n      <td>513.180000</td>\n      <td>628.040000</td>\n      <td>806.400000</td>\n      <td>728.230000</td>\n      <td>721.099862</td>\n      <td>850.270767</td>\n      <td>1115.742716</td>\n      <td>1481.611252</td>\n      <td>1723.737594</td>\n      <td>1806.249221</td>\n      <td>1729.146132</td>\n      <td>1488.300000</td>\n      <td>1248.000000</td>\n      <td>1817.84</td>\n      <td>1691.66</td>\n    </tr>\n    <tr>\n      <th>24</th>\n      <td>560.69</td>\n      <td>482.941349</td>\n      <td>590.360000</td>\n      <td>884.001385</td>\n      <td>1083.030000</td>\n      <td>1029.480000</td>\n      <td>1315.280000</td>\n      <td>1370.080000</td>\n      <td>1370.294770</td>\n      <td>1366.356727</td>\n      <td>1358.265870</td>\n      <td>1347.596047</td>\n      <td>1344.040107</td>\n      <td>1349.165694</td>\n      <td>1362.972808</td>\n      <td>1385.680000</td>\n      <td>1426.000000</td>\n      <td>1554.55</td>\n      <td>1914.90</td>\n    </tr>\n    <tr>\n      <th>25</th>\n      <td>641.09</td>\n      <td>926.040000</td>\n      <td>694.620000</td>\n      <td>672.273227</td>\n      <td>904.590000</td>\n      <td>1209.340000</td>\n      <td>1064.730000</td>\n      <td>1067.590000</td>\n      <td>1313.370188</td>\n      <td>1798.076502</td>\n      <td>2521.708944</td>\n      <td>3405.189789</td>\n      <td>3953.672053</td>\n      <td>4088.317615</td>\n      <td>3809.126475</td>\n      <td>3106.440000</td>\n      <td>2139.000000</td>\n      <td>1939.92</td>\n      <td>1833.65</td>\n    </tr>\n    <tr>\n      <th>26</th>\n      <td>NaN</td>\n      <td>NaN</td>\n      <td>NaN</td>\n      <td>NaN</td>\n      <td>NaN</td>\n      <td>NaN</td>\n      <td>1932.500000</td>\n      <td>2739.830000</td>\n      <td>3230.719718</td>\n      <td>3407.804842</td>\n      <td>3271.085374</td>\n      <td>2880.956367</td>\n      <td>2610.218380</td>\n      <td>2519.449804</td>\n      <td>2608.650638</td>\n      <td>2884.330000</td>\n      <td>3159.000000</td>\n      <td>2424.60</td>\n      <td>2261.24</td>\n    </tr>\n    <tr>\n      <th>28</th>\n      <td>604.20</td>\n      <td>836.680000</td>\n      <td>758.510000</td>\n      <td>700.576489</td>\n      <td>763.930000</td>\n      <td>913.780000</td>\n      <td>824.290000</td>\n      <td>1221.310000</td>\n      <td>1545.751651</td>\n      <td>1680.271551</td>\n      <td>1624.869698</td>\n      <td>1414.498404</td>\n      <td>1264.639691</td>\n      <td>1210.375086</td>\n      <td>1251.704588</td>\n      <td>1392.280000</td>\n      <td>1588.000000</td>\n      <td>1569.41</td>\n      <td>1873.83</td>\n    </tr>\n    <tr>\n      <th>29</th>\n      <td>NaN</td>\n      <td>692.700000</td>\n      <td>820.802624</td>\n      <td>933.313077</td>\n      <td>1029.616545</td>\n      <td>1110.042186</td>\n      <td>1174.590000</td>\n      <td>1223.371519</td>\n      <td>1256.120176</td>\n      <td>1272.991007</td>\n      <td>1273.984009</td>\n      <td>1267.811640</td>\n      <td>1306.918407</td>\n      <td>1399.964628</td>\n      <td>1546.950301</td>\n      <td>1748.500000</td>\n      <td>1886.000000</td>\n      <td>1597.93</td>\n      <td>2825.24</td>\n    </tr>\n    <tr>\n      <th>30</th>\n      <td>578.74</td>\n      <td>619.995900</td>\n      <td>706.280000</td>\n      <td>834.080000</td>\n      <td>979.201440</td>\n      <td>1044.430000</td>\n      <td>1108.040000</td>\n      <td>2002.560000</td>\n      <td>2645.609404</td>\n      <td>2831.088241</td>\n      <td>2558.996510</td>\n      <td>1914.301057</td>\n      <td>1423.700814</td>\n      <td>1172.461544</td>\n      <td>1160.583246</td>\n      <td>1396.690000</td>\n      <td>1842.000000</td>\n      <td>2033.20</td>\n      <td>2059.11</td>\n    </tr>\n    <tr>\n      <th>31</th>\n      <td>701.26</td>\n      <td>698.132225</td>\n      <td>835.980000</td>\n      <td>1115.760333</td>\n      <td>1248.930000</td>\n      <td>1073.930000</td>\n      <td>1244.850000</td>\n      <td>1384.190000</td>\n      <td>1486.159380</td>\n      <td>1564.853640</td>\n      <td>1620.272780</td>\n      <td>1657.938387</td>\n      <td>1710.288427</td>\n      <td>1782.848686</td>\n      <td>1875.619164</td>\n      <td>1989.420000</td>\n      <td>2089.000000</td>\n      <td>2063.36</td>\n      <td>2554.91</td>\n    </tr>\n    <tr>\n      <th>32</th>\n      <td>NaN</td>\n      <td>NaN</td>\n      <td>832.090000</td>\n      <td>1090.490000</td>\n      <td>788.740000</td>\n      <td>1029.380000</td>\n      <td>903.460000</td>\n      <td>933.460000</td>\n      <td>948.293416</td>\n      <td>897.835064</td>\n      <td>782.084942</td>\n      <td>626.009932</td>\n      <td>583.080933</td>\n      <td>678.165206</td>\n      <td>911.262752</td>\n      <td>1285.820000</td>\n      <td>1689.000000</td>\n      <td>1566.36</td>\n      <td>1918.92</td>\n    </tr>\n    <tr>\n      <th>33</th>\n      <td>NaN</td>\n      <td>759.000000</td>\n      <td>-2.116107</td>\n      <td>-637.314541</td>\n      <td>-1143.124271</td>\n      <td>-1521.455441</td>\n      <td>-1772.308050</td>\n      <td>-1895.845003</td>\n      <td>-1891.391235</td>\n      <td>-1759.458906</td>\n      <td>-1500.048017</td>\n      <td>-1111.923489</td>\n      <td>-597.206223</td>\n      <td>44.989604</td>\n      <td>814.663992</td>\n      <td>1714.450000</td>\n      <td>2413.000000</td>\n      <td>1673.23</td>\n      <td>3484.01</td>\n    </tr>\n    <tr>\n      <th>34</th>\n      <td>363.94</td>\n      <td>463.610000</td>\n      <td>595.430000</td>\n      <td>639.755674</td>\n      <td>648.310000</td>\n      <td>673.110000</td>\n      <td>720.850000</td>\n      <td>1381.270000</td>\n      <td>1886.704329</td>\n      <td>2090.728200</td>\n      <td>1993.341612</td>\n      <td>1645.888550</td>\n      <td>1365.928845</td>\n      <td>1205.056238</td>\n      <td>1163.270731</td>\n      <td>1245.580000</td>\n      <td>1424.000000</td>\n      <td>1396.05</td>\n      <td>1251.12</td>\n    </tr>\n    <tr>\n      <th>35</th>\n      <td>633.79</td>\n      <td>670.840000</td>\n      <td>743.470000</td>\n      <td>81.350000</td>\n      <td>826.270000</td>\n      <td>923.210000</td>\n      <td>1109.190000</td>\n      <td>1335.480000</td>\n      <td>NaN</td>\n      <td>NaN</td>\n      <td>NaN</td>\n      <td>NaN</td>\n      <td>NaN</td>\n      <td>NaN</td>\n      <td>NaN</td>\n      <td>NaN</td>\n      <td>NaN</td>\n      <td>NaN</td>\n      <td>NaN</td>\n    </tr>\n    <tr>\n      <th>36</th>\n      <td>NaN</td>\n      <td>NaN</td>\n      <td>574.550000</td>\n      <td>570.042007</td>\n      <td>595.770000</td>\n      <td>644.560000</td>\n      <td>713.240000</td>\n      <td>985.340000</td>\n      <td>1208.045964</td>\n      <td>1333.643456</td>\n      <td>1362.132478</td>\n      <td>1305.129842</td>\n      <td>1234.250426</td>\n      <td>1161.246977</td>\n      <td>1086.119496</td>\n      <td>1009.700000</td>\n      <td>1003.000000</td>\n      <td>1332.63</td>\n      <td>1341.29</td>\n    </tr>\n    <tr>\n      <th>38</th>\n      <td>NaN</td>\n      <td>NaN</td>\n      <td>496.390000</td>\n      <td>574.152659</td>\n      <td>589.910000</td>\n      <td>585.860000</td>\n      <td>813.408525</td>\n      <td>1161.200000</td>\n      <td>1491.568964</td>\n      <td>1786.729038</td>\n      <td>2046.680223</td>\n      <td>2256.984136</td>\n      <td>2326.866607</td>\n      <td>2242.149266</td>\n      <td>2002.832113</td>\n      <td>1605.910000</td>\n      <td>1298.000000</td>\n      <td>2169.62</td>\n      <td>1865.36</td>\n    </tr>\n    <tr>\n      <th>39</th>\n      <td>408.43</td>\n      <td>592.740000</td>\n      <td>571.420000</td>\n      <td>590.750000</td>\n      <td>663.500000</td>\n      <td>693.310000</td>\n      <td>827.240000</td>\n      <td>743.080000</td>\n      <td>668.810749</td>\n      <td>653.537262</td>\n      <td>697.259539</td>\n      <td>790.340937</td>\n      <td>872.551117</td>\n      <td>934.200785</td>\n      <td>975.289942</td>\n      <td>994.970000</td>\n      <td>1013.000000</td>\n      <td>1159.79</td>\n      <td>1343.92</td>\n    </tr>\n    <tr>\n      <th>40</th>\n      <td>NaN</td>\n      <td>NaN</td>\n      <td>901.070000</td>\n      <td>1017.880000</td>\n      <td>1229.571166</td>\n      <td>1473.818667</td>\n      <td>1375.540000</td>\n      <td>1376.920000</td>\n      <td>5266.075455</td>\n      <td>13673.074302</td>\n      <td>26597.916540</td>\n      <td>42143.900436</td>\n      <td>48575.140521</td>\n      <td>44003.818239</td>\n      <td>28429.933589</td>\n      <td>1594.550000</td>\n      <td>1709.000000</td>\n      <td>171667.00</td>\n      <td>2179.26</td>\n    </tr>\n    <tr>\n      <th>41</th>\n      <td>553.02</td>\n      <td>575.000970</td>\n      <td>681.530000</td>\n      <td>873.246496</td>\n      <td>1026.320000</td>\n      <td>1083.430000</td>\n      <td>1439.120000</td>\n      <td>2130.240000</td>\n      <td>2676.032977</td>\n      <td>2997.717926</td>\n      <td>3095.294847</td>\n      <td>2992.254349</td>\n      <td>2833.371147</td>\n      <td>2642.486684</td>\n      <td>2419.600959</td>\n      <td>2166.090000</td>\n      <td>1924.000000</td>\n      <td>1875.80</td>\n      <td>2127.35</td>\n    </tr>\n    <tr>\n      <th>42</th>\n      <td>NaN</td>\n      <td>NaN</td>\n      <td>NaN</td>\n      <td>NaN</td>\n      <td>NaN</td>\n      <td>1707.500000</td>\n      <td>1668.962447</td>\n      <td>1620.760000</td>\n      <td>1556.711752</td>\n      <td>1475.633321</td>\n      <td>1377.524707</td>\n      <td>1278.491983</td>\n      <td>1277.296979</td>\n      <td>1389.913191</td>\n      <td>1616.340619</td>\n      <td>1959.110000</td>\n      <td>2302.000000</td>\n      <td>2026.09</td>\n      <td>1708.32</td>\n    </tr>\n    <tr>\n      <th>43</th>\n      <td>NaN</td>\n      <td>NaN</td>\n      <td>NaN</td>\n      <td>NaN</td>\n      <td>NaN</td>\n      <td>NaN</td>\n      <td>1460.960000</td>\n      <td>1722.229406</td>\n      <td>1934.552612</td>\n      <td>2098.709450</td>\n      <td>2214.699919</td>\n      <td>2282.643678</td>\n      <td>2302.169450</td>\n      <td>2273.528853</td>\n      <td>2196.721888</td>\n      <td>2071.340000</td>\n      <td>1867.000000</td>\n      <td>1575.12</td>\n      <td>2233.26</td>\n    </tr>\n    <tr>\n      <th>44</th>\n      <td>NaN</td>\n      <td>NaN</td>\n      <td>NaN</td>\n      <td>NaN</td>\n      <td>1293.150000</td>\n      <td>1586.300000</td>\n      <td>1548.810000</td>\n      <td>1512.909171</td>\n      <td>1534.168558</td>\n      <td>1612.412012</td>\n      <td>1747.639533</td>\n      <td>1926.282845</td>\n      <td>2062.713633</td>\n      <td>2143.361976</td>\n      <td>2168.227874</td>\n      <td>2137.150000</td>\n      <td>2052.000000</td>\n      <td>2010.50</td>\n      <td>2539.47</td>\n    </tr>\n    <tr>\n      <th>45</th>\n      <td>849.52</td>\n      <td>803.620000</td>\n      <td>831.560000</td>\n      <td>1107.380000</td>\n      <td>1421.080000</td>\n      <td>1643.830000</td>\n      <td>1703.040000</td>\n      <td>2845.020000</td>\n      <td>3713.388728</td>\n      <td>4043.031471</td>\n      <td>3833.948228</td>\n      <td>3168.950191</td>\n      <td>2562.934900</td>\n      <td>2099.256544</td>\n      <td>1777.915123</td>\n      <td>1606.120000</td>\n      <td>1630.000000</td>\n      <td>1826.48</td>\n      <td>2003.76</td>\n    </tr>\n    <tr>\n      <th>46</th>\n      <td>367.53</td>\n      <td>336.880000</td>\n      <td>357.950000</td>\n      <td>448.830000</td>\n      <td>512.880000</td>\n      <td>636.150000</td>\n      <td>755.370000</td>\n      <td>571.420000</td>\n      <td>426.596188</td>\n      <td>387.297993</td>\n      <td>453.525414</td>\n      <td>608.686107</td>\n      <td>749.154734</td>\n      <td>858.237390</td>\n      <td>935.934075</td>\n      <td>980.820000</td>\n      <td>988.000000</td>\n      <td>1017.68</td>\n      <td>1286.42</td>\n    </tr>\n    <tr>\n      <th>48</th>\n      <td>293.56</td>\n      <td>318.760000</td>\n      <td>406.140000</td>\n      <td>491.376298</td>\n      <td>562.997778</td>\n      <td>619.770000</td>\n      <td>646.820000</td>\n      <td>576.340000</td>\n      <td>515.000066</td>\n      <td>482.752455</td>\n      <td>479.597166</td>\n      <td>507.755242</td>\n      <td>579.675345</td>\n      <td>697.475816</td>\n      <td>861.156654</td>\n      <td>1071.540000</td>\n      <td>1252.000000</td>\n      <td>1100.58</td>\n      <td>1481.71</td>\n    </tr>\n    <tr>\n      <th>49</th>\n      <td>NaN</td>\n      <td>361.370000</td>\n      <td>372.740000</td>\n      <td>415.150000</td>\n      <td>468.610000</td>\n      <td>690.350000</td>\n      <td>689.610000</td>\n      <td>579.930000</td>\n      <td>499.095139</td>\n      <td>464.845782</td>\n      <td>477.181929</td>\n      <td>533.546110</td>\n      <td>617.008951</td>\n      <td>724.915682</td>\n      <td>857.266304</td>\n      <td>1014.280000</td>\n      <td>1152.000000</td>\n      <td>1093.30</td>\n      <td>1231.95</td>\n    </tr>\n    <tr>\n      <th>50</th>\n      <td>118.21</td>\n      <td>102.563702</td>\n      <td>96.440000</td>\n      <td>99.861338</td>\n      <td>140.390000</td>\n      <td>215.320000</td>\n      <td>186.170000</td>\n      <td>250.870000</td>\n      <td>288.829583</td>\n      <td>273.110956</td>\n      <td>203.714121</td>\n      <td>94.298854</td>\n      <td>29.503253</td>\n      <td>22.980800</td>\n      <td>74.731497</td>\n      <td>186.370000</td>\n      <td>319.000000</td>\n      <td>265.06</td>\n      <td>368.34</td>\n    </tr>\n    <tr>\n      <th>51</th>\n      <td>27.23</td>\n      <td>22.942000</td>\n      <td>25.360000</td>\n      <td>34.518198</td>\n      <td>43.720000</td>\n      <td>47.420000</td>\n      <td>51.912325</td>\n      <td>58.265879</td>\n      <td>66.046351</td>\n      <td>75.205283</td>\n      <td>85.742674</td>\n      <td>96.910234</td>\n      <td>103.971321</td>\n      <td>106.182402</td>\n      <td>103.543476</td>\n      <td>96.080000</td>\n      <td>89.000000</td>\n      <td>106.06</td>\n      <td>119.72</td>\n    </tr>\n    <tr>\n      <th>52</th>\n      <td>23.03</td>\n      <td>27.452753</td>\n      <td>31.800000</td>\n      <td>36.083340</td>\n      <td>40.360787</td>\n      <td>45.130000</td>\n      <td>50.471512</td>\n      <td>56.080000</td>\n      <td>61.676599</td>\n      <td>67.243469</td>\n      <td>72.780610</td>\n      <td>78.184632</td>\n      <td>82.718605</td>\n      <td>86.280509</td>\n      <td>88.870346</td>\n      <td>90.480000</td>\n      <td>92.000000</td>\n      <td>96.92</td>\n      <td>92.39</td>\n    </tr>\n    <tr>\n      <th>53</th>\n      <td>NaN</td>\n      <td>NaN</td>\n      <td>NaN</td>\n      <td>NaN</td>\n      <td>35.200000</td>\n      <td>35.212516</td>\n      <td>36.900000</td>\n      <td>40.273963</td>\n      <td>45.315970</td>\n      <td>52.032944</td>\n      <td>60.424884</td>\n      <td>69.855352</td>\n      <td>76.293072</td>\n      <td>79.104279</td>\n      <td>78.288972</td>\n      <td>73.830000</td>\n      <td>64.000000</td>\n      <td>48.46</td>\n      <td>86.53</td>\n    </tr>\n    <tr>\n      <th>54</th>\n      <td>21.12</td>\n      <td>23.759831</td>\n      <td>27.370000</td>\n      <td>31.964384</td>\n      <td>35.690000</td>\n      <td>37.020000</td>\n      <td>38.310000</td>\n      <td>43.590000</td>\n      <td>51.993502</td>\n      <td>63.281745</td>\n      <td>77.454728</td>\n      <td>93.364461</td>\n      <td>103.764592</td>\n      <td>107.512289</td>\n      <td>104.607553</td>\n      <td>94.910000</td>\n      <td>80.000000</td>\n      <td>76.29</td>\n      <td>107.56</td>\n    </tr>\n    <tr>\n      <th>55</th>\n      <td>NaN</td>\n      <td>NaN</td>\n      <td>NaN</td>\n      <td>NaN</td>\n      <td>27.950000</td>\n      <td>34.547092</td>\n      <td>40.721715</td>\n      <td>46.489049</td>\n      <td>51.817578</td>\n      <td>56.723639</td>\n      <td>61.207232</td>\n      <td>65.278902</td>\n      <td>68.916401</td>\n      <td>72.131431</td>\n      <td>74.923993</td>\n      <td>77.300000</td>\n      <td>78.000000</td>\n      <td>73.45</td>\n      <td>85.79</td>\n    </tr>\n    <tr>\n      <th>56</th>\n      <td>22.34</td>\n      <td>25.090000</td>\n      <td>25.070000</td>\n      <td>34.000000</td>\n      <td>41.950000</td>\n      <td>41.970000</td>\n      <td>43.510000</td>\n      <td>43.080000</td>\n      <td>43.946716</td>\n      <td>46.822206</td>\n      <td>51.706472</td>\n      <td>58.157170</td>\n      <td>63.367799</td>\n      <td>66.895571</td>\n      <td>68.740486</td>\n      <td>68.860000</td>\n      <td>68.000000</td>\n      <td>73.35</td>\n      <td>93.64</td>\n    </tr>\n  </tbody>\n</table>\n</div>"
     },
     "metadata": {},
     "output_type": "execute_result",
     "execution_count": 92
    }
   ],
   "source": [
    "allnarowremdf"
   ],
   "metadata": {
    "collapsed": false,
    "pycharm": {
     "name": "#%%\n",
     "is_executing": false
    }
   }
  },
  {
   "cell_type": "code",
   "execution_count": 93,
   "outputs": [
    {
     "name": "stdout",
     "text": [
      "54\n",
      "54\n"
     ],
     "output_type": "stream"
    }
   ],
   "source": [
    "correct_croplist = data[\"Crop\"].drop(error_index)\n",
    "correct_states = data[\"State\"].drop(error_index)\n",
    "print(len(correct_croplist))\n",
    "print(len(correct_states))\n",
    "pred_df[\"Crop\"] = correct_croplist\n",
    "pred_df[\"State\"] = correct_states"
   ],
   "metadata": {
    "collapsed": false,
    "pycharm": {
     "name": "#%%\n",
     "is_executing": false
    }
   }
  },
  {
   "cell_type": "code",
   "execution_count": 94,
   "outputs": [
    {
     "data": {
      "text/plain": "    1990-01-01 00:00:00  1991-01-01 00:00:00  1992-01-01 00:00:00  \\\n0                216.13           256.003663           290.220720   \n1                221.36           256.511716           287.986687   \n2                212.89           241.090000           300.490000   \n3                230.54           328.930000           295.410000   \n4                194.69           206.770000           224.380000   \n5                203.13           233.880000           260.700000   \n6                250.27           313.154837           359.530000   \n7                219.19           341.250000           285.330000   \n8                   NaN          1306.420000          1342.917782   \n9                228.26           313.510000           263.770000   \n10                  NaN                  NaN                  NaN   \n11                  NaN                  NaN                  NaN   \n12               206.83           308.430000           235.240000   \n13                  NaN                  NaN                  NaN   \n14               155.44           168.410000           217.520000   \n15                  NaN                  NaN                  NaN   \n16               256.86           317.170000           343.690000   \n17               190.79           210.410000           250.720000   \n18                  NaN                  NaN           233.640000   \n19               220.23           233.079586           250.274500   \n20                  NaN                  NaN           250.560000   \n21               436.80           487.800000           663.830000   \n22               458.57           475.760000           563.090000   \n23                  NaN                  NaN           450.060000   \n24               560.69           482.941349           590.360000   \n25               641.09           926.040000           694.620000   \n26                  NaN                  NaN                  NaN   \n28               604.20           836.680000           758.510000   \n29                  NaN           692.700000           820.802624   \n30               578.74           619.995900           706.280000   \n31               701.26           698.132225           835.980000   \n32                  NaN                  NaN           832.090000   \n33                  NaN           759.000000            -2.116107   \n34               363.94           463.610000           595.430000   \n35               633.79           670.840000           743.470000   \n36                  NaN                  NaN           574.550000   \n38                  NaN                  NaN           496.390000   \n39               408.43           592.740000           571.420000   \n40                  NaN                  NaN           901.070000   \n41               553.02           575.000970           681.530000   \n42                  NaN                  NaN                  NaN   \n43                  NaN                  NaN                  NaN   \n44                  NaN                  NaN                  NaN   \n45               849.52           803.620000           831.560000   \n46               367.53           336.880000           357.950000   \n48               293.56           318.760000           406.140000   \n49                  NaN           361.370000           372.740000   \n50               118.21           102.563702            96.440000   \n51                27.23            22.942000            25.360000   \n52                23.03            27.452753            31.800000   \n53                  NaN                  NaN                  NaN   \n54                21.12            23.759831            27.370000   \n55                  NaN                  NaN                  NaN   \n56                22.34            25.090000            25.070000   \n\n    1993-01-01 00:00:00  1994-01-01 00:00:00  1995-01-01 00:00:00  \\\n0            318.851650           341.740000           363.600000   \n1            315.856021           339.967426           360.402086   \n2            367.057840           413.380000           416.746532   \n3            306.465261           331.090000           327.450000   \n4            266.870000           290.360000           330.810000   \n5            277.690922           283.771500           290.472302   \n6            389.454684           428.310000           489.240000   \n7            289.009287           340.920000           400.900000   \n8           1367.975670          1381.456735          1383.445186   \n9            196.864337           274.620000           534.310000   \n10                  NaN                  NaN                  NaN   \n11                  NaN                  NaN                  NaN   \n12           293.353887           353.750000           321.770000   \n13                  NaN                  NaN                  NaN   \n14           246.720000           263.300000           292.260000   \n15                  NaN           383.110000           434.260000   \n16           373.896661           384.150000           377.020000   \n17           268.320000           306.580000           342.830000   \n18           266.717838           282.530000           299.630000   \n19           271.879724           297.777198           328.020000   \n20           319.645959           334.550000           318.410000   \n21           708.209119           664.730000           663.900000   \n22           602.650273           670.200000           819.770000   \n23           457.715453           513.180000           628.040000   \n24           884.001385          1083.030000          1029.480000   \n25           672.273227           904.590000          1209.340000   \n26                  NaN                  NaN                  NaN   \n28           700.576489           763.930000           913.780000   \n29           933.313077          1029.616545          1110.042186   \n30           834.080000           979.201440          1044.430000   \n31          1115.760333          1248.930000          1073.930000   \n32          1090.490000           788.740000          1029.380000   \n33          -637.314541         -1143.124271         -1521.455441   \n34           639.755674           648.310000           673.110000   \n35            81.350000           826.270000           923.210000   \n36           570.042007           595.770000           644.560000   \n38           574.152659           589.910000           585.860000   \n39           590.750000           663.500000           693.310000   \n40          1017.880000          1229.571166          1473.818667   \n41           873.246496          1026.320000          1083.430000   \n42                  NaN                  NaN          1707.500000   \n43                  NaN                  NaN                  NaN   \n44                  NaN          1293.150000          1586.300000   \n45          1107.380000          1421.080000          1643.830000   \n46           448.830000           512.880000           636.150000   \n48           491.376298           562.997778           619.770000   \n49           415.150000           468.610000           690.350000   \n50            99.861338           140.390000           215.320000   \n51            34.518198            43.720000            47.420000   \n52            36.083340            40.360787            45.130000   \n53                  NaN            35.200000            35.212516   \n54            31.964384            35.690000            37.020000   \n55                  NaN            27.950000            34.547092   \n56            34.000000            41.950000            41.970000   \n\n    1996-01-01 00:00:00  1997-01-01 00:00:00  1998-01-01 00:00:00  \\\n0            405.820000           436.720000           461.077571   \n1            377.160000           390.271957           399.666306   \n2            424.680000           477.120000           527.597967   \n3            389.440000           444.770000           494.756578   \n4            344.810000           356.400000           372.838620   \n5            309.200000           337.910000           362.659224   \n6            537.350000           754.060000           912.734001   \n7            510.010000           555.910000           591.315334   \n8           1373.941021          1352.870930          1320.350050   \n9            441.400000           398.670000           408.636689   \n10           364.820000           287.740000           260.054504   \n11           491.190000           467.940000           493.410730   \n12           571.140000           470.540000           307.973574   \n13                  NaN                  NaN                  NaN   \n14           336.130000           391.850000           441.451824   \n15           477.131119           511.806760           539.250473   \n16           492.090000           475.250000           457.244253   \n17           362.500000           411.970000           450.522506   \n18           393.670000           393.020000           383.239785   \n19           362.560000           401.219475           443.739043   \n20           390.200000           463.306554           519.052676   \n21           865.720000           739.880000           388.589906   \n22           838.050000           880.970000           926.364128   \n23           806.400000           728.230000           721.099862   \n24          1315.280000          1370.080000          1370.294770   \n25          1064.730000          1067.590000          1313.370188   \n26          1932.500000          2739.830000          3230.719718   \n28           824.290000          1221.310000          1545.751651   \n29          1174.590000          1223.371519          1256.120176   \n30          1108.040000          2002.560000          2645.609404   \n31          1244.850000          1384.190000          1486.159380   \n32           903.460000           933.460000           948.293416   \n33         -1772.308050         -1895.845003         -1891.391235   \n34           720.850000          1381.270000          1886.704329   \n35          1109.190000          1335.480000                  NaN   \n36           713.240000           985.340000          1208.045964   \n38           813.408525          1161.200000          1491.568964   \n39           827.240000           743.080000           668.810749   \n40          1375.540000          1376.920000          5266.075455   \n41          1439.120000          2130.240000          2676.032977   \n42          1668.962447          1620.760000          1556.711752   \n43          1460.960000          1722.229406          1934.552612   \n44          1548.810000          1512.909171          1534.168558   \n45          1703.040000          2845.020000          3713.388728   \n46           755.370000           571.420000           426.596188   \n48           646.820000           576.340000           515.000066   \n49           689.610000           579.930000           499.095139   \n50           186.170000           250.870000           288.829583   \n51            51.912325            58.265879            66.046351   \n52            50.471512            56.080000            61.676599   \n53            36.900000            40.273963            45.315970   \n54            38.310000            43.590000            51.993502   \n55            40.721715            46.489049            51.817578   \n56            43.510000            43.080000            43.946716   \n\n    1999-01-01 00:00:00  ...  2011-01-01 00:00:00  2012-01-01 00:00:00  \\\n0            480.873885  ...          1495.524384         1.738055e+03   \n1            405.383909  ...           250.960803         8.903254e+02   \n2            567.418976  ...          7301.730757         1.398019e+04   \n3            542.470204  ...           797.186577         8.125555e+02   \n4            394.443385  ...           884.544564         4.905805e+02   \n5            381.275593  ...           866.146521         1.002326e+03   \n6            969.842132  ...           675.301231         7.411057e+02   \n7            629.000821  ...          1022.698065         1.151193e+03   \n8           1276.336554  ...          2951.715704         2.556593e+03   \n9            456.930596  ...           785.645499         7.997416e+02   \n10           281.485629  ...          3143.746128         4.795125e+03   \n11           567.472104  ...           818.245038         7.613753e+02   \n12           153.102783  ...          -717.364199        -5.331712e+02   \n13                  NaN  ...          1015.234425         1.015830e+03   \n14           482.152617  ...           763.866232         7.892721e+02   \n15           559.764519  ...         41101.644376         1.839699e+05   \n16           468.629030  ...           903.285205         9.354121e+02   \n17           469.957756  ...          1294.520707         1.556320e+03   \n18           384.441749  ...           811.178728         8.606425e+02   \n19           490.218904  ...          2859.562592         4.441789e+03   \n20           557.661588  ...           561.990030         5.590368e+02   \n21          -154.459344  ...        -22952.640769        -1.520767e+04   \n22           964.884669  ...          1658.036785         1.710794e+03   \n23           850.270767  ...          1638.251835         1.641721e+03   \n24          1366.356727  ...          1758.632461         1.750713e+03   \n25          1798.076502  ...          2097.430166         2.246112e+03   \n26          3407.804842  ...          3014.263632         3.010690e+03   \n28          1680.271551  ...          1865.892248         1.793476e+03   \n29          1272.991007  ...        -18197.904599         6.161905e+04   \n30          2831.088241  ...          1658.370827         1.589535e+03   \n31          1564.853640  ...          2689.466081         2.826678e+03   \n32           897.835064  ...          1017.232612         7.728240e+02   \n33         -1759.458906  ...         -9591.985153         2.207205e+04   \n34          2090.728200  ...          1191.243282         1.265040e+03   \n35                  NaN  ...          1191.867288         1.182674e+03   \n36          1333.643456  ...          1219.541514         1.182379e+03   \n38          1786.729038  ...          1951.937214         1.915171e+03   \n39           653.537262  ...          1690.476504         1.830829e+03   \n40         13673.074302  ...        449223.150963        -1.038098e+06   \n41          2997.717926  ...          2928.641700         2.926726e+03   \n42          1475.633321  ...           132.309104         8.135838e+02   \n43          2098.709450  ...        -56036.481316         2.635874e+05   \n44          1612.412012  ...          2733.369459         2.607311e+03   \n45          4043.031471  ...          2523.272881         2.576346e+03   \n46           387.297993  ...          1859.374707         1.982849e+03   \n48           482.752455  ...           991.546073         1.736038e+03   \n49           464.845782  ...          1485.373964         1.555714e+03   \n50           273.110956  ...            26.659248         9.081577e+01   \n51            75.205283  ...           116.684483         1.201426e+02   \n52            67.243469  ...           124.141924         5.059681e+01   \n53            52.032944  ...         -2633.203990         1.148732e+04   \n54            63.281745  ...           536.117098         6.941790e+02   \n55            56.723639  ...          -143.474566         7.005002e+02   \n56            46.822206  ...           103.143722         1.045550e+02   \n\n    2013-01-01 00:00:00  2014-01-01 00:00:00  2015-01-01 00:00:00  \\\n0          1.958265e+03         2.157845e+03         2.351437e+03   \n1         -3.116816e+01         1.312320e+03        -6.324872e+02   \n2          2.632853e+04         4.909893e+04         9.114788e+04   \n3          8.272213e+02         8.411715e+02         8.544457e+02   \n4          1.819898e+02         3.972662e+02         1.264256e+03   \n5          1.041675e+03         1.188211e+03         1.255971e+03   \n6          8.233937e+02         8.623262e+02         8.508210e+02   \n7          9.528518e+02         9.934862e+02         1.176377e+03   \n8          4.322239e+03         2.394943e+03         5.053592e+03   \n9          8.167226e+02         8.221878e+02         8.232319e+02   \n10         7.190106e+03         1.084415e+04         1.666170e+04   \n11         7.277257e+02         7.263749e+02         7.472817e+02   \n12        -5.919087e+02         2.500286e+02         6.408339e+02   \n13         1.016104e+03         1.016230e+03         1.016288e+03   \n14         8.128326e+02         8.339979e+02         8.542937e+02   \n15         8.337045e+05         3.788782e+06         1.722908e+07   \n16         9.679709e+02         1.001105e+03         1.034448e+03   \n17         1.871596e+03         2.273175e+03         2.772037e+03   \n18         9.128002e+02         9.683412e+02         1.027077e+03   \n19         6.346633e+03         8.099409e+03         8.776825e+03   \n20         5.554846e+02         5.565039e+02         5.577392e+02   \n21         1.558120e+04         6.164070e+04         9.055800e+04   \n22         1.754152e+03         1.795217e+03         1.837066e+03   \n23         1.642607e+03         1.644892e+03         1.647236e+03   \n24         1.737832e+03         1.723640e+03         1.712856e+03   \n25         2.365808e+03         2.441354e+03         2.471240e+03   \n26         2.857184e+03         2.700633e+03         2.642349e+03   \n28         1.730258e+03         1.680580e+03         1.644029e+03   \n29        -1.692094e+05         4.998039e+05        -1.437703e+06   \n30         1.589224e+03         1.633569e+03         1.690282e+03   \n31         2.823414e+03         2.933138e+03         3.073323e+03   \n32         3.597893e+02         2.656665e+02         1.902565e+02   \n33        -4.442958e+04         8.951471e+04        -1.855286e+05   \n34         1.320935e+03         1.345518e+03         1.344429e+03   \n35         1.172451e+03         1.165900e+03         1.160672e+03   \n36         1.160648e+03         1.152219e+03         1.152719e+03   \n38         1.908236e+03         1.893911e+03         1.889060e+03   \n39         1.985967e+03         2.155892e+03         2.342592e+03   \n40        -5.304477e+04         2.590138e+06        -1.871873e+06   \n41         2.814582e+03         2.657915e+03         2.516396e+03   \n42         1.897239e+03         3.404311e+03         4.182176e+03   \n43        -1.188845e+06         5.413153e+06        -2.459387e+07   \n44         2.833403e+03         3.166233e+03         3.293135e+03   \n45         2.563989e+03         2.506598e+03         2.429495e+03   \n46         2.183245e+03         2.446225e+03         2.731361e+03   \n48         7.211191e+02         1.885973e+03         3.065249e+02   \n49         1.629101e+03         1.704322e+03         1.780914e+03   \n50         4.109745e+00         1.691503e+02         1.510637e+02   \n51         1.248637e+02         1.277896e+02         1.288059e+02   \n52         1.890513e+02        -7.124199e+01         4.167417e+02   \n53        -4.872884e+04         2.081251e+05        -8.874067e+05   \n54         7.130894e+02         4.799823e+02        -5.686434e+01   \n55        -1.715088e+03         5.192818e+03        -1.456728e+04   \n56         1.174102e+02         1.320133e+02         1.386496e+02   \n\n    2016-01-01 00:00:00  2017-01-01 00:00:00  2018-01-01 00:00:00  \\\n0          2.563562e+03         2.823432e+03         3.159029e+03   \n1          2.195253e+03        -1.905012e+03         4.050541e+03   \n2          1.689862e+05         3.133775e+05         5.816033e+05   \n3          8.670754e+02         8.790919e+02         8.905250e+02   \n4          2.266230e+03         2.418739e+03         1.075853e+03   \n5          1.418433e+03         1.518216e+03         1.702970e+03   \n6          8.170472e+02         7.917157e+02         7.873881e+02   \n7          1.107970e+03         1.042210e+03         1.168002e+03   \n8         -2.374323e+02         4.784370e+03        -6.840964e+03   \n9          8.275562e+02         8.338573e+02         8.386425e+02   \n10         2.610031e+04         4.141541e+04         6.607065e+04   \n11         7.726357e+02         7.883171e+02         7.897142e+02   \n12         1.496365e+03         1.448552e+03         1.496423e+03   \n13         1.016314e+03         1.016327e+03         1.016332e+03   \n14         8.745682e+02         8.947062e+02         9.143935e+02   \n15         7.835853e+07         3.563890e+08         1.620934e+09   \n16         1.068024e+03         1.101921e+03         1.136124e+03   \n17         3.400458e+03         4.187406e+03         5.176296e+03   \n18         1.089081e+03         1.154614e+03         1.223899e+03   \n19         6.950233e+03         8.089681e+02        -1.139370e+04   \n20         5.576569e+02         5.574363e+02         5.575455e+02   \n21         5.308645e+04        -8.271683e+04        -2.788294e+05   \n22         1.879237e+03         1.920676e+03         1.961017e+03   \n23         1.649014e+03         1.650418e+03         1.651608e+03   \n24         1.704818e+03         1.698232e+03         1.692754e+03   \n25         2.463694e+03         2.431972e+03         2.390094e+03   \n26         2.688139e+03         2.775174e+03         2.834379e+03   \n28         1.618382e+03         1.601056e+03         1.589726e+03   \n29         4.174989e+06        -1.208262e+07         3.501048e+07   \n30         1.733705e+03         1.752137e+03         1.747365e+03   \n31         3.135690e+03         3.213840e+03         3.328842e+03   \n32         4.168125e+02         6.815789e+02         1.104314e+03   \n33         3.747186e+05        -7.697881e+05         1.566409e+06   \n34         1.331302e+03         1.318227e+03         1.311298e+03   \n35         1.156882e+03         1.154021e+03         1.151898e+03   \n36         1.157694e+03         1.163746e+03         1.168860e+03   \n38         1.884353e+03         1.882773e+03         1.881740e+03   \n39         2.548137e+03         2.774448e+03         3.023561e+03   \n40        -4.342334e+06         8.051281e+06         3.597571e+06   \n41         2.426624e+03         2.397902e+03         2.417971e+03   \n42         3.967956e+03         2.116491e+03        -5.306568e+02   \n43         1.117945e+08        -5.081182e+08         2.309512e+09   \n44         3.191911e+03         3.093743e+03         3.175651e+03   \n45         2.355765e+03         2.301524e+03         2.274069e+03   \n46         3.019743e+03         3.323332e+03         3.664497e+03   \n48         2.158248e+03        -2.861758e+02         2.656913e+03   \n49         1.858888e+03         1.938328e+03         2.019285e+03   \n50         3.182054e+02         2.457942e+02         3.189154e+02   \n51         1.294934e+02         1.309023e+02         1.328409e+02   \n52        -5.009434e+02         1.220738e+03        -2.014421e+03   \n53         3.785340e+06        -1.614514e+07         6.886361e+07   \n54        -8.025651e+02        -1.447082e+03        -1.470844e+03   \n55         4.195174e+04        -1.197115e+05         3.426959e+05   \n56         1.384344e+02         1.401433e+02         1.490601e+02   \n\n                  Crop           State  \n0                Paddy  Andhra Pradesh  \n1                Paddy           Bihar  \n2                Paddy         Haryana  \n3                Paddy  Madhya Pradesh  \n4                Paddy          Punjab  \n5                Paddy   Uttar Pradesh  \n6                Jowar  Andhra Pradesh  \n7                Jowar  Madhya Pradesh  \n8                  NaN             NaN  \n9                Bajra         Haryana  \n10                 NaN             NaN  \n11                 NaN             NaN  \n12               Maize  Madhya Pradesh  \n13                 NaN             NaN  \n14               Wheat         Haryana  \n15                 NaN             NaN  \n16               Wheat  Madhya Pradesh  \n17               Wheat          Punjab  \n18                 NaN             NaN  \n19               Wheat   Uttar Pradesh  \n20                 NaN             NaN  \n21                Gram         Haryana  \n22                Gram  Madhya Pradesh  \n23                 NaN             NaN  \n24                Urad  Andhra Pradesh  \n25                Urad  Madhya Pradesh  \n26                 NaN             NaN  \n28               Arhar  Madhya Pradesh  \n29                 NaN             NaN  \n30           Sunflower     Maharashtra  \n31           Groundnut  Andhra Pradesh  \n32                 NaN             NaN  \n33                 NaN             NaN  \n34  Rapeseed & Mustard         Haryana  \n35                 NaN             NaN  \n36                 NaN             NaN  \n38                 NaN             NaN  \n39             Soybean  Madhya Pradesh  \n40                 NaN             NaN  \n41              Cotton         Haryana  \n42                 NaN             NaN  \n43                 NaN             NaN  \n44                 NaN             NaN  \n45              Cotton          Punjab  \n46                Jute           Assam  \n48                Jute          Orissa  \n49                 NaN             NaN  \n50               Onion     Maharashtra  \n51           Sugercane  Andhra Pradesh  \n52           Sugercane           Bihar  \n53                 NaN             NaN  \n54           Sugercane       Karnataka  \n55                 NaN             NaN  \n56           Sugercane      Tamil Nadu  \n\n[54 rows x 31 columns]",
      "text/html": "<div>\n<style scoped>\n    .dataframe tbody tr th:only-of-type {\n        vertical-align: middle;\n    }\n\n    .dataframe tbody tr th {\n        vertical-align: top;\n    }\n\n    .dataframe thead th {\n        text-align: right;\n    }\n</style>\n<table border=\"1\" class=\"dataframe\">\n  <thead>\n    <tr style=\"text-align: right;\">\n      <th></th>\n      <th>1990-01-01 00:00:00</th>\n      <th>1991-01-01 00:00:00</th>\n      <th>1992-01-01 00:00:00</th>\n      <th>1993-01-01 00:00:00</th>\n      <th>1994-01-01 00:00:00</th>\n      <th>1995-01-01 00:00:00</th>\n      <th>1996-01-01 00:00:00</th>\n      <th>1997-01-01 00:00:00</th>\n      <th>1998-01-01 00:00:00</th>\n      <th>1999-01-01 00:00:00</th>\n      <th>...</th>\n      <th>2011-01-01 00:00:00</th>\n      <th>2012-01-01 00:00:00</th>\n      <th>2013-01-01 00:00:00</th>\n      <th>2014-01-01 00:00:00</th>\n      <th>2015-01-01 00:00:00</th>\n      <th>2016-01-01 00:00:00</th>\n      <th>2017-01-01 00:00:00</th>\n      <th>2018-01-01 00:00:00</th>\n      <th>Crop</th>\n      <th>State</th>\n    </tr>\n  </thead>\n  <tbody>\n    <tr>\n      <th>0</th>\n      <td>216.13</td>\n      <td>256.003663</td>\n      <td>290.220720</td>\n      <td>318.851650</td>\n      <td>341.740000</td>\n      <td>363.600000</td>\n      <td>405.820000</td>\n      <td>436.720000</td>\n      <td>461.077571</td>\n      <td>480.873885</td>\n      <td>...</td>\n      <td>1495.524384</td>\n      <td>1.738055e+03</td>\n      <td>1.958265e+03</td>\n      <td>2.157845e+03</td>\n      <td>2.351437e+03</td>\n      <td>2.563562e+03</td>\n      <td>2.823432e+03</td>\n      <td>3.159029e+03</td>\n      <td>Paddy</td>\n      <td>Andhra Pradesh</td>\n    </tr>\n    <tr>\n      <th>1</th>\n      <td>221.36</td>\n      <td>256.511716</td>\n      <td>287.986687</td>\n      <td>315.856021</td>\n      <td>339.967426</td>\n      <td>360.402086</td>\n      <td>377.160000</td>\n      <td>390.271957</td>\n      <td>399.666306</td>\n      <td>405.383909</td>\n      <td>...</td>\n      <td>250.960803</td>\n      <td>8.903254e+02</td>\n      <td>-3.116816e+01</td>\n      <td>1.312320e+03</td>\n      <td>-6.324872e+02</td>\n      <td>2.195253e+03</td>\n      <td>-1.905012e+03</td>\n      <td>4.050541e+03</td>\n      <td>Paddy</td>\n      <td>Bihar</td>\n    </tr>\n    <tr>\n      <th>2</th>\n      <td>212.89</td>\n      <td>241.090000</td>\n      <td>300.490000</td>\n      <td>367.057840</td>\n      <td>413.380000</td>\n      <td>416.746532</td>\n      <td>424.680000</td>\n      <td>477.120000</td>\n      <td>527.597967</td>\n      <td>567.418976</td>\n      <td>...</td>\n      <td>7301.730757</td>\n      <td>1.398019e+04</td>\n      <td>2.632853e+04</td>\n      <td>4.909893e+04</td>\n      <td>9.114788e+04</td>\n      <td>1.689862e+05</td>\n      <td>3.133775e+05</td>\n      <td>5.816033e+05</td>\n      <td>Paddy</td>\n      <td>Haryana</td>\n    </tr>\n    <tr>\n      <th>3</th>\n      <td>230.54</td>\n      <td>328.930000</td>\n      <td>295.410000</td>\n      <td>306.465261</td>\n      <td>331.090000</td>\n      <td>327.450000</td>\n      <td>389.440000</td>\n      <td>444.770000</td>\n      <td>494.756578</td>\n      <td>542.470204</td>\n      <td>...</td>\n      <td>797.186577</td>\n      <td>8.125555e+02</td>\n      <td>8.272213e+02</td>\n      <td>8.411715e+02</td>\n      <td>8.544457e+02</td>\n      <td>8.670754e+02</td>\n      <td>8.790919e+02</td>\n      <td>8.905250e+02</td>\n      <td>Paddy</td>\n      <td>Madhya Pradesh</td>\n    </tr>\n    <tr>\n      <th>4</th>\n      <td>194.69</td>\n      <td>206.770000</td>\n      <td>224.380000</td>\n      <td>266.870000</td>\n      <td>290.360000</td>\n      <td>330.810000</td>\n      <td>344.810000</td>\n      <td>356.400000</td>\n      <td>372.838620</td>\n      <td>394.443385</td>\n      <td>...</td>\n      <td>884.544564</td>\n      <td>4.905805e+02</td>\n      <td>1.819898e+02</td>\n      <td>3.972662e+02</td>\n      <td>1.264256e+03</td>\n      <td>2.266230e+03</td>\n      <td>2.418739e+03</td>\n      <td>1.075853e+03</td>\n      <td>Paddy</td>\n      <td>Punjab</td>\n    </tr>\n    <tr>\n      <th>5</th>\n      <td>203.13</td>\n      <td>233.880000</td>\n      <td>260.700000</td>\n      <td>277.690922</td>\n      <td>283.771500</td>\n      <td>290.472302</td>\n      <td>309.200000</td>\n      <td>337.910000</td>\n      <td>362.659224</td>\n      <td>381.275593</td>\n      <td>...</td>\n      <td>866.146521</td>\n      <td>1.002326e+03</td>\n      <td>1.041675e+03</td>\n      <td>1.188211e+03</td>\n      <td>1.255971e+03</td>\n      <td>1.418433e+03</td>\n      <td>1.518216e+03</td>\n      <td>1.702970e+03</td>\n      <td>Paddy</td>\n      <td>Uttar Pradesh</td>\n    </tr>\n    <tr>\n      <th>6</th>\n      <td>250.27</td>\n      <td>313.154837</td>\n      <td>359.530000</td>\n      <td>389.454684</td>\n      <td>428.310000</td>\n      <td>489.240000</td>\n      <td>537.350000</td>\n      <td>754.060000</td>\n      <td>912.734001</td>\n      <td>969.842132</td>\n      <td>...</td>\n      <td>675.301231</td>\n      <td>7.411057e+02</td>\n      <td>8.233937e+02</td>\n      <td>8.623262e+02</td>\n      <td>8.508210e+02</td>\n      <td>8.170472e+02</td>\n      <td>7.917157e+02</td>\n      <td>7.873881e+02</td>\n      <td>Jowar</td>\n      <td>Andhra Pradesh</td>\n    </tr>\n    <tr>\n      <th>7</th>\n      <td>219.19</td>\n      <td>341.250000</td>\n      <td>285.330000</td>\n      <td>289.009287</td>\n      <td>340.920000</td>\n      <td>400.900000</td>\n      <td>510.010000</td>\n      <td>555.910000</td>\n      <td>591.315334</td>\n      <td>629.000821</td>\n      <td>...</td>\n      <td>1022.698065</td>\n      <td>1.151193e+03</td>\n      <td>9.528518e+02</td>\n      <td>9.934862e+02</td>\n      <td>1.176377e+03</td>\n      <td>1.107970e+03</td>\n      <td>1.042210e+03</td>\n      <td>1.168002e+03</td>\n      <td>Jowar</td>\n      <td>Madhya Pradesh</td>\n    </tr>\n    <tr>\n      <th>8</th>\n      <td>NaN</td>\n      <td>1306.420000</td>\n      <td>1342.917782</td>\n      <td>1367.975670</td>\n      <td>1381.456735</td>\n      <td>1383.445186</td>\n      <td>1373.941021</td>\n      <td>1352.870930</td>\n      <td>1320.350050</td>\n      <td>1276.336554</td>\n      <td>...</td>\n      <td>2951.715704</td>\n      <td>2.556593e+03</td>\n      <td>4.322239e+03</td>\n      <td>2.394943e+03</td>\n      <td>5.053592e+03</td>\n      <td>-2.374323e+02</td>\n      <td>4.784370e+03</td>\n      <td>-6.840964e+03</td>\n      <td>NaN</td>\n      <td>NaN</td>\n    </tr>\n    <tr>\n      <th>9</th>\n      <td>228.26</td>\n      <td>313.510000</td>\n      <td>263.770000</td>\n      <td>196.864337</td>\n      <td>274.620000</td>\n      <td>534.310000</td>\n      <td>441.400000</td>\n      <td>398.670000</td>\n      <td>408.636689</td>\n      <td>456.930596</td>\n      <td>...</td>\n      <td>785.645499</td>\n      <td>7.997416e+02</td>\n      <td>8.167226e+02</td>\n      <td>8.221878e+02</td>\n      <td>8.232319e+02</td>\n      <td>8.275562e+02</td>\n      <td>8.338573e+02</td>\n      <td>8.386425e+02</td>\n      <td>Bajra</td>\n      <td>Haryana</td>\n    </tr>\n    <tr>\n      <th>10</th>\n      <td>NaN</td>\n      <td>NaN</td>\n      <td>NaN</td>\n      <td>NaN</td>\n      <td>NaN</td>\n      <td>NaN</td>\n      <td>364.820000</td>\n      <td>287.740000</td>\n      <td>260.054504</td>\n      <td>281.485629</td>\n      <td>...</td>\n      <td>3143.746128</td>\n      <td>4.795125e+03</td>\n      <td>7.190106e+03</td>\n      <td>1.084415e+04</td>\n      <td>1.666170e+04</td>\n      <td>2.610031e+04</td>\n      <td>4.141541e+04</td>\n      <td>6.607065e+04</td>\n      <td>NaN</td>\n      <td>NaN</td>\n    </tr>\n    <tr>\n      <th>11</th>\n      <td>NaN</td>\n      <td>NaN</td>\n      <td>NaN</td>\n      <td>NaN</td>\n      <td>NaN</td>\n      <td>NaN</td>\n      <td>491.190000</td>\n      <td>467.940000</td>\n      <td>493.410730</td>\n      <td>567.472104</td>\n      <td>...</td>\n      <td>818.245038</td>\n      <td>7.613753e+02</td>\n      <td>7.277257e+02</td>\n      <td>7.263749e+02</td>\n      <td>7.472817e+02</td>\n      <td>7.726357e+02</td>\n      <td>7.883171e+02</td>\n      <td>7.897142e+02</td>\n      <td>NaN</td>\n      <td>NaN</td>\n    </tr>\n    <tr>\n      <th>12</th>\n      <td>206.83</td>\n      <td>308.430000</td>\n      <td>235.240000</td>\n      <td>293.353887</td>\n      <td>353.750000</td>\n      <td>321.770000</td>\n      <td>571.140000</td>\n      <td>470.540000</td>\n      <td>307.973574</td>\n      <td>153.102783</td>\n      <td>...</td>\n      <td>-717.364199</td>\n      <td>-5.331712e+02</td>\n      <td>-5.919087e+02</td>\n      <td>2.500286e+02</td>\n      <td>6.408339e+02</td>\n      <td>1.496365e+03</td>\n      <td>1.448552e+03</td>\n      <td>1.496423e+03</td>\n      <td>Maize</td>\n      <td>Madhya Pradesh</td>\n    </tr>\n    <tr>\n      <th>13</th>\n      <td>NaN</td>\n      <td>NaN</td>\n      <td>NaN</td>\n      <td>NaN</td>\n      <td>NaN</td>\n      <td>NaN</td>\n      <td>NaN</td>\n      <td>NaN</td>\n      <td>NaN</td>\n      <td>NaN</td>\n      <td>...</td>\n      <td>1015.234425</td>\n      <td>1.015830e+03</td>\n      <td>1.016104e+03</td>\n      <td>1.016230e+03</td>\n      <td>1.016288e+03</td>\n      <td>1.016314e+03</td>\n      <td>1.016327e+03</td>\n      <td>1.016332e+03</td>\n      <td>NaN</td>\n      <td>NaN</td>\n    </tr>\n    <tr>\n      <th>14</th>\n      <td>155.44</td>\n      <td>168.410000</td>\n      <td>217.520000</td>\n      <td>246.720000</td>\n      <td>263.300000</td>\n      <td>292.260000</td>\n      <td>336.130000</td>\n      <td>391.850000</td>\n      <td>441.451824</td>\n      <td>482.152617</td>\n      <td>...</td>\n      <td>763.866232</td>\n      <td>7.892721e+02</td>\n      <td>8.128326e+02</td>\n      <td>8.339979e+02</td>\n      <td>8.542937e+02</td>\n      <td>8.745682e+02</td>\n      <td>8.947062e+02</td>\n      <td>9.143935e+02</td>\n      <td>Wheat</td>\n      <td>Haryana</td>\n    </tr>\n    <tr>\n      <th>15</th>\n      <td>NaN</td>\n      <td>NaN</td>\n      <td>NaN</td>\n      <td>NaN</td>\n      <td>383.110000</td>\n      <td>434.260000</td>\n      <td>477.131119</td>\n      <td>511.806760</td>\n      <td>539.250473</td>\n      <td>559.764519</td>\n      <td>...</td>\n      <td>41101.644376</td>\n      <td>1.839699e+05</td>\n      <td>8.337045e+05</td>\n      <td>3.788782e+06</td>\n      <td>1.722908e+07</td>\n      <td>7.835853e+07</td>\n      <td>3.563890e+08</td>\n      <td>1.620934e+09</td>\n      <td>NaN</td>\n      <td>NaN</td>\n    </tr>\n    <tr>\n      <th>16</th>\n      <td>256.86</td>\n      <td>317.170000</td>\n      <td>343.690000</td>\n      <td>373.896661</td>\n      <td>384.150000</td>\n      <td>377.020000</td>\n      <td>492.090000</td>\n      <td>475.250000</td>\n      <td>457.244253</td>\n      <td>468.629030</td>\n      <td>...</td>\n      <td>903.285205</td>\n      <td>9.354121e+02</td>\n      <td>9.679709e+02</td>\n      <td>1.001105e+03</td>\n      <td>1.034448e+03</td>\n      <td>1.068024e+03</td>\n      <td>1.101921e+03</td>\n      <td>1.136124e+03</td>\n      <td>Wheat</td>\n      <td>Madhya Pradesh</td>\n    </tr>\n    <tr>\n      <th>17</th>\n      <td>190.79</td>\n      <td>210.410000</td>\n      <td>250.720000</td>\n      <td>268.320000</td>\n      <td>306.580000</td>\n      <td>342.830000</td>\n      <td>362.500000</td>\n      <td>411.970000</td>\n      <td>450.522506</td>\n      <td>469.957756</td>\n      <td>...</td>\n      <td>1294.520707</td>\n      <td>1.556320e+03</td>\n      <td>1.871596e+03</td>\n      <td>2.273175e+03</td>\n      <td>2.772037e+03</td>\n      <td>3.400458e+03</td>\n      <td>4.187406e+03</td>\n      <td>5.176296e+03</td>\n      <td>Wheat</td>\n      <td>Punjab</td>\n    </tr>\n    <tr>\n      <th>18</th>\n      <td>NaN</td>\n      <td>NaN</td>\n      <td>233.640000</td>\n      <td>266.717838</td>\n      <td>282.530000</td>\n      <td>299.630000</td>\n      <td>393.670000</td>\n      <td>393.020000</td>\n      <td>383.239785</td>\n      <td>384.441749</td>\n      <td>...</td>\n      <td>811.178728</td>\n      <td>8.606425e+02</td>\n      <td>9.128002e+02</td>\n      <td>9.683412e+02</td>\n      <td>1.027077e+03</td>\n      <td>1.089081e+03</td>\n      <td>1.154614e+03</td>\n      <td>1.223899e+03</td>\n      <td>NaN</td>\n      <td>NaN</td>\n    </tr>\n    <tr>\n      <th>19</th>\n      <td>220.23</td>\n      <td>233.079586</td>\n      <td>250.274500</td>\n      <td>271.879724</td>\n      <td>297.777198</td>\n      <td>328.020000</td>\n      <td>362.560000</td>\n      <td>401.219475</td>\n      <td>443.739043</td>\n      <td>490.218904</td>\n      <td>...</td>\n      <td>2859.562592</td>\n      <td>4.441789e+03</td>\n      <td>6.346633e+03</td>\n      <td>8.099409e+03</td>\n      <td>8.776825e+03</td>\n      <td>6.950233e+03</td>\n      <td>8.089681e+02</td>\n      <td>-1.139370e+04</td>\n      <td>Wheat</td>\n      <td>Uttar Pradesh</td>\n    </tr>\n    <tr>\n      <th>20</th>\n      <td>NaN</td>\n      <td>NaN</td>\n      <td>250.560000</td>\n      <td>319.645959</td>\n      <td>334.550000</td>\n      <td>318.410000</td>\n      <td>390.200000</td>\n      <td>463.306554</td>\n      <td>519.052676</td>\n      <td>557.661588</td>\n      <td>...</td>\n      <td>561.990030</td>\n      <td>5.590368e+02</td>\n      <td>5.554846e+02</td>\n      <td>5.565039e+02</td>\n      <td>5.577392e+02</td>\n      <td>5.576569e+02</td>\n      <td>5.574363e+02</td>\n      <td>5.575455e+02</td>\n      <td>NaN</td>\n      <td>NaN</td>\n    </tr>\n    <tr>\n      <th>21</th>\n      <td>436.80</td>\n      <td>487.800000</td>\n      <td>663.830000</td>\n      <td>708.209119</td>\n      <td>664.730000</td>\n      <td>663.900000</td>\n      <td>865.720000</td>\n      <td>739.880000</td>\n      <td>388.589906</td>\n      <td>-154.459344</td>\n      <td>...</td>\n      <td>-22952.640769</td>\n      <td>-1.520767e+04</td>\n      <td>1.558120e+04</td>\n      <td>6.164070e+04</td>\n      <td>9.055800e+04</td>\n      <td>5.308645e+04</td>\n      <td>-8.271683e+04</td>\n      <td>-2.788294e+05</td>\n      <td>Gram</td>\n      <td>Haryana</td>\n    </tr>\n    <tr>\n      <th>22</th>\n      <td>458.57</td>\n      <td>475.760000</td>\n      <td>563.090000</td>\n      <td>602.650273</td>\n      <td>670.200000</td>\n      <td>819.770000</td>\n      <td>838.050000</td>\n      <td>880.970000</td>\n      <td>926.364128</td>\n      <td>964.884669</td>\n      <td>...</td>\n      <td>1658.036785</td>\n      <td>1.710794e+03</td>\n      <td>1.754152e+03</td>\n      <td>1.795217e+03</td>\n      <td>1.837066e+03</td>\n      <td>1.879237e+03</td>\n      <td>1.920676e+03</td>\n      <td>1.961017e+03</td>\n      <td>Gram</td>\n      <td>Madhya Pradesh</td>\n    </tr>\n    <tr>\n      <th>23</th>\n      <td>NaN</td>\n      <td>NaN</td>\n      <td>450.060000</td>\n      <td>457.715453</td>\n      <td>513.180000</td>\n      <td>628.040000</td>\n      <td>806.400000</td>\n      <td>728.230000</td>\n      <td>721.099862</td>\n      <td>850.270767</td>\n      <td>...</td>\n      <td>1638.251835</td>\n      <td>1.641721e+03</td>\n      <td>1.642607e+03</td>\n      <td>1.644892e+03</td>\n      <td>1.647236e+03</td>\n      <td>1.649014e+03</td>\n      <td>1.650418e+03</td>\n      <td>1.651608e+03</td>\n      <td>NaN</td>\n      <td>NaN</td>\n    </tr>\n    <tr>\n      <th>24</th>\n      <td>560.69</td>\n      <td>482.941349</td>\n      <td>590.360000</td>\n      <td>884.001385</td>\n      <td>1083.030000</td>\n      <td>1029.480000</td>\n      <td>1315.280000</td>\n      <td>1370.080000</td>\n      <td>1370.294770</td>\n      <td>1366.356727</td>\n      <td>...</td>\n      <td>1758.632461</td>\n      <td>1.750713e+03</td>\n      <td>1.737832e+03</td>\n      <td>1.723640e+03</td>\n      <td>1.712856e+03</td>\n      <td>1.704818e+03</td>\n      <td>1.698232e+03</td>\n      <td>1.692754e+03</td>\n      <td>Urad</td>\n      <td>Andhra Pradesh</td>\n    </tr>\n    <tr>\n      <th>25</th>\n      <td>641.09</td>\n      <td>926.040000</td>\n      <td>694.620000</td>\n      <td>672.273227</td>\n      <td>904.590000</td>\n      <td>1209.340000</td>\n      <td>1064.730000</td>\n      <td>1067.590000</td>\n      <td>1313.370188</td>\n      <td>1798.076502</td>\n      <td>...</td>\n      <td>2097.430166</td>\n      <td>2.246112e+03</td>\n      <td>2.365808e+03</td>\n      <td>2.441354e+03</td>\n      <td>2.471240e+03</td>\n      <td>2.463694e+03</td>\n      <td>2.431972e+03</td>\n      <td>2.390094e+03</td>\n      <td>Urad</td>\n      <td>Madhya Pradesh</td>\n    </tr>\n    <tr>\n      <th>26</th>\n      <td>NaN</td>\n      <td>NaN</td>\n      <td>NaN</td>\n      <td>NaN</td>\n      <td>NaN</td>\n      <td>NaN</td>\n      <td>1932.500000</td>\n      <td>2739.830000</td>\n      <td>3230.719718</td>\n      <td>3407.804842</td>\n      <td>...</td>\n      <td>3014.263632</td>\n      <td>3.010690e+03</td>\n      <td>2.857184e+03</td>\n      <td>2.700633e+03</td>\n      <td>2.642349e+03</td>\n      <td>2.688139e+03</td>\n      <td>2.775174e+03</td>\n      <td>2.834379e+03</td>\n      <td>NaN</td>\n      <td>NaN</td>\n    </tr>\n    <tr>\n      <th>28</th>\n      <td>604.20</td>\n      <td>836.680000</td>\n      <td>758.510000</td>\n      <td>700.576489</td>\n      <td>763.930000</td>\n      <td>913.780000</td>\n      <td>824.290000</td>\n      <td>1221.310000</td>\n      <td>1545.751651</td>\n      <td>1680.271551</td>\n      <td>...</td>\n      <td>1865.892248</td>\n      <td>1.793476e+03</td>\n      <td>1.730258e+03</td>\n      <td>1.680580e+03</td>\n      <td>1.644029e+03</td>\n      <td>1.618382e+03</td>\n      <td>1.601056e+03</td>\n      <td>1.589726e+03</td>\n      <td>Arhar</td>\n      <td>Madhya Pradesh</td>\n    </tr>\n    <tr>\n      <th>29</th>\n      <td>NaN</td>\n      <td>692.700000</td>\n      <td>820.802624</td>\n      <td>933.313077</td>\n      <td>1029.616545</td>\n      <td>1110.042186</td>\n      <td>1174.590000</td>\n      <td>1223.371519</td>\n      <td>1256.120176</td>\n      <td>1272.991007</td>\n      <td>...</td>\n      <td>-18197.904599</td>\n      <td>6.161905e+04</td>\n      <td>-1.692094e+05</td>\n      <td>4.998039e+05</td>\n      <td>-1.437703e+06</td>\n      <td>4.174989e+06</td>\n      <td>-1.208262e+07</td>\n      <td>3.501048e+07</td>\n      <td>NaN</td>\n      <td>NaN</td>\n    </tr>\n    <tr>\n      <th>30</th>\n      <td>578.74</td>\n      <td>619.995900</td>\n      <td>706.280000</td>\n      <td>834.080000</td>\n      <td>979.201440</td>\n      <td>1044.430000</td>\n      <td>1108.040000</td>\n      <td>2002.560000</td>\n      <td>2645.609404</td>\n      <td>2831.088241</td>\n      <td>...</td>\n      <td>1658.370827</td>\n      <td>1.589535e+03</td>\n      <td>1.589224e+03</td>\n      <td>1.633569e+03</td>\n      <td>1.690282e+03</td>\n      <td>1.733705e+03</td>\n      <td>1.752137e+03</td>\n      <td>1.747365e+03</td>\n      <td>Sunflower</td>\n      <td>Maharashtra</td>\n    </tr>\n    <tr>\n      <th>31</th>\n      <td>701.26</td>\n      <td>698.132225</td>\n      <td>835.980000</td>\n      <td>1115.760333</td>\n      <td>1248.930000</td>\n      <td>1073.930000</td>\n      <td>1244.850000</td>\n      <td>1384.190000</td>\n      <td>1486.159380</td>\n      <td>1564.853640</td>\n      <td>...</td>\n      <td>2689.466081</td>\n      <td>2.826678e+03</td>\n      <td>2.823414e+03</td>\n      <td>2.933138e+03</td>\n      <td>3.073323e+03</td>\n      <td>3.135690e+03</td>\n      <td>3.213840e+03</td>\n      <td>3.328842e+03</td>\n      <td>Groundnut</td>\n      <td>Andhra Pradesh</td>\n    </tr>\n    <tr>\n      <th>32</th>\n      <td>NaN</td>\n      <td>NaN</td>\n      <td>832.090000</td>\n      <td>1090.490000</td>\n      <td>788.740000</td>\n      <td>1029.380000</td>\n      <td>903.460000</td>\n      <td>933.460000</td>\n      <td>948.293416</td>\n      <td>897.835064</td>\n      <td>...</td>\n      <td>1017.232612</td>\n      <td>7.728240e+02</td>\n      <td>3.597893e+02</td>\n      <td>2.656665e+02</td>\n      <td>1.902565e+02</td>\n      <td>4.168125e+02</td>\n      <td>6.815789e+02</td>\n      <td>1.104314e+03</td>\n      <td>NaN</td>\n      <td>NaN</td>\n    </tr>\n    <tr>\n      <th>33</th>\n      <td>NaN</td>\n      <td>759.000000</td>\n      <td>-2.116107</td>\n      <td>-637.314541</td>\n      <td>-1143.124271</td>\n      <td>-1521.455441</td>\n      <td>-1772.308050</td>\n      <td>-1895.845003</td>\n      <td>-1891.391235</td>\n      <td>-1759.458906</td>\n      <td>...</td>\n      <td>-9591.985153</td>\n      <td>2.207205e+04</td>\n      <td>-4.442958e+04</td>\n      <td>8.951471e+04</td>\n      <td>-1.855286e+05</td>\n      <td>3.747186e+05</td>\n      <td>-7.697881e+05</td>\n      <td>1.566409e+06</td>\n      <td>NaN</td>\n      <td>NaN</td>\n    </tr>\n    <tr>\n      <th>34</th>\n      <td>363.94</td>\n      <td>463.610000</td>\n      <td>595.430000</td>\n      <td>639.755674</td>\n      <td>648.310000</td>\n      <td>673.110000</td>\n      <td>720.850000</td>\n      <td>1381.270000</td>\n      <td>1886.704329</td>\n      <td>2090.728200</td>\n      <td>...</td>\n      <td>1191.243282</td>\n      <td>1.265040e+03</td>\n      <td>1.320935e+03</td>\n      <td>1.345518e+03</td>\n      <td>1.344429e+03</td>\n      <td>1.331302e+03</td>\n      <td>1.318227e+03</td>\n      <td>1.311298e+03</td>\n      <td>Rapeseed &amp; Mustard</td>\n      <td>Haryana</td>\n    </tr>\n    <tr>\n      <th>35</th>\n      <td>633.79</td>\n      <td>670.840000</td>\n      <td>743.470000</td>\n      <td>81.350000</td>\n      <td>826.270000</td>\n      <td>923.210000</td>\n      <td>1109.190000</td>\n      <td>1335.480000</td>\n      <td>NaN</td>\n      <td>NaN</td>\n      <td>...</td>\n      <td>1191.867288</td>\n      <td>1.182674e+03</td>\n      <td>1.172451e+03</td>\n      <td>1.165900e+03</td>\n      <td>1.160672e+03</td>\n      <td>1.156882e+03</td>\n      <td>1.154021e+03</td>\n      <td>1.151898e+03</td>\n      <td>NaN</td>\n      <td>NaN</td>\n    </tr>\n    <tr>\n      <th>36</th>\n      <td>NaN</td>\n      <td>NaN</td>\n      <td>574.550000</td>\n      <td>570.042007</td>\n      <td>595.770000</td>\n      <td>644.560000</td>\n      <td>713.240000</td>\n      <td>985.340000</td>\n      <td>1208.045964</td>\n      <td>1333.643456</td>\n      <td>...</td>\n      <td>1219.541514</td>\n      <td>1.182379e+03</td>\n      <td>1.160648e+03</td>\n      <td>1.152219e+03</td>\n      <td>1.152719e+03</td>\n      <td>1.157694e+03</td>\n      <td>1.163746e+03</td>\n      <td>1.168860e+03</td>\n      <td>NaN</td>\n      <td>NaN</td>\n    </tr>\n    <tr>\n      <th>38</th>\n      <td>NaN</td>\n      <td>NaN</td>\n      <td>496.390000</td>\n      <td>574.152659</td>\n      <td>589.910000</td>\n      <td>585.860000</td>\n      <td>813.408525</td>\n      <td>1161.200000</td>\n      <td>1491.568964</td>\n      <td>1786.729038</td>\n      <td>...</td>\n      <td>1951.937214</td>\n      <td>1.915171e+03</td>\n      <td>1.908236e+03</td>\n      <td>1.893911e+03</td>\n      <td>1.889060e+03</td>\n      <td>1.884353e+03</td>\n      <td>1.882773e+03</td>\n      <td>1.881740e+03</td>\n      <td>NaN</td>\n      <td>NaN</td>\n    </tr>\n    <tr>\n      <th>39</th>\n      <td>408.43</td>\n      <td>592.740000</td>\n      <td>571.420000</td>\n      <td>590.750000</td>\n      <td>663.500000</td>\n      <td>693.310000</td>\n      <td>827.240000</td>\n      <td>743.080000</td>\n      <td>668.810749</td>\n      <td>653.537262</td>\n      <td>...</td>\n      <td>1690.476504</td>\n      <td>1.830829e+03</td>\n      <td>1.985967e+03</td>\n      <td>2.155892e+03</td>\n      <td>2.342592e+03</td>\n      <td>2.548137e+03</td>\n      <td>2.774448e+03</td>\n      <td>3.023561e+03</td>\n      <td>Soybean</td>\n      <td>Madhya Pradesh</td>\n    </tr>\n    <tr>\n      <th>40</th>\n      <td>NaN</td>\n      <td>NaN</td>\n      <td>901.070000</td>\n      <td>1017.880000</td>\n      <td>1229.571166</td>\n      <td>1473.818667</td>\n      <td>1375.540000</td>\n      <td>1376.920000</td>\n      <td>5266.075455</td>\n      <td>13673.074302</td>\n      <td>...</td>\n      <td>449223.150963</td>\n      <td>-1.038098e+06</td>\n      <td>-5.304477e+04</td>\n      <td>2.590138e+06</td>\n      <td>-1.871873e+06</td>\n      <td>-4.342334e+06</td>\n      <td>8.051281e+06</td>\n      <td>3.597571e+06</td>\n      <td>NaN</td>\n      <td>NaN</td>\n    </tr>\n    <tr>\n      <th>41</th>\n      <td>553.02</td>\n      <td>575.000970</td>\n      <td>681.530000</td>\n      <td>873.246496</td>\n      <td>1026.320000</td>\n      <td>1083.430000</td>\n      <td>1439.120000</td>\n      <td>2130.240000</td>\n      <td>2676.032977</td>\n      <td>2997.717926</td>\n      <td>...</td>\n      <td>2928.641700</td>\n      <td>2.926726e+03</td>\n      <td>2.814582e+03</td>\n      <td>2.657915e+03</td>\n      <td>2.516396e+03</td>\n      <td>2.426624e+03</td>\n      <td>2.397902e+03</td>\n      <td>2.417971e+03</td>\n      <td>Cotton</td>\n      <td>Haryana</td>\n    </tr>\n    <tr>\n      <th>42</th>\n      <td>NaN</td>\n      <td>NaN</td>\n      <td>NaN</td>\n      <td>NaN</td>\n      <td>NaN</td>\n      <td>1707.500000</td>\n      <td>1668.962447</td>\n      <td>1620.760000</td>\n      <td>1556.711752</td>\n      <td>1475.633321</td>\n      <td>...</td>\n      <td>132.309104</td>\n      <td>8.135838e+02</td>\n      <td>1.897239e+03</td>\n      <td>3.404311e+03</td>\n      <td>4.182176e+03</td>\n      <td>3.967956e+03</td>\n      <td>2.116491e+03</td>\n      <td>-5.306568e+02</td>\n      <td>NaN</td>\n      <td>NaN</td>\n    </tr>\n    <tr>\n      <th>43</th>\n      <td>NaN</td>\n      <td>NaN</td>\n      <td>NaN</td>\n      <td>NaN</td>\n      <td>NaN</td>\n      <td>NaN</td>\n      <td>1460.960000</td>\n      <td>1722.229406</td>\n      <td>1934.552612</td>\n      <td>2098.709450</td>\n      <td>...</td>\n      <td>-56036.481316</td>\n      <td>2.635874e+05</td>\n      <td>-1.188845e+06</td>\n      <td>5.413153e+06</td>\n      <td>-2.459387e+07</td>\n      <td>1.117945e+08</td>\n      <td>-5.081182e+08</td>\n      <td>2.309512e+09</td>\n      <td>NaN</td>\n      <td>NaN</td>\n    </tr>\n    <tr>\n      <th>44</th>\n      <td>NaN</td>\n      <td>NaN</td>\n      <td>NaN</td>\n      <td>NaN</td>\n      <td>1293.150000</td>\n      <td>1586.300000</td>\n      <td>1548.810000</td>\n      <td>1512.909171</td>\n      <td>1534.168558</td>\n      <td>1612.412012</td>\n      <td>...</td>\n      <td>2733.369459</td>\n      <td>2.607311e+03</td>\n      <td>2.833403e+03</td>\n      <td>3.166233e+03</td>\n      <td>3.293135e+03</td>\n      <td>3.191911e+03</td>\n      <td>3.093743e+03</td>\n      <td>3.175651e+03</td>\n      <td>NaN</td>\n      <td>NaN</td>\n    </tr>\n    <tr>\n      <th>45</th>\n      <td>849.52</td>\n      <td>803.620000</td>\n      <td>831.560000</td>\n      <td>1107.380000</td>\n      <td>1421.080000</td>\n      <td>1643.830000</td>\n      <td>1703.040000</td>\n      <td>2845.020000</td>\n      <td>3713.388728</td>\n      <td>4043.031471</td>\n      <td>...</td>\n      <td>2523.272881</td>\n      <td>2.576346e+03</td>\n      <td>2.563989e+03</td>\n      <td>2.506598e+03</td>\n      <td>2.429495e+03</td>\n      <td>2.355765e+03</td>\n      <td>2.301524e+03</td>\n      <td>2.274069e+03</td>\n      <td>Cotton</td>\n      <td>Punjab</td>\n    </tr>\n    <tr>\n      <th>46</th>\n      <td>367.53</td>\n      <td>336.880000</td>\n      <td>357.950000</td>\n      <td>448.830000</td>\n      <td>512.880000</td>\n      <td>636.150000</td>\n      <td>755.370000</td>\n      <td>571.420000</td>\n      <td>426.596188</td>\n      <td>387.297993</td>\n      <td>...</td>\n      <td>1859.374707</td>\n      <td>1.982849e+03</td>\n      <td>2.183245e+03</td>\n      <td>2.446225e+03</td>\n      <td>2.731361e+03</td>\n      <td>3.019743e+03</td>\n      <td>3.323332e+03</td>\n      <td>3.664497e+03</td>\n      <td>Jute</td>\n      <td>Assam</td>\n    </tr>\n    <tr>\n      <th>48</th>\n      <td>293.56</td>\n      <td>318.760000</td>\n      <td>406.140000</td>\n      <td>491.376298</td>\n      <td>562.997778</td>\n      <td>619.770000</td>\n      <td>646.820000</td>\n      <td>576.340000</td>\n      <td>515.000066</td>\n      <td>482.752455</td>\n      <td>...</td>\n      <td>991.546073</td>\n      <td>1.736038e+03</td>\n      <td>7.211191e+02</td>\n      <td>1.885973e+03</td>\n      <td>3.065249e+02</td>\n      <td>2.158248e+03</td>\n      <td>-2.861758e+02</td>\n      <td>2.656913e+03</td>\n      <td>Jute</td>\n      <td>Orissa</td>\n    </tr>\n    <tr>\n      <th>49</th>\n      <td>NaN</td>\n      <td>361.370000</td>\n      <td>372.740000</td>\n      <td>415.150000</td>\n      <td>468.610000</td>\n      <td>690.350000</td>\n      <td>689.610000</td>\n      <td>579.930000</td>\n      <td>499.095139</td>\n      <td>464.845782</td>\n      <td>...</td>\n      <td>1485.373964</td>\n      <td>1.555714e+03</td>\n      <td>1.629101e+03</td>\n      <td>1.704322e+03</td>\n      <td>1.780914e+03</td>\n      <td>1.858888e+03</td>\n      <td>1.938328e+03</td>\n      <td>2.019285e+03</td>\n      <td>NaN</td>\n      <td>NaN</td>\n    </tr>\n    <tr>\n      <th>50</th>\n      <td>118.21</td>\n      <td>102.563702</td>\n      <td>96.440000</td>\n      <td>99.861338</td>\n      <td>140.390000</td>\n      <td>215.320000</td>\n      <td>186.170000</td>\n      <td>250.870000</td>\n      <td>288.829583</td>\n      <td>273.110956</td>\n      <td>...</td>\n      <td>26.659248</td>\n      <td>9.081577e+01</td>\n      <td>4.109745e+00</td>\n      <td>1.691503e+02</td>\n      <td>1.510637e+02</td>\n      <td>3.182054e+02</td>\n      <td>2.457942e+02</td>\n      <td>3.189154e+02</td>\n      <td>Onion</td>\n      <td>Maharashtra</td>\n    </tr>\n    <tr>\n      <th>51</th>\n      <td>27.23</td>\n      <td>22.942000</td>\n      <td>25.360000</td>\n      <td>34.518198</td>\n      <td>43.720000</td>\n      <td>47.420000</td>\n      <td>51.912325</td>\n      <td>58.265879</td>\n      <td>66.046351</td>\n      <td>75.205283</td>\n      <td>...</td>\n      <td>116.684483</td>\n      <td>1.201426e+02</td>\n      <td>1.248637e+02</td>\n      <td>1.277896e+02</td>\n      <td>1.288059e+02</td>\n      <td>1.294934e+02</td>\n      <td>1.309023e+02</td>\n      <td>1.328409e+02</td>\n      <td>Sugercane</td>\n      <td>Andhra Pradesh</td>\n    </tr>\n    <tr>\n      <th>52</th>\n      <td>23.03</td>\n      <td>27.452753</td>\n      <td>31.800000</td>\n      <td>36.083340</td>\n      <td>40.360787</td>\n      <td>45.130000</td>\n      <td>50.471512</td>\n      <td>56.080000</td>\n      <td>61.676599</td>\n      <td>67.243469</td>\n      <td>...</td>\n      <td>124.141924</td>\n      <td>5.059681e+01</td>\n      <td>1.890513e+02</td>\n      <td>-7.124199e+01</td>\n      <td>4.167417e+02</td>\n      <td>-5.009434e+02</td>\n      <td>1.220738e+03</td>\n      <td>-2.014421e+03</td>\n      <td>Sugercane</td>\n      <td>Bihar</td>\n    </tr>\n    <tr>\n      <th>53</th>\n      <td>NaN</td>\n      <td>NaN</td>\n      <td>NaN</td>\n      <td>NaN</td>\n      <td>35.200000</td>\n      <td>35.212516</td>\n      <td>36.900000</td>\n      <td>40.273963</td>\n      <td>45.315970</td>\n      <td>52.032944</td>\n      <td>...</td>\n      <td>-2633.203990</td>\n      <td>1.148732e+04</td>\n      <td>-4.872884e+04</td>\n      <td>2.081251e+05</td>\n      <td>-8.874067e+05</td>\n      <td>3.785340e+06</td>\n      <td>-1.614514e+07</td>\n      <td>6.886361e+07</td>\n      <td>NaN</td>\n      <td>NaN</td>\n    </tr>\n    <tr>\n      <th>54</th>\n      <td>21.12</td>\n      <td>23.759831</td>\n      <td>27.370000</td>\n      <td>31.964384</td>\n      <td>35.690000</td>\n      <td>37.020000</td>\n      <td>38.310000</td>\n      <td>43.590000</td>\n      <td>51.993502</td>\n      <td>63.281745</td>\n      <td>...</td>\n      <td>536.117098</td>\n      <td>6.941790e+02</td>\n      <td>7.130894e+02</td>\n      <td>4.799823e+02</td>\n      <td>-5.686434e+01</td>\n      <td>-8.025651e+02</td>\n      <td>-1.447082e+03</td>\n      <td>-1.470844e+03</td>\n      <td>Sugercane</td>\n      <td>Karnataka</td>\n    </tr>\n    <tr>\n      <th>55</th>\n      <td>NaN</td>\n      <td>NaN</td>\n      <td>NaN</td>\n      <td>NaN</td>\n      <td>27.950000</td>\n      <td>34.547092</td>\n      <td>40.721715</td>\n      <td>46.489049</td>\n      <td>51.817578</td>\n      <td>56.723639</td>\n      <td>...</td>\n      <td>-143.474566</td>\n      <td>7.005002e+02</td>\n      <td>-1.715088e+03</td>\n      <td>5.192818e+03</td>\n      <td>-1.456728e+04</td>\n      <td>4.195174e+04</td>\n      <td>-1.197115e+05</td>\n      <td>3.426959e+05</td>\n      <td>NaN</td>\n      <td>NaN</td>\n    </tr>\n    <tr>\n      <th>56</th>\n      <td>22.34</td>\n      <td>25.090000</td>\n      <td>25.070000</td>\n      <td>34.000000</td>\n      <td>41.950000</td>\n      <td>41.970000</td>\n      <td>43.510000</td>\n      <td>43.080000</td>\n      <td>43.946716</td>\n      <td>46.822206</td>\n      <td>...</td>\n      <td>103.143722</td>\n      <td>1.045550e+02</td>\n      <td>1.174102e+02</td>\n      <td>1.320133e+02</td>\n      <td>1.386496e+02</td>\n      <td>1.384344e+02</td>\n      <td>1.401433e+02</td>\n      <td>1.490601e+02</td>\n      <td>Sugercane</td>\n      <td>Tamil Nadu</td>\n    </tr>\n  </tbody>\n</table>\n<p>54 rows × 31 columns</p>\n</div>"
     },
     "metadata": {},
     "output_type": "execute_result",
     "execution_count": 94
    }
   ],
   "source": [
    "pred_df"
   ],
   "metadata": {
    "collapsed": false,
    "pycharm": {
     "name": "#%%\n",
     "is_executing": false
    }
   }
  },
  {
   "cell_type": "markdown",
   "source": [
    "#Mass Plotting"
   ],
   "metadata": {
    "collapsed": false,
    "pycharm": {
     "name": "#%% md\n"
    }
   }
  },
  {
   "cell_type": "code",
   "execution_count": 95,
   "outputs": [],
   "source": [
    "paddy = pred_df.loc[pred_df['Crop']=='Paddy']\n",
    "jowar = pred_df.loc[pred_df['Crop']=='Jowar']\n",
    "bajra = pred_df.loc[pred_df['Crop']=='Bajra']\n",
    "maize = pred_df.loc[pred_df['Crop']=='Maize']\n",
    "ragi = pred_df.loc[pred_df['Crop']=='Ragi']\n",
    "wheat = pred_df.loc[pred_df['Crop']=='Wheat']\n",
    "barley = pred_df.loc[pred_df['Crop']=='Barley']\n",
    "gram = pred_df.loc[pred_df['Crop']=='Gram']\n",
    "urad = pred_df.loc[pred_df['Crop']=='Urad']\n",
    "moong = pred_df.loc[pred_df['Crop']=='Moong']\n",
    "arhar = pred_df.loc[pred_df['Crop']=='Arhar']\n",
    "sunflower = pred_df.loc[pred_df['Crop']=='Sunflower']\n",
    "groundnut = pred_df.loc[pred_df['Crop']=='Groundnut']\n",
    "rapeseed_mustard = pred_df.loc[pred_df['Crop']=='Rapeseed & Mustard']\n",
    "safflower = pred_df.loc[pred_df['Crop']=='Safflower']\n",
    "soyabean = pred_df.loc[pred_df['Crop']=='Soyabean']\n",
    "cotton = pred_df.loc[pred_df['Crop']=='Cotton']\n",
    "onion = pred_df.loc[pred_df['Crop']=='Onion']\n",
    "sugarcane = pred_df.loc[pred_df['Crop']=='Sugercane']"
   ],
   "metadata": {
    "collapsed": false,
    "pycharm": {
     "name": "#%%\n",
     "is_executing": false
    }
   }
  },
  {
   "cell_type": "code",
   "execution_count": 96,
   "outputs": [
    {
     "data": {
      "application/vnd.plotly.v1+json": {
       "config": {
        "plotlyServerURL": "https://plot.ly"
       },
       "data": [
        {
         "mode": "lines",
         "name": "Andhra Pradesh",
         "type": "scatter",
         "x": [
          "1990-01-01T00:00:00",
          "1991-01-01T00:00:00",
          "1992-01-01T00:00:00",
          "1993-01-01T00:00:00",
          "1994-01-01T00:00:00",
          "1995-01-01T00:00:00",
          "1996-01-01T00:00:00",
          "1997-01-01T00:00:00",
          "1998-01-01T00:00:00",
          "1999-01-01T00:00:00",
          "2000-01-01T00:00:00",
          "2001-01-01T00:00:00",
          "2002-01-01T00:00:00",
          "2003-01-01T00:00:00",
          "2004-01-01T00:00:00",
          "2005-01-01T00:00:00",
          "2006-01-01T00:00:00",
          "2007-01-01T00:00:00",
          "2008-01-01T00:00:00",
          "2009-01-01T00:00:00",
          "2010-01-01T00:00:00",
          "2011-01-01T00:00:00",
          "2012-01-01T00:00:00",
          "2013-01-01T00:00:00",
          "2014-01-01T00:00:00",
          "2015-01-01T00:00:00",
          "2016-01-01T00:00:00",
          "2017-01-01T00:00:00",
          "2018-01-01T00:00:00",
          "Crop",
          "State"
         ],
         "y": [
          27.23,
          22.941999572570246,
          25.36,
          34.5181975781902,
          43.72,
          47.42,
          51.91232535927523,
          58.26587920408727,
          66.04635133273071,
          75.20528287627931,
          85.74267383473308,
          96.9102336325419,
          103.97132149101638,
          106.18240237920278,
          103.54347629710112,
          96.08,
          89.0,
          106.06,
          119.72,
          121.5848730254146,
          117.7937858950383,
          116.68448303328583,
          120.14260831383379,
          124.86370987516584,
          127.7895929820646,
          128.8058543928526,
          129.4934071579358,
          130.90234548576674,
          132.84089609940747,
          "Sugercane",
          "Andhra Pradesh"
         ]
        },
        {
         "mode": "lines",
         "name": "Bihar",
         "type": "scatter",
         "x": [
          "1990-01-01T00:00:00",
          "1991-01-01T00:00:00",
          "1992-01-01T00:00:00",
          "1993-01-01T00:00:00",
          "1994-01-01T00:00:00",
          "1995-01-01T00:00:00",
          "1996-01-01T00:00:00",
          "1997-01-01T00:00:00",
          "1998-01-01T00:00:00",
          "1999-01-01T00:00:00",
          "2000-01-01T00:00:00",
          "2001-01-01T00:00:00",
          "2002-01-01T00:00:00",
          "2003-01-01T00:00:00",
          "2004-01-01T00:00:00",
          "2005-01-01T00:00:00",
          "2006-01-01T00:00:00",
          "2007-01-01T00:00:00",
          "2008-01-01T00:00:00",
          "2009-01-01T00:00:00",
          "2010-01-01T00:00:00",
          "2011-01-01T00:00:00",
          "2012-01-01T00:00:00",
          "2013-01-01T00:00:00",
          "2014-01-01T00:00:00",
          "2015-01-01T00:00:00",
          "2016-01-01T00:00:00",
          "2017-01-01T00:00:00",
          "2018-01-01T00:00:00",
          "Crop",
          "State"
         ],
         "y": [
          23.03,
          27.45275322730892,
          31.8,
          36.08333999932603,
          40.36078694440992,
          45.13,
          50.471511710464185,
          56.08,
          61.67659878071733,
          67.24346891574801,
          72.78061040509202,
          78.18463246563486,
          82.71860491886402,
          86.28050930592772,
          88.87034562682601,
          90.48,
          92.0,
          96.92,
          92.39,
          104.58368104414728,
          84.41694201276417,
          124.14192428392025,
          50.59681200067709,
          189.05126768500887,
          -71.24198556886745,
          416.7417284810295,
          -500.943381330717,
          1220.7381363568204,
          -2014.4212587811408,
          "Sugercane",
          "Bihar"
         ]
        },
        {
         "mode": "lines",
         "name": "Karnataka",
         "type": "scatter",
         "x": [
          "1990-01-01T00:00:00",
          "1991-01-01T00:00:00",
          "1992-01-01T00:00:00",
          "1993-01-01T00:00:00",
          "1994-01-01T00:00:00",
          "1995-01-01T00:00:00",
          "1996-01-01T00:00:00",
          "1997-01-01T00:00:00",
          "1998-01-01T00:00:00",
          "1999-01-01T00:00:00",
          "2000-01-01T00:00:00",
          "2001-01-01T00:00:00",
          "2002-01-01T00:00:00",
          "2003-01-01T00:00:00",
          "2004-01-01T00:00:00",
          "2005-01-01T00:00:00",
          "2006-01-01T00:00:00",
          "2007-01-01T00:00:00",
          "2008-01-01T00:00:00",
          "2009-01-01T00:00:00",
          "2010-01-01T00:00:00",
          "2011-01-01T00:00:00",
          "2012-01-01T00:00:00",
          "2013-01-01T00:00:00",
          "2014-01-01T00:00:00",
          "2015-01-01T00:00:00",
          "2016-01-01T00:00:00",
          "2017-01-01T00:00:00",
          "2018-01-01T00:00:00",
          "Crop",
          "State"
         ],
         "y": [
          21.12,
          23.75983149318411,
          27.37,
          31.964384300449115,
          35.69,
          37.02,
          38.31,
          43.59,
          51.993501752444075,
          63.281744548255446,
          77.45472838743406,
          93.36446124344346,
          103.76459165539688,
          107.51228881895643,
          104.60755273412217,
          94.91,
          80.0,
          76.29,
          107.56,
          195.51178086259023,
          346.81822098155146,
          536.1170983297417,
          694.1790467476031,
          713.0893999815991,
          479.9823489727753,
          -56.864341558658225,
          -802.5651473993003,
          -1447.0817139487365,
          -1470.8439598449181,
          "Sugercane",
          "Karnataka"
         ]
        },
        {
         "mode": "lines",
         "name": "Tamil Nadu",
         "type": "scatter",
         "x": [
          "1990-01-01T00:00:00",
          "1991-01-01T00:00:00",
          "1992-01-01T00:00:00",
          "1993-01-01T00:00:00",
          "1994-01-01T00:00:00",
          "1995-01-01T00:00:00",
          "1996-01-01T00:00:00",
          "1997-01-01T00:00:00",
          "1998-01-01T00:00:00",
          "1999-01-01T00:00:00",
          "2000-01-01T00:00:00",
          "2001-01-01T00:00:00",
          "2002-01-01T00:00:00",
          "2003-01-01T00:00:00",
          "2004-01-01T00:00:00",
          "2005-01-01T00:00:00",
          "2006-01-01T00:00:00",
          "2007-01-01T00:00:00",
          "2008-01-01T00:00:00",
          "2009-01-01T00:00:00",
          "2010-01-01T00:00:00",
          "2011-01-01T00:00:00",
          "2012-01-01T00:00:00",
          "2013-01-01T00:00:00",
          "2014-01-01T00:00:00",
          "2015-01-01T00:00:00",
          "2016-01-01T00:00:00",
          "2017-01-01T00:00:00",
          "2018-01-01T00:00:00",
          "Crop",
          "State"
         ],
         "y": [
          22.34,
          25.09,
          25.07,
          34.0,
          41.95,
          41.97,
          43.51,
          43.08,
          43.94671593422065,
          46.82220647889653,
          51.70647163402763,
          58.15716978318519,
          63.36779891463354,
          66.89557094959599,
          68.74048588807256,
          68.86,
          68.0,
          73.35,
          93.64,
          109.33080999206871,
          109.67444774940385,
          103.14372196152924,
          104.55501595756076,
          117.41020170805386,
          132.01334202476713,
          138.64957768062504,
          138.43439148272498,
          140.14326109805623,
          149.06005323250687,
          "Sugercane",
          "Tamil Nadu"
         ]
        }
       ],
       "layout": {
        "height": 500,
        "template": {
         "data": {
          "bar": [
           {
            "error_x": {
             "color": "#2a3f5f"
            },
            "error_y": {
             "color": "#2a3f5f"
            },
            "marker": {
             "line": {
              "color": "#E5ECF6",
              "width": 0.5
             }
            },
            "type": "bar"
           }
          ],
          "barpolar": [
           {
            "marker": {
             "line": {
              "color": "#E5ECF6",
              "width": 0.5
             }
            },
            "type": "barpolar"
           }
          ],
          "carpet": [
           {
            "aaxis": {
             "endlinecolor": "#2a3f5f",
             "gridcolor": "white",
             "linecolor": "white",
             "minorgridcolor": "white",
             "startlinecolor": "#2a3f5f"
            },
            "baxis": {
             "endlinecolor": "#2a3f5f",
             "gridcolor": "white",
             "linecolor": "white",
             "minorgridcolor": "white",
             "startlinecolor": "#2a3f5f"
            },
            "type": "carpet"
           }
          ],
          "choropleth": [
           {
            "colorbar": {
             "outlinewidth": 0,
             "ticks": ""
            },
            "type": "choropleth"
           }
          ],
          "contour": [
           {
            "colorbar": {
             "outlinewidth": 0,
             "ticks": ""
            },
            "colorscale": [
             [
              0.0,
              "#0d0887"
             ],
             [
              0.1111111111111111,
              "#46039f"
             ],
             [
              0.2222222222222222,
              "#7201a8"
             ],
             [
              0.3333333333333333,
              "#9c179e"
             ],
             [
              0.4444444444444444,
              "#bd3786"
             ],
             [
              0.5555555555555556,
              "#d8576b"
             ],
             [
              0.6666666666666666,
              "#ed7953"
             ],
             [
              0.7777777777777778,
              "#fb9f3a"
             ],
             [
              0.8888888888888888,
              "#fdca26"
             ],
             [
              1.0,
              "#f0f921"
             ]
            ],
            "type": "contour"
           }
          ],
          "contourcarpet": [
           {
            "colorbar": {
             "outlinewidth": 0,
             "ticks": ""
            },
            "type": "contourcarpet"
           }
          ],
          "heatmap": [
           {
            "colorbar": {
             "outlinewidth": 0,
             "ticks": ""
            },
            "colorscale": [
             [
              0.0,
              "#0d0887"
             ],
             [
              0.1111111111111111,
              "#46039f"
             ],
             [
              0.2222222222222222,
              "#7201a8"
             ],
             [
              0.3333333333333333,
              "#9c179e"
             ],
             [
              0.4444444444444444,
              "#bd3786"
             ],
             [
              0.5555555555555556,
              "#d8576b"
             ],
             [
              0.6666666666666666,
              "#ed7953"
             ],
             [
              0.7777777777777778,
              "#fb9f3a"
             ],
             [
              0.8888888888888888,
              "#fdca26"
             ],
             [
              1.0,
              "#f0f921"
             ]
            ],
            "type": "heatmap"
           }
          ],
          "heatmapgl": [
           {
            "colorbar": {
             "outlinewidth": 0,
             "ticks": ""
            },
            "colorscale": [
             [
              0.0,
              "#0d0887"
             ],
             [
              0.1111111111111111,
              "#46039f"
             ],
             [
              0.2222222222222222,
              "#7201a8"
             ],
             [
              0.3333333333333333,
              "#9c179e"
             ],
             [
              0.4444444444444444,
              "#bd3786"
             ],
             [
              0.5555555555555556,
              "#d8576b"
             ],
             [
              0.6666666666666666,
              "#ed7953"
             ],
             [
              0.7777777777777778,
              "#fb9f3a"
             ],
             [
              0.8888888888888888,
              "#fdca26"
             ],
             [
              1.0,
              "#f0f921"
             ]
            ],
            "type": "heatmapgl"
           }
          ],
          "histogram": [
           {
            "marker": {
             "colorbar": {
              "outlinewidth": 0,
              "ticks": ""
             }
            },
            "type": "histogram"
           }
          ],
          "histogram2d": [
           {
            "colorbar": {
             "outlinewidth": 0,
             "ticks": ""
            },
            "colorscale": [
             [
              0.0,
              "#0d0887"
             ],
             [
              0.1111111111111111,
              "#46039f"
             ],
             [
              0.2222222222222222,
              "#7201a8"
             ],
             [
              0.3333333333333333,
              "#9c179e"
             ],
             [
              0.4444444444444444,
              "#bd3786"
             ],
             [
              0.5555555555555556,
              "#d8576b"
             ],
             [
              0.6666666666666666,
              "#ed7953"
             ],
             [
              0.7777777777777778,
              "#fb9f3a"
             ],
             [
              0.8888888888888888,
              "#fdca26"
             ],
             [
              1.0,
              "#f0f921"
             ]
            ],
            "type": "histogram2d"
           }
          ],
          "histogram2dcontour": [
           {
            "colorbar": {
             "outlinewidth": 0,
             "ticks": ""
            },
            "colorscale": [
             [
              0.0,
              "#0d0887"
             ],
             [
              0.1111111111111111,
              "#46039f"
             ],
             [
              0.2222222222222222,
              "#7201a8"
             ],
             [
              0.3333333333333333,
              "#9c179e"
             ],
             [
              0.4444444444444444,
              "#bd3786"
             ],
             [
              0.5555555555555556,
              "#d8576b"
             ],
             [
              0.6666666666666666,
              "#ed7953"
             ],
             [
              0.7777777777777778,
              "#fb9f3a"
             ],
             [
              0.8888888888888888,
              "#fdca26"
             ],
             [
              1.0,
              "#f0f921"
             ]
            ],
            "type": "histogram2dcontour"
           }
          ],
          "mesh3d": [
           {
            "colorbar": {
             "outlinewidth": 0,
             "ticks": ""
            },
            "type": "mesh3d"
           }
          ],
          "parcoords": [
           {
            "line": {
             "colorbar": {
              "outlinewidth": 0,
              "ticks": ""
             }
            },
            "type": "parcoords"
           }
          ],
          "pie": [
           {
            "automargin": true,
            "type": "pie"
           }
          ],
          "scatter": [
           {
            "marker": {
             "colorbar": {
              "outlinewidth": 0,
              "ticks": ""
             }
            },
            "type": "scatter"
           }
          ],
          "scatter3d": [
           {
            "line": {
             "colorbar": {
              "outlinewidth": 0,
              "ticks": ""
             }
            },
            "marker": {
             "colorbar": {
              "outlinewidth": 0,
              "ticks": ""
             }
            },
            "type": "scatter3d"
           }
          ],
          "scattercarpet": [
           {
            "marker": {
             "colorbar": {
              "outlinewidth": 0,
              "ticks": ""
             }
            },
            "type": "scattercarpet"
           }
          ],
          "scattergeo": [
           {
            "marker": {
             "colorbar": {
              "outlinewidth": 0,
              "ticks": ""
             }
            },
            "type": "scattergeo"
           }
          ],
          "scattergl": [
           {
            "marker": {
             "colorbar": {
              "outlinewidth": 0,
              "ticks": ""
             }
            },
            "type": "scattergl"
           }
          ],
          "scattermapbox": [
           {
            "marker": {
             "colorbar": {
              "outlinewidth": 0,
              "ticks": ""
             }
            },
            "type": "scattermapbox"
           }
          ],
          "scatterpolar": [
           {
            "marker": {
             "colorbar": {
              "outlinewidth": 0,
              "ticks": ""
             }
            },
            "type": "scatterpolar"
           }
          ],
          "scatterpolargl": [
           {
            "marker": {
             "colorbar": {
              "outlinewidth": 0,
              "ticks": ""
             }
            },
            "type": "scatterpolargl"
           }
          ],
          "scatterternary": [
           {
            "marker": {
             "colorbar": {
              "outlinewidth": 0,
              "ticks": ""
             }
            },
            "type": "scatterternary"
           }
          ],
          "surface": [
           {
            "colorbar": {
             "outlinewidth": 0,
             "ticks": ""
            },
            "colorscale": [
             [
              0.0,
              "#0d0887"
             ],
             [
              0.1111111111111111,
              "#46039f"
             ],
             [
              0.2222222222222222,
              "#7201a8"
             ],
             [
              0.3333333333333333,
              "#9c179e"
             ],
             [
              0.4444444444444444,
              "#bd3786"
             ],
             [
              0.5555555555555556,
              "#d8576b"
             ],
             [
              0.6666666666666666,
              "#ed7953"
             ],
             [
              0.7777777777777778,
              "#fb9f3a"
             ],
             [
              0.8888888888888888,
              "#fdca26"
             ],
             [
              1.0,
              "#f0f921"
             ]
            ],
            "type": "surface"
           }
          ],
          "table": [
           {
            "cells": {
             "fill": {
              "color": "#EBF0F8"
             },
             "line": {
              "color": "white"
             }
            },
            "header": {
             "fill": {
              "color": "#C8D4E3"
             },
             "line": {
              "color": "white"
             }
            },
            "type": "table"
           }
          ]
         },
         "layout": {
          "annotationdefaults": {
           "arrowcolor": "#2a3f5f",
           "arrowhead": 0,
           "arrowwidth": 1
          },
          "coloraxis": {
           "colorbar": {
            "outlinewidth": 0,
            "ticks": ""
           }
          },
          "colorscale": {
           "diverging": [
            [
             0,
             "#8e0152"
            ],
            [
             0.1,
             "#c51b7d"
            ],
            [
             0.2,
             "#de77ae"
            ],
            [
             0.3,
             "#f1b6da"
            ],
            [
             0.4,
             "#fde0ef"
            ],
            [
             0.5,
             "#f7f7f7"
            ],
            [
             0.6,
             "#e6f5d0"
            ],
            [
             0.7,
             "#b8e186"
            ],
            [
             0.8,
             "#7fbc41"
            ],
            [
             0.9,
             "#4d9221"
            ],
            [
             1,
             "#276419"
            ]
           ],
           "sequential": [
            [
             0.0,
             "#0d0887"
            ],
            [
             0.1111111111111111,
             "#46039f"
            ],
            [
             0.2222222222222222,
             "#7201a8"
            ],
            [
             0.3333333333333333,
             "#9c179e"
            ],
            [
             0.4444444444444444,
             "#bd3786"
            ],
            [
             0.5555555555555556,
             "#d8576b"
            ],
            [
             0.6666666666666666,
             "#ed7953"
            ],
            [
             0.7777777777777778,
             "#fb9f3a"
            ],
            [
             0.8888888888888888,
             "#fdca26"
            ],
            [
             1.0,
             "#f0f921"
            ]
           ],
           "sequentialminus": [
            [
             0.0,
             "#0d0887"
            ],
            [
             0.1111111111111111,
             "#46039f"
            ],
            [
             0.2222222222222222,
             "#7201a8"
            ],
            [
             0.3333333333333333,
             "#9c179e"
            ],
            [
             0.4444444444444444,
             "#bd3786"
            ],
            [
             0.5555555555555556,
             "#d8576b"
            ],
            [
             0.6666666666666666,
             "#ed7953"
            ],
            [
             0.7777777777777778,
             "#fb9f3a"
            ],
            [
             0.8888888888888888,
             "#fdca26"
            ],
            [
             1.0,
             "#f0f921"
            ]
           ]
          },
          "colorway": [
           "#636efa",
           "#EF553B",
           "#00cc96",
           "#ab63fa",
           "#FFA15A",
           "#19d3f3",
           "#FF6692",
           "#B6E880",
           "#FF97FF",
           "#FECB52"
          ],
          "font": {
           "color": "#2a3f5f"
          },
          "geo": {
           "bgcolor": "white",
           "lakecolor": "white",
           "landcolor": "#E5ECF6",
           "showlakes": true,
           "showland": true,
           "subunitcolor": "white"
          },
          "hoverlabel": {
           "align": "left"
          },
          "hovermode": "closest",
          "mapbox": {
           "style": "light"
          },
          "paper_bgcolor": "white",
          "plot_bgcolor": "#E5ECF6",
          "polar": {
           "angularaxis": {
            "gridcolor": "white",
            "linecolor": "white",
            "ticks": ""
           },
           "bgcolor": "#E5ECF6",
           "radialaxis": {
            "gridcolor": "white",
            "linecolor": "white",
            "ticks": ""
           }
          },
          "scene": {
           "xaxis": {
            "backgroundcolor": "#E5ECF6",
            "gridcolor": "white",
            "gridwidth": 2,
            "linecolor": "white",
            "showbackground": true,
            "ticks": "",
            "zerolinecolor": "white"
           },
           "yaxis": {
            "backgroundcolor": "#E5ECF6",
            "gridcolor": "white",
            "gridwidth": 2,
            "linecolor": "white",
            "showbackground": true,
            "ticks": "",
            "zerolinecolor": "white"
           },
           "zaxis": {
            "backgroundcolor": "#E5ECF6",
            "gridcolor": "white",
            "gridwidth": 2,
            "linecolor": "white",
            "showbackground": true,
            "ticks": "",
            "zerolinecolor": "white"
           }
          },
          "shapedefaults": {
           "line": {
            "color": "#2a3f5f"
           }
          },
          "ternary": {
           "aaxis": {
            "gridcolor": "white",
            "linecolor": "white",
            "ticks": ""
           },
           "baxis": {
            "gridcolor": "white",
            "linecolor": "white",
            "ticks": ""
           },
           "bgcolor": "#E5ECF6",
           "caxis": {
            "gridcolor": "white",
            "linecolor": "white",
            "ticks": ""
           }
          },
          "title": {
           "x": 0.05
          },
          "xaxis": {
           "automargin": true,
           "gridcolor": "white",
           "linecolor": "white",
           "ticks": "",
           "title": {
            "standoff": 15
           },
           "zerolinecolor": "white",
           "zerolinewidth": 2
          },
          "yaxis": {
           "automargin": true,
           "gridcolor": "white",
           "linecolor": "white",
           "ticks": "",
           "title": {
            "standoff": 15
           },
           "zerolinecolor": "white",
           "zerolinewidth": 2
          }
         }
        },
        "title": {
         "text": "Sugarcane"
        },
        "width": 700
       }
      },
      "text/html": "<div>\n        \n        \n            <div id=\"20341de0-b9ad-4705-8f6b-8403ebc3515a\" class=\"plotly-graph-div\" style=\"height:500px; width:700px;\"></div>\n            <script type=\"text/javascript\">\n                require([\"plotly\"], function(Plotly) {\n                    window.PLOTLYENV=window.PLOTLYENV || {};\n                    \n                if (document.getElementById(\"20341de0-b9ad-4705-8f6b-8403ebc3515a\")) {\n                    Plotly.newPlot(\n                        '20341de0-b9ad-4705-8f6b-8403ebc3515a',\n                        [{\"mode\": \"lines\", \"name\": \"Andhra Pradesh\", \"type\": \"scatter\", \"x\": [\"1990-01-01T00:00:00\", \"1991-01-01T00:00:00\", \"1992-01-01T00:00:00\", \"1993-01-01T00:00:00\", \"1994-01-01T00:00:00\", \"1995-01-01T00:00:00\", \"1996-01-01T00:00:00\", \"1997-01-01T00:00:00\", \"1998-01-01T00:00:00\", \"1999-01-01T00:00:00\", \"2000-01-01T00:00:00\", \"2001-01-01T00:00:00\", \"2002-01-01T00:00:00\", \"2003-01-01T00:00:00\", \"2004-01-01T00:00:00\", \"2005-01-01T00:00:00\", \"2006-01-01T00:00:00\", \"2007-01-01T00:00:00\", \"2008-01-01T00:00:00\", \"2009-01-01T00:00:00\", \"2010-01-01T00:00:00\", \"2011-01-01T00:00:00\", \"2012-01-01T00:00:00\", \"2013-01-01T00:00:00\", \"2014-01-01T00:00:00\", \"2015-01-01T00:00:00\", \"2016-01-01T00:00:00\", \"2017-01-01T00:00:00\", \"2018-01-01T00:00:00\", \"Crop\", \"State\"], \"y\": [27.23, 22.941999572570246, 25.36, 34.5181975781902, 43.72, 47.42, 51.91232535927523, 58.26587920408727, 66.04635133273071, 75.20528287627931, 85.74267383473308, 96.9102336325419, 103.97132149101638, 106.18240237920278, 103.54347629710112, 96.08, 89.0, 106.06, 119.72, 121.5848730254146, 117.7937858950383, 116.68448303328583, 120.14260831383379, 124.86370987516584, 127.7895929820646, 128.8058543928526, 129.4934071579358, 130.90234548576674, 132.84089609940747, \"Sugercane\", \"Andhra Pradesh\"]}, {\"mode\": \"lines\", \"name\": \"Bihar\", \"type\": \"scatter\", \"x\": [\"1990-01-01T00:00:00\", \"1991-01-01T00:00:00\", \"1992-01-01T00:00:00\", \"1993-01-01T00:00:00\", \"1994-01-01T00:00:00\", \"1995-01-01T00:00:00\", \"1996-01-01T00:00:00\", \"1997-01-01T00:00:00\", \"1998-01-01T00:00:00\", \"1999-01-01T00:00:00\", \"2000-01-01T00:00:00\", \"2001-01-01T00:00:00\", \"2002-01-01T00:00:00\", \"2003-01-01T00:00:00\", \"2004-01-01T00:00:00\", \"2005-01-01T00:00:00\", \"2006-01-01T00:00:00\", \"2007-01-01T00:00:00\", \"2008-01-01T00:00:00\", \"2009-01-01T00:00:00\", \"2010-01-01T00:00:00\", \"2011-01-01T00:00:00\", \"2012-01-01T00:00:00\", \"2013-01-01T00:00:00\", \"2014-01-01T00:00:00\", \"2015-01-01T00:00:00\", \"2016-01-01T00:00:00\", \"2017-01-01T00:00:00\", \"2018-01-01T00:00:00\", \"Crop\", \"State\"], \"y\": [23.03, 27.45275322730892, 31.8, 36.08333999932603, 40.36078694440992, 45.13, 50.471511710464185, 56.08, 61.67659878071733, 67.24346891574801, 72.78061040509202, 78.18463246563486, 82.71860491886402, 86.28050930592772, 88.87034562682601, 90.48, 92.0, 96.92, 92.39, 104.58368104414728, 84.41694201276417, 124.14192428392025, 50.59681200067709, 189.05126768500887, -71.24198556886745, 416.7417284810295, -500.943381330717, 1220.7381363568204, -2014.4212587811408, \"Sugercane\", \"Bihar\"]}, {\"mode\": \"lines\", \"name\": \"Karnataka\", \"type\": \"scatter\", \"x\": [\"1990-01-01T00:00:00\", \"1991-01-01T00:00:00\", \"1992-01-01T00:00:00\", \"1993-01-01T00:00:00\", \"1994-01-01T00:00:00\", \"1995-01-01T00:00:00\", \"1996-01-01T00:00:00\", \"1997-01-01T00:00:00\", \"1998-01-01T00:00:00\", \"1999-01-01T00:00:00\", \"2000-01-01T00:00:00\", \"2001-01-01T00:00:00\", \"2002-01-01T00:00:00\", \"2003-01-01T00:00:00\", \"2004-01-01T00:00:00\", \"2005-01-01T00:00:00\", \"2006-01-01T00:00:00\", \"2007-01-01T00:00:00\", \"2008-01-01T00:00:00\", \"2009-01-01T00:00:00\", \"2010-01-01T00:00:00\", \"2011-01-01T00:00:00\", \"2012-01-01T00:00:00\", \"2013-01-01T00:00:00\", \"2014-01-01T00:00:00\", \"2015-01-01T00:00:00\", \"2016-01-01T00:00:00\", \"2017-01-01T00:00:00\", \"2018-01-01T00:00:00\", \"Crop\", \"State\"], \"y\": [21.12, 23.75983149318411, 27.37, 31.964384300449115, 35.69, 37.02, 38.31, 43.59, 51.993501752444075, 63.281744548255446, 77.45472838743406, 93.36446124344346, 103.76459165539688, 107.51228881895643, 104.60755273412217, 94.91, 80.0, 76.29, 107.56, 195.51178086259023, 346.81822098155146, 536.1170983297417, 694.1790467476031, 713.0893999815991, 479.9823489727753, -56.864341558658225, -802.5651473993003, -1447.0817139487365, -1470.8439598449181, \"Sugercane\", \"Karnataka\"]}, {\"mode\": \"lines\", \"name\": \"Tamil Nadu\", \"type\": \"scatter\", \"x\": [\"1990-01-01T00:00:00\", \"1991-01-01T00:00:00\", \"1992-01-01T00:00:00\", \"1993-01-01T00:00:00\", \"1994-01-01T00:00:00\", \"1995-01-01T00:00:00\", \"1996-01-01T00:00:00\", \"1997-01-01T00:00:00\", \"1998-01-01T00:00:00\", \"1999-01-01T00:00:00\", \"2000-01-01T00:00:00\", \"2001-01-01T00:00:00\", \"2002-01-01T00:00:00\", \"2003-01-01T00:00:00\", \"2004-01-01T00:00:00\", \"2005-01-01T00:00:00\", \"2006-01-01T00:00:00\", \"2007-01-01T00:00:00\", \"2008-01-01T00:00:00\", \"2009-01-01T00:00:00\", \"2010-01-01T00:00:00\", \"2011-01-01T00:00:00\", \"2012-01-01T00:00:00\", \"2013-01-01T00:00:00\", \"2014-01-01T00:00:00\", \"2015-01-01T00:00:00\", \"2016-01-01T00:00:00\", \"2017-01-01T00:00:00\", \"2018-01-01T00:00:00\", \"Crop\", \"State\"], \"y\": [22.34, 25.09, 25.07, 34.0, 41.95, 41.97, 43.51, 43.08, 43.94671593422065, 46.82220647889653, 51.70647163402763, 58.15716978318519, 63.36779891463354, 66.89557094959599, 68.74048588807256, 68.86, 68.0, 73.35, 93.64, 109.33080999206871, 109.67444774940385, 103.14372196152924, 104.55501595756076, 117.41020170805386, 132.01334202476713, 138.64957768062504, 138.43439148272498, 140.14326109805623, 149.06005323250687, \"Sugercane\", \"Tamil Nadu\"]}],\n                        {\"height\": 500, \"template\": {\"data\": {\"bar\": [{\"error_x\": {\"color\": \"#2a3f5f\"}, \"error_y\": {\"color\": \"#2a3f5f\"}, \"marker\": {\"line\": {\"color\": \"#E5ECF6\", \"width\": 0.5}}, \"type\": \"bar\"}], \"barpolar\": [{\"marker\": {\"line\": {\"color\": \"#E5ECF6\", \"width\": 0.5}}, \"type\": \"barpolar\"}], \"carpet\": [{\"aaxis\": {\"endlinecolor\": \"#2a3f5f\", \"gridcolor\": \"white\", \"linecolor\": \"white\", \"minorgridcolor\": \"white\", \"startlinecolor\": \"#2a3f5f\"}, \"baxis\": {\"endlinecolor\": \"#2a3f5f\", \"gridcolor\": \"white\", \"linecolor\": \"white\", \"minorgridcolor\": \"white\", \"startlinecolor\": \"#2a3f5f\"}, \"type\": \"carpet\"}], \"choropleth\": [{\"colorbar\": {\"outlinewidth\": 0, \"ticks\": \"\"}, \"type\": \"choropleth\"}], \"contour\": [{\"colorbar\": {\"outlinewidth\": 0, \"ticks\": \"\"}, \"colorscale\": [[0.0, \"#0d0887\"], [0.1111111111111111, \"#46039f\"], [0.2222222222222222, \"#7201a8\"], [0.3333333333333333, \"#9c179e\"], [0.4444444444444444, \"#bd3786\"], [0.5555555555555556, \"#d8576b\"], [0.6666666666666666, \"#ed7953\"], [0.7777777777777778, \"#fb9f3a\"], [0.8888888888888888, \"#fdca26\"], [1.0, \"#f0f921\"]], \"type\": \"contour\"}], \"contourcarpet\": [{\"colorbar\": {\"outlinewidth\": 0, \"ticks\": \"\"}, \"type\": \"contourcarpet\"}], \"heatmap\": [{\"colorbar\": {\"outlinewidth\": 0, \"ticks\": \"\"}, \"colorscale\": [[0.0, \"#0d0887\"], [0.1111111111111111, \"#46039f\"], [0.2222222222222222, \"#7201a8\"], [0.3333333333333333, \"#9c179e\"], [0.4444444444444444, \"#bd3786\"], [0.5555555555555556, \"#d8576b\"], [0.6666666666666666, \"#ed7953\"], [0.7777777777777778, \"#fb9f3a\"], [0.8888888888888888, \"#fdca26\"], [1.0, \"#f0f921\"]], \"type\": \"heatmap\"}], \"heatmapgl\": [{\"colorbar\": {\"outlinewidth\": 0, \"ticks\": \"\"}, \"colorscale\": [[0.0, \"#0d0887\"], [0.1111111111111111, \"#46039f\"], [0.2222222222222222, \"#7201a8\"], [0.3333333333333333, \"#9c179e\"], [0.4444444444444444, \"#bd3786\"], [0.5555555555555556, \"#d8576b\"], [0.6666666666666666, \"#ed7953\"], [0.7777777777777778, \"#fb9f3a\"], [0.8888888888888888, \"#fdca26\"], [1.0, \"#f0f921\"]], \"type\": \"heatmapgl\"}], \"histogram\": [{\"marker\": {\"colorbar\": {\"outlinewidth\": 0, \"ticks\": \"\"}}, \"type\": \"histogram\"}], \"histogram2d\": [{\"colorbar\": {\"outlinewidth\": 0, \"ticks\": \"\"}, \"colorscale\": [[0.0, \"#0d0887\"], [0.1111111111111111, \"#46039f\"], [0.2222222222222222, \"#7201a8\"], [0.3333333333333333, \"#9c179e\"], [0.4444444444444444, \"#bd3786\"], [0.5555555555555556, \"#d8576b\"], [0.6666666666666666, \"#ed7953\"], [0.7777777777777778, \"#fb9f3a\"], [0.8888888888888888, \"#fdca26\"], [1.0, \"#f0f921\"]], \"type\": \"histogram2d\"}], \"histogram2dcontour\": [{\"colorbar\": {\"outlinewidth\": 0, \"ticks\": \"\"}, \"colorscale\": [[0.0, \"#0d0887\"], [0.1111111111111111, \"#46039f\"], [0.2222222222222222, \"#7201a8\"], [0.3333333333333333, \"#9c179e\"], [0.4444444444444444, \"#bd3786\"], [0.5555555555555556, \"#d8576b\"], [0.6666666666666666, \"#ed7953\"], [0.7777777777777778, \"#fb9f3a\"], [0.8888888888888888, \"#fdca26\"], [1.0, \"#f0f921\"]], \"type\": \"histogram2dcontour\"}], \"mesh3d\": [{\"colorbar\": {\"outlinewidth\": 0, \"ticks\": \"\"}, \"type\": \"mesh3d\"}], \"parcoords\": [{\"line\": {\"colorbar\": {\"outlinewidth\": 0, \"ticks\": \"\"}}, \"type\": \"parcoords\"}], \"pie\": [{\"automargin\": true, \"type\": \"pie\"}], \"scatter\": [{\"marker\": {\"colorbar\": {\"outlinewidth\": 0, \"ticks\": \"\"}}, \"type\": \"scatter\"}], \"scatter3d\": [{\"line\": {\"colorbar\": {\"outlinewidth\": 0, \"ticks\": \"\"}}, \"marker\": {\"colorbar\": {\"outlinewidth\": 0, \"ticks\": \"\"}}, \"type\": \"scatter3d\"}], \"scattercarpet\": [{\"marker\": {\"colorbar\": {\"outlinewidth\": 0, \"ticks\": \"\"}}, \"type\": \"scattercarpet\"}], \"scattergeo\": [{\"marker\": {\"colorbar\": {\"outlinewidth\": 0, \"ticks\": \"\"}}, \"type\": \"scattergeo\"}], \"scattergl\": [{\"marker\": {\"colorbar\": {\"outlinewidth\": 0, \"ticks\": \"\"}}, \"type\": \"scattergl\"}], \"scattermapbox\": [{\"marker\": {\"colorbar\": {\"outlinewidth\": 0, \"ticks\": \"\"}}, \"type\": \"scattermapbox\"}], \"scatterpolar\": [{\"marker\": {\"colorbar\": {\"outlinewidth\": 0, \"ticks\": \"\"}}, \"type\": \"scatterpolar\"}], \"scatterpolargl\": [{\"marker\": {\"colorbar\": {\"outlinewidth\": 0, \"ticks\": \"\"}}, \"type\": \"scatterpolargl\"}], \"scatterternary\": [{\"marker\": {\"colorbar\": {\"outlinewidth\": 0, \"ticks\": \"\"}}, \"type\": \"scatterternary\"}], \"surface\": [{\"colorbar\": {\"outlinewidth\": 0, \"ticks\": \"\"}, \"colorscale\": [[0.0, \"#0d0887\"], [0.1111111111111111, \"#46039f\"], [0.2222222222222222, \"#7201a8\"], [0.3333333333333333, \"#9c179e\"], [0.4444444444444444, \"#bd3786\"], [0.5555555555555556, \"#d8576b\"], [0.6666666666666666, \"#ed7953\"], [0.7777777777777778, \"#fb9f3a\"], [0.8888888888888888, \"#fdca26\"], [1.0, \"#f0f921\"]], \"type\": \"surface\"}], \"table\": [{\"cells\": {\"fill\": {\"color\": \"#EBF0F8\"}, \"line\": {\"color\": \"white\"}}, \"header\": {\"fill\": {\"color\": \"#C8D4E3\"}, \"line\": {\"color\": \"white\"}}, \"type\": \"table\"}]}, \"layout\": {\"annotationdefaults\": {\"arrowcolor\": \"#2a3f5f\", \"arrowhead\": 0, \"arrowwidth\": 1}, \"coloraxis\": {\"colorbar\": {\"outlinewidth\": 0, \"ticks\": \"\"}}, \"colorscale\": {\"diverging\": [[0, \"#8e0152\"], [0.1, \"#c51b7d\"], [0.2, \"#de77ae\"], [0.3, \"#f1b6da\"], [0.4, \"#fde0ef\"], [0.5, \"#f7f7f7\"], [0.6, \"#e6f5d0\"], [0.7, \"#b8e186\"], [0.8, \"#7fbc41\"], [0.9, \"#4d9221\"], [1, \"#276419\"]], \"sequential\": [[0.0, \"#0d0887\"], [0.1111111111111111, \"#46039f\"], [0.2222222222222222, \"#7201a8\"], [0.3333333333333333, \"#9c179e\"], [0.4444444444444444, \"#bd3786\"], [0.5555555555555556, \"#d8576b\"], [0.6666666666666666, \"#ed7953\"], [0.7777777777777778, \"#fb9f3a\"], [0.8888888888888888, \"#fdca26\"], [1.0, \"#f0f921\"]], \"sequentialminus\": [[0.0, \"#0d0887\"], [0.1111111111111111, \"#46039f\"], [0.2222222222222222, \"#7201a8\"], [0.3333333333333333, \"#9c179e\"], [0.4444444444444444, \"#bd3786\"], [0.5555555555555556, \"#d8576b\"], [0.6666666666666666, \"#ed7953\"], [0.7777777777777778, \"#fb9f3a\"], [0.8888888888888888, \"#fdca26\"], [1.0, \"#f0f921\"]]}, \"colorway\": [\"#636efa\", \"#EF553B\", \"#00cc96\", \"#ab63fa\", \"#FFA15A\", \"#19d3f3\", \"#FF6692\", \"#B6E880\", \"#FF97FF\", \"#FECB52\"], \"font\": {\"color\": \"#2a3f5f\"}, \"geo\": {\"bgcolor\": \"white\", \"lakecolor\": \"white\", \"landcolor\": \"#E5ECF6\", \"showlakes\": true, \"showland\": true, \"subunitcolor\": \"white\"}, \"hoverlabel\": {\"align\": \"left\"}, \"hovermode\": \"closest\", \"mapbox\": {\"style\": \"light\"}, \"paper_bgcolor\": \"white\", \"plot_bgcolor\": \"#E5ECF6\", \"polar\": {\"angularaxis\": {\"gridcolor\": \"white\", \"linecolor\": \"white\", \"ticks\": \"\"}, \"bgcolor\": \"#E5ECF6\", \"radialaxis\": {\"gridcolor\": \"white\", \"linecolor\": \"white\", \"ticks\": \"\"}}, \"scene\": {\"xaxis\": {\"backgroundcolor\": \"#E5ECF6\", \"gridcolor\": \"white\", \"gridwidth\": 2, \"linecolor\": \"white\", \"showbackground\": true, \"ticks\": \"\", \"zerolinecolor\": \"white\"}, \"yaxis\": {\"backgroundcolor\": \"#E5ECF6\", \"gridcolor\": \"white\", \"gridwidth\": 2, \"linecolor\": \"white\", \"showbackground\": true, \"ticks\": \"\", \"zerolinecolor\": \"white\"}, \"zaxis\": {\"backgroundcolor\": \"#E5ECF6\", \"gridcolor\": \"white\", \"gridwidth\": 2, \"linecolor\": \"white\", \"showbackground\": true, \"ticks\": \"\", \"zerolinecolor\": \"white\"}}, \"shapedefaults\": {\"line\": {\"color\": \"#2a3f5f\"}}, \"ternary\": {\"aaxis\": {\"gridcolor\": \"white\", \"linecolor\": \"white\", \"ticks\": \"\"}, \"baxis\": {\"gridcolor\": \"white\", \"linecolor\": \"white\", \"ticks\": \"\"}, \"bgcolor\": \"#E5ECF6\", \"caxis\": {\"gridcolor\": \"white\", \"linecolor\": \"white\", \"ticks\": \"\"}}, \"title\": {\"x\": 0.05}, \"xaxis\": {\"automargin\": true, \"gridcolor\": \"white\", \"linecolor\": \"white\", \"ticks\": \"\", \"title\": {\"standoff\": 15}, \"zerolinecolor\": \"white\", \"zerolinewidth\": 2}, \"yaxis\": {\"automargin\": true, \"gridcolor\": \"white\", \"linecolor\": \"white\", \"ticks\": \"\", \"title\": {\"standoff\": 15}, \"zerolinecolor\": \"white\", \"zerolinewidth\": 2}}}, \"title\": {\"text\": \"Sugarcane\"}, \"width\": 700},\n                        {\"responsive\": true}\n                    ).then(function(){\n                            \nvar gd = document.getElementById('20341de0-b9ad-4705-8f6b-8403ebc3515a');\nvar x = new MutationObserver(function (mutations, observer) {{\n        var display = window.getComputedStyle(gd).display;\n        if (!display || display === 'none') {{\n            console.log([gd, 'removed!']);\n            Plotly.purge(gd);\n            observer.disconnect();\n        }}\n}});\n\n// Listen for the removal of the full notebook cells\nvar notebookContainer = gd.closest('#notebook-container');\nif (notebookContainer) {{\n    x.observe(notebookContainer, {childList: true});\n}}\n\n// Listen for the clearing of the current output cell\nvar outputEl = gd.closest('.output');\nif (outputEl) {{\n    x.observe(outputEl, {childList: true});\n}}\n\n                        })\n                };\n                });\n            </script>\n        </div>"
     },
     "metadata": {},
     "output_type": "display_data"
    }
   ],
   "source": [
    "ts_plotter(data=sugarcane,length=len(sugarcane.index),title=\"Sugarcane\")\n",
    "\n"
   ],
   "metadata": {
    "collapsed": false,
    "pycharm": {
     "name": "#%%\n",
     "is_executing": false
    }
   }
  },
  {
   "cell_type": "code",
   "execution_count": 96,
   "outputs": [],
   "source": [],
   "metadata": {
    "collapsed": false,
    "pycharm": {
     "name": "#%%\n",
     "is_executing": false
    }
   }
  },
  {
   "cell_type": "code",
   "execution_count": 96,
   "outputs": [],
   "source": [],
   "metadata": {
    "collapsed": false,
    "pycharm": {
     "name": "#%%\n",
     "is_executing": false
    }
   }
  },
  {
   "cell_type": "code",
   "execution_count": null,
   "outputs": [],
   "source": [
    "\n"
   ],
   "metadata": {
    "collapsed": false,
    "pycharm": {
     "name": "#%%\n"
    }
   }
  }
 ],
 "metadata": {
  "kernelspec": {
   "display_name": "Python 3",
   "language": "python",
   "name": "python3"
  },
  "language_info": {
   "codemirror_mode": {
    "name": "ipython",
    "version": 3
   },
   "file_extension": ".py",
   "mimetype": "text/x-python",
   "name": "python",
   "nbconvert_exporter": "python",
   "pygments_lexer": "ipython3",
   "version": "3.5.2"
  },
  "pycharm": {
   "stem_cell": {
    "cell_type": "raw",
    "source": [],
    "metadata": {
     "collapsed": false
    }
   }
  }
 },
 "nbformat": 4,
 "nbformat_minor": 1
}